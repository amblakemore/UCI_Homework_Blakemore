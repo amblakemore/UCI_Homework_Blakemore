{
 "cells": [
  {
   "cell_type": "markdown",
   "metadata": {},
   "source": [
    "# WeatherPy\n",
    "----\n",
    "\n",
    "#### Note\n",
    "* Instructions have been included for each segment. You do not have to follow them exactly, but they are included to help you think through the steps."
   ]
  },
  {
   "cell_type": "code",
   "execution_count": 1,
   "metadata": {
    "scrolled": true
   },
   "outputs": [],
   "source": [
    "# Setup\n",
    "import pandas as pd\n",
    "import numpy as np\n",
    "import matplotlib.pyplot as plt\n",
    "import requests\n",
    "import time\n",
    "from config import api_key\n",
    "from citipy import citipy\n",
    "import scipy.stats as st\n",
    "from scipy.stats import linregress"
   ]
  },
  {
   "cell_type": "markdown",
   "metadata": {},
   "source": [
    "## Generate Cities List"
   ]
  },
  {
   "cell_type": "code",
   "execution_count": 2,
   "metadata": {},
   "outputs": [
    {
     "data": {
      "text/plain": [
       "620"
      ]
     },
     "execution_count": 2,
     "metadata": {},
     "output_type": "execute_result"
    }
   ],
   "source": [
    "# Pulling the Cities\n",
    "lat_range = (-90, 90)\n",
    "lng_range = (-180, 180)\n",
    "lat_lng_list = []\n",
    "cities = []\n",
    "\n",
    "# Generate Latitudes\n",
    "lat = np.random.uniform(lat_range[0], lat_range[1],size= 1500)\n",
    "lng = np.random.uniform(lng_range[0], lng_range[1],size= 1500)\n",
    "lat_lng_list = zip(lat, lng)\n",
    "\n",
    "for lat_lng in lat_lng_list:\n",
    "    city = citipy.nearest_city(lat_lng[0], lat_lng[1]).city_name\n",
    "    if city not in cities:\n",
    "        cities.append(city)\n",
    "len(cities)"
   ]
  },
  {
   "cell_type": "markdown",
   "metadata": {},
   "source": [
    "### Perform API Calls\n",
    "* Perform a weather check on each city using a series of successive API calls.\n",
    "* Include a print log of each city as it'sbeing processed (with the city number and city name).\n"
   ]
  },
  {
   "cell_type": "code",
   "execution_count": 3,
   "metadata": {
    "scrolled": true
   },
   "outputs": [],
   "source": [
    "#url = \"http://api.openweathermap.org/data/2.5/weather?\"\n",
    "#query_url = url + \"appid=\" + api_key + \"&q=\" + \"London\"\n",
    "#result = requests.get(query_url).json()\n",
    "#result"
   ]
  },
  {
   "cell_type": "code",
   "execution_count": 4,
   "metadata": {
    "scrolled": true
   },
   "outputs": [
    {
     "name": "stdout",
     "output_type": "stream",
     "text": [
      "1 thompson\n",
      "2 katsuura\n",
      "3 arraial do cabo\n",
      "4 lavrentiya\n",
      "5 provideniya\n",
      "6 jamestown\n",
      "7 santiago\n",
      "8 korsakovo\n",
      "9 gaoual\n",
      "10 nhulunbuy\n",
      "11 fortuna\n",
      "12 isangel\n",
      "13 ushuaia\n",
      "14 hilo\n",
      "15 grand-santi\n",
      "16 eyl\n",
      "17 svetlyy\n",
      "18 cape town\n",
      "19 bilibino\n",
      "20 nanortalik\n",
      "City not found\n",
      "22 dikson\n",
      "23 hattiesburg\n",
      "24 new norfolk\n",
      "25 qaanaaq\n",
      "26 roma\n",
      "27 kavaratti\n",
      "28 margate\n",
      "29 hobart\n",
      "30 shitanjing\n",
      "31 butaritari\n",
      "32 rikitea\n",
      "City not found\n",
      "34 rincon\n",
      "City not found\n",
      "36 albany\n",
      "37 alekseyevsk\n",
      "38 boyolangu\n",
      "39 sept-iles\n",
      "40 sao joao da barra\n",
      "41 maltahohe\n",
      "42 leningradskiy\n",
      "43 bredasdorp\n",
      "44 carnarvon\n",
      "45 georgetown\n",
      "46 yerbogachen\n",
      "47 fare\n",
      "48 aklavik\n",
      "49 port-gentil\n",
      "50 masunga\n",
      "51 binga\n",
      "City not found\n",
      "53 tasiilaq\n",
      "54 ouahigouya\n",
      "55 mae ramat\n",
      "56 torbay\n",
      "57 haines junction\n",
      "58 praia da vitoria\n",
      "59 lorengau\n",
      "60 mataura\n",
      "61 camana\n",
      "62 atuona\n",
      "City not found\n",
      "64 punta arenas\n",
      "65 mar del plata\n",
      "66 gallup\n",
      "67 tommot\n",
      "68 vanavara\n",
      "City not found\n",
      "70 hithadhoo\n",
      "71 mahebourg\n",
      "72 geraldton\n",
      "73 severo-kurilsk\n",
      "74 alofi\n",
      "75 srednekolymsk\n",
      "76 hermanus\n",
      "77 barrow\n",
      "78 saint-francois\n",
      "79 itarema\n",
      "80 longyearbyen\n",
      "81 marrakesh\n",
      "82 westport\n",
      "83 ambon\n",
      "84 kapaa\n",
      "85 enshi\n",
      "86 harper\n",
      "City not found\n",
      "88 narsaq\n",
      "89 puerto ayora\n",
      "90 bluff\n",
      "91 muros\n",
      "92 saskylakh\n",
      "93 victoria\n",
      "94 vardo\n",
      "95 trofors\n",
      "96 olafsvik\n",
      "97 bethel\n",
      "98 vaini\n",
      "99 port alfred\n",
      "100 bandarbeyla\n",
      "101 ikalamavony\n",
      "102 sao gabriel da cachoeira\n",
      "103 paranagua\n",
      "104 taltal\n",
      "105 freeport\n",
      "106 goderich\n",
      "City not found\n",
      "108 ribeira grande\n",
      "109 san quintin\n",
      "110 sao filipe\n",
      "111 kriel\n",
      "112 guerrero negro\n",
      "113 keti bandar\n",
      "114 ancud\n",
      "115 goundam\n",
      "116 ilulissat\n",
      "117 dolinsk\n",
      "118 chernyshevskiy\n",
      "119 magadan\n",
      "120 thessalon\n",
      "121 busselton\n",
      "122 waingapu\n",
      "123 saint george\n",
      "124 port elizabeth\n",
      "125 ambikapur\n",
      "126 berlevag\n",
      "127 kushima\n",
      "128 san patricio\n",
      "129 kropotkin\n",
      "130 avarua\n",
      "131 el alto\n",
      "132 half moon bay\n",
      "City not found\n",
      "134 chokurdakh\n",
      "135 salym\n",
      "136 namibe\n",
      "137 brigantine\n",
      "City not found\n",
      "139 acurenam\n",
      "140 ilebo\n",
      "141 puerto baquerizo moreno\n",
      "City not found\n",
      "143 saint-augustin\n",
      "144 bhakkar\n",
      "145 bembereke\n",
      "146 oktyabrskoye\n",
      "147 chuy\n",
      "148 svetlogorsk\n",
      "149 kismayo\n",
      "150 sisimiut\n",
      "151 roald\n",
      "152 caravelas\n",
      "153 mulchen\n",
      "154 kununurra\n",
      "155 tautira\n",
      "156 saldanha\n",
      "157 takoradi\n",
      "158 upernavik\n",
      "159 souillac\n",
      "160 sola\n",
      "161 chapais\n",
      "162 dandong\n",
      "163 kingman\n",
      "164 shimoda\n",
      "165 pulandian\n",
      "166 tuatapere\n",
      "City not found\n",
      "168 eureka\n",
      "169 muroto\n",
      "170 whitehorse\n",
      "171 lompoc\n",
      "172 nemuro\n",
      "173 port macquarie\n",
      "174 turukhansk\n",
      "175 gryazi\n",
      "176 inhambane\n",
      "177 cherskiy\n",
      "178 likasi\n",
      "179 mount gambier\n",
      "180 ponta do sol\n",
      "181 wolfeboro\n",
      "182 verkhnetulomskiy\n",
      "183 nortelandia\n",
      "184 port hardy\n",
      "185 sungaipenuh\n",
      "186 morgan hill\n",
      "187 prince rupert\n",
      "188 bozoum\n",
      "189 sri aman\n",
      "190 yulara\n",
      "191 asau\n",
      "192 codrington\n",
      "193 lebu\n",
      "194 rajpipla\n",
      "195 yakeshi\n",
      "196 buala\n",
      "197 tornio\n",
      "198 aksu\n",
      "199 khani\n",
      "200 yellowknife\n",
      "201 fukue\n",
      "202 ust-ishim\n",
      "203 husavik\n",
      "204 mala vyska\n",
      "205 hamilton\n",
      "206 bage\n",
      "207 palaiokomi\n",
      "City not found\n",
      "209 hasaki\n",
      "210 kruisfontein\n",
      "211 san cristobal\n",
      "212 port hedland\n",
      "213 alexandria\n",
      "214 khatanga\n",
      "215 clyde river\n",
      "216 tomatlan\n",
      "City not found\n",
      "218 mizan teferi\n",
      "219 kieta\n",
      "220 garden city\n",
      "221 fairbanks\n",
      "222 pevek\n",
      "223 tuktoyaktuk\n",
      "224 aleksandrov gay\n",
      "City not found\n",
      "226 tiksi\n",
      "227 imeni babushkina\n",
      "228 nagato\n",
      "City not found\n",
      "230 point fortin\n",
      "231 jiujiang\n",
      "232 hovd\n",
      "233 faya\n",
      "234 college\n",
      "235 mackay\n",
      "City not found\n",
      "237 batemans bay\n",
      "238 padang\n",
      "239 nadvoitsy\n",
      "240 najran\n",
      "241 witney\n",
      "242 shahpura\n",
      "243 cockburn town\n",
      "244 agaro\n",
      "245 kalmunai\n",
      "City not found\n",
      "247 matay\n",
      "248 carballo\n",
      "249 gravdal\n",
      "250 marsh harbour\n",
      "251 morondava\n",
      "252 georgiyevka\n",
      "253 lethem\n",
      "254 savinka\n",
      "255 nukus\n",
      "256 chara\n",
      "City not found\n",
      "258 gornopravdinsk\n",
      "259 coos bay\n",
      "260 kodiak\n",
      "261 houma\n",
      "262 rudnogorsk\n",
      "263 ayagoz\n",
      "264 kavieng\n",
      "265 faanui\n",
      "266 comodoro rivadavia\n",
      "267 yayva\n",
      "268 hirara\n",
      "269 dingle\n",
      "270 ahipara\n",
      "271 tangshan\n",
      "272 buchanan\n",
      "273 alice springs\n",
      "274 energetik\n",
      "275 bengkulu\n",
      "276 saint-philippe\n",
      "277 milkovo\n",
      "City not found\n",
      "279 teya\n",
      "280 zyryanka\n",
      "281 moree\n",
      "282 broome\n",
      "283 puerto rico\n",
      "284 hede\n",
      "285 ambilobe\n",
      "286 port lincoln\n",
      "287 skala\n",
      "288 miri\n",
      "289 korla\n",
      "290 abonnema\n",
      "291 ust-kuyga\n",
      "292 port blair\n",
      "293 longhua\n",
      "294 menomonie\n",
      "295 cabo san lucas\n",
      "296 deniliquin\n",
      "297 ahuimanu\n",
      "298 saint anthony\n",
      "299 kloulklubed\n",
      "City not found\n",
      "301 adrar\n",
      "302 te anau\n",
      "303 cossato\n",
      "304 aberdeen\n",
      "305 constitucion\n",
      "306 lagoa\n",
      "307 tual\n",
      "308 esperance\n",
      "309 airai\n",
      "310 fort nelson\n",
      "311 kudahuvadhoo\n",
      "312 trinidad\n",
      "City not found\n",
      "314 danshui\n",
      "315 lerik\n",
      "316 lichinga\n",
      "317 baft\n",
      "318 east london\n",
      "319 acarau\n",
      "320 shumerlya\n",
      "321 chiang khong\n",
      "322 kennett\n",
      "City not found\n",
      "324 mareeba\n",
      "325 mabaruma\n",
      "326 new plymouth\n",
      "327 nantucket\n",
      "328 kiknur\n",
      "329 belyy yar\n",
      "330 bull savanna\n",
      "331 komsomolskiy\n",
      "332 cidreira\n",
      "333 lac du bonnet\n",
      "334 khasan\n",
      "City not found\n",
      "336 vilyuysk\n",
      "337 mount isa\n",
      "338 naze\n",
      "339 wad madani\n",
      "340 los lunas\n",
      "341 nazilli\n",
      "342 damghan\n",
      "343 namatanai\n",
      "344 emerald\n",
      "345 sulphur springs\n",
      "346 moranbah\n",
      "347 kirakira\n",
      "348 buraydah\n",
      "349 castro\n",
      "350 novy bydzov\n",
      "351 chancay\n",
      "City not found\n",
      "353 omboue\n",
      "354 touros\n",
      "355 edson\n",
      "356 vostok\n",
      "357 ovsyanka\n",
      "358 gillette\n",
      "City not found\n",
      "360 santa isabel do rio negro\n",
      "361 sibolga\n",
      "362 muzhi\n",
      "363 dubbo\n",
      "364 aitape\n",
      "365 naryan-mar\n",
      "366 bereda\n",
      "367 pauini\n",
      "368 ardakan\n",
      "City not found\n",
      "370 grindavik\n",
      "371 nikki\n",
      "372 mandalgovi\n",
      "373 dimona\n",
      "374 brumado\n",
      "375 nabire\n",
      "376 khandyga\n",
      "377 brokopondo\n",
      "378 pachino\n",
      "379 ola\n",
      "380 puerto carreno\n",
      "381 gamba\n",
      "382 huarmey\n",
      "383 esfarayen\n",
      "384 khairagarh\n",
      "385 muisne\n",
      "386 ciudad bolivar\n",
      "387 longkou\n",
      "388 caxito\n",
      "389 ulladulla\n",
      "390 ituverava\n",
      "391 salta\n",
      "392 soavinandriana\n",
      "393 bullhead city\n",
      "City not found\n",
      "395 arenys de mar\n",
      "396 sokyryany\n",
      "397 beringovskiy\n",
      "398 acapulco\n",
      "399 coihaique\n",
      "400 casper\n",
      "401 governador dix-sept rosado\n",
      "402 beaverlodge\n",
      "403 chumikan\n",
      "404 san carlos de bariloche\n",
      "405 tiarei\n",
      "406 ossora\n",
      "407 north bend\n",
      "408 zheleznodorozhnyy\n",
      "409 salalah\n",
      "410 paamiut\n",
      "411 bethanien\n",
      "412 matata\n",
      "413 buncrana\n",
      "414 matara\n",
      "415 bashtanka\n",
      "416 kristiinankaupunki\n",
      "417 vallenar\n",
      "418 vila velha\n",
      "419 bambous virieux\n",
      "420 tynda\n",
      "421 linqing\n",
      "422 tecoanapa\n",
      "423 manokwari\n",
      "424 embrach\n",
      "City not found\n",
      "426 atar\n",
      "427 sault sainte marie\n",
      "428 dauphin\n",
      "429 basco\n",
      "430 mantua\n",
      "431 axim\n",
      "432 necochea\n",
      "433 barao de melgaco\n",
      "434 irtyshskiy\n",
      "435 grand gaube\n",
      "436 manzhouli\n",
      "437 aquiraz\n",
      "438 de-kastri\n",
      "439 oistins\n",
      "440 consett\n",
      "441 tarakan\n",
      "City not found\n",
      "443 san juan\n",
      "444 gornyy\n",
      "445 north platte\n",
      "446 dombarovskiy\n",
      "447 pitimbu\n",
      "448 virginia beach\n",
      "449 tamiahua\n",
      "450 gashua\n",
      "451 palora\n",
      "452 payo\n",
      "453 sitka\n",
      "454 jawa\n",
      "455 aloleng\n",
      "456 derzhavinsk\n",
      "457 norman wells\n",
      "458 drayton valley\n",
      "459 les cayes\n",
      "460 beloha\n",
      "461 batangafo\n",
      "462 aste\n",
      "463 bajina basta\n",
      "464 karaton\n",
      "465 erdenet\n",
      "466 siva\n",
      "467 betsiamites\n",
      "468 tenenkou\n",
      "469 rognan\n",
      "470 hervey bay\n",
      "471 cochrane\n",
      "472 sfantu gheorghe\n",
      "City not found\n",
      "474 maramba\n",
      "475 oranjemund\n",
      "476 ndele\n",
      "477 kamenka\n",
      "478 formia\n",
      "479 tessalit\n",
      "480 mujiayingzi\n",
      "481 san ignacio\n",
      "482 luganville\n",
      "City not found\n",
      "484 tarnow\n",
      "485 petrovsk-zabaykalskiy\n",
      "486 amuntai\n",
      "487 annau\n",
      "488 siparia\n",
      "489 quzhou\n",
      "490 male\n",
      "491 nove zamky\n",
      "492 crato\n",
      "493 kirksville\n",
      "494 alyangula\n",
      "495 nagornskiy\n",
      "496 fredonia\n",
      "497 coquimbo\n",
      "City not found\n",
      "499 kaka\n",
      "500 poum\n",
      "501 nikolskoye\n",
      "502 kaili\n",
      "503 gisborne\n",
      "504 hofn\n",
      "505 lagos\n",
      "506 tilichiki\n",
      "507 ixtapa\n",
      "508 selma\n",
      "509 tigil\n",
      "510 yeppoon\n",
      "511 moose factory\n",
      "512 dordrecht\n",
      "513 tonekabon\n",
      "514 umm lajj\n",
      "515 fonte boa\n",
      "516 boca do acre\n",
      "517 pasighat\n",
      "518 fartura\n",
      "519 forestville\n",
      "520 tefe\n",
      "521 preston\n",
      "522 dire\n",
      "523 aguimes\n",
      "City not found\n",
      "525 bahia blanca\n",
      "526 uruzgan\n",
      "527 benguela\n",
      "528 howard springs\n",
      "529 apt\n",
      "530 tsogni\n",
      "531 cururupu\n",
      "532 aswan\n",
      "533 la ronge\n",
      "534 kosh-agach\n",
      "535 bulolo\n",
      "536 maple creek\n",
      "537 olhao\n",
      "538 talaya\n",
      "539 petauke\n",
      "540 cadiz\n",
      "541 masvingo\n",
      "542 labuhan\n",
      "543 suntar\n",
      "544 kyra\n",
      "545 shingu\n",
      "546 lyuban\n",
      "547 skjervoy\n",
      "548 stephenville\n",
      "549 wawa\n",
      "550 juba\n",
      "551 shafranovo\n",
      "City not found\n",
      "553 mataram\n",
      "554 byron bay\n",
      "555 changji\n",
      "City not found\n",
      "557 laguna\n",
      "558 seoul\n",
      "559 hami\n",
      "560 vredendal\n",
      "561 auki\n",
      "562 nome\n",
      "563 onega\n",
      "564 teacapan\n",
      "565 bonthe\n",
      "566 klaksvik\n",
      "567 gore\n",
      "568 sedhiou\n",
      "569 vao\n",
      "570 lamu\n",
      "571 quang ngai\n",
      "572 dong hoi\n",
      "573 severnyy-kospashskiy\n",
      "574 ambulu\n",
      "575 omsukchan\n",
      "576 caruray\n",
      "577 meulaboh\n",
      "578 chongwe\n",
      "579 rosarito\n",
      "580 akure\n",
      "581 taksimo\n",
      "City not found\n",
      "583 rosetta\n",
      "584 kommunisticheskiy\n",
      "585 trincomalee\n",
      "586 yangjiang\n",
      "587 vavatenina\n",
      "588 the valley\n",
      "589 tazovskiy\n",
      "590 nizhniy odes\n",
      "591 smithers\n",
      "City not found\n",
      "593 roswell\n",
      "594 haflong\n",
      "City not found\n",
      "596 evensk\n",
      "597 burns lake\n",
      "598 yar-sale\n",
      "599 puerto del rosario\n",
      "600 vitoria da conquista\n",
      "601 lalibela\n",
      "602 san luis\n",
      "603 kenora\n",
      "604 avera\n",
      "605 ambad\n",
      "606 russell\n",
      "607 iqaluit\n",
      "608 baykit\n",
      "609 hobyo\n",
      "610 sur\n",
      "611 maceio\n",
      "612 rio grande\n",
      "613 victor rosales\n",
      "614 soyo\n",
      "615 tiznit\n",
      "616 kaduqli\n"
     ]
    },
    {
     "name": "stdout",
     "output_type": "stream",
     "text": [
      "617 atasu\n",
      "618 nago\n",
      "619 rio gallegos\n",
      "620 hanover\n"
     ]
    }
   ],
   "source": [
    "data= []\n",
    "counter = 0\n",
    "url = \"http://api.openweathermap.org/data/2.5/weather?\"\n",
    "units = \"imperial\"\n",
    "query_url = f\"{url}appid={api_key}&units={units}&q=\" \n",
    "#print(query_url)\n",
    "for city in cities:\n",
    "    result = requests.get(query_url+city).json()\n",
    "    counter = counter + 1\n",
    "    #print(result)\n",
    "    try:\n",
    "        lat = result[\"coord\"][\"lat\"]\n",
    "        lng = result[\"coord\"][\"lon\"]\n",
    "        temp_max = result[\"main\"][\"temp_max\"]\n",
    "        humidity = result[\"main\"][\"humidity\"]\n",
    "        cloudiness = result[\"clouds\"][\"all\"]\n",
    "        wind_speed = result[\"wind\"][\"speed\"]\n",
    "        country = result[\"sys\"][\"country\"]\n",
    "        date = result[\"dt\"]\n",
    "        data.append([city, lat, lng, temp_max, humidity, cloudiness, wind_speed, country, date])\n",
    "        print(f\"{counter} {city}\")\n",
    "        #print(city)\n",
    "        time.sleep(1)\n",
    "        \n",
    "    except:\n",
    "        print(\"City not found\")"
   ]
  },
  {
   "cell_type": "markdown",
   "metadata": {},
   "source": [
    "### Convert Raw Data to DataFrame\n",
    "* Export the city data into a .csv.\n",
    "* Display the DataFrame"
   ]
  },
  {
   "cell_type": "code",
   "execution_count": 27,
   "metadata": {},
   "outputs": [
    {
     "data": {
      "text/html": [
       "<div>\n",
       "<style scoped>\n",
       "    .dataframe tbody tr th:only-of-type {\n",
       "        vertical-align: middle;\n",
       "    }\n",
       "\n",
       "    .dataframe tbody tr th {\n",
       "        vertical-align: top;\n",
       "    }\n",
       "\n",
       "    .dataframe thead th {\n",
       "        text-align: right;\n",
       "    }\n",
       "</style>\n",
       "<table border=\"1\" class=\"dataframe\">\n",
       "  <thead>\n",
       "    <tr style=\"text-align: right;\">\n",
       "      <th></th>\n",
       "      <th>City</th>\n",
       "      <th>Lat</th>\n",
       "      <th>Lng</th>\n",
       "      <th>Max Temp</th>\n",
       "      <th>Humidity</th>\n",
       "      <th>Cloudiness</th>\n",
       "      <th>Wind Speed</th>\n",
       "      <th>Country</th>\n",
       "      <th>Date</th>\n",
       "    </tr>\n",
       "  </thead>\n",
       "  <tbody>\n",
       "    <tr>\n",
       "      <th>0</th>\n",
       "      <td>thompson</td>\n",
       "      <td>55.74</td>\n",
       "      <td>-97.86</td>\n",
       "      <td>28.40</td>\n",
       "      <td>74</td>\n",
       "      <td>75</td>\n",
       "      <td>10.29</td>\n",
       "      <td>CA</td>\n",
       "      <td>1603325810</td>\n",
       "    </tr>\n",
       "    <tr>\n",
       "      <th>1</th>\n",
       "      <td>katsuura</td>\n",
       "      <td>35.13</td>\n",
       "      <td>140.30</td>\n",
       "      <td>64.40</td>\n",
       "      <td>63</td>\n",
       "      <td>75</td>\n",
       "      <td>9.17</td>\n",
       "      <td>JP</td>\n",
       "      <td>1603325661</td>\n",
       "    </tr>\n",
       "    <tr>\n",
       "      <th>2</th>\n",
       "      <td>arraial do cabo</td>\n",
       "      <td>-22.97</td>\n",
       "      <td>-42.03</td>\n",
       "      <td>73.13</td>\n",
       "      <td>88</td>\n",
       "      <td>9</td>\n",
       "      <td>14.41</td>\n",
       "      <td>BR</td>\n",
       "      <td>1603325721</td>\n",
       "    </tr>\n",
       "    <tr>\n",
       "      <th>3</th>\n",
       "      <td>lavrentiya</td>\n",
       "      <td>65.58</td>\n",
       "      <td>-171.00</td>\n",
       "      <td>38.17</td>\n",
       "      <td>85</td>\n",
       "      <td>0</td>\n",
       "      <td>5.77</td>\n",
       "      <td>RU</td>\n",
       "      <td>1603325814</td>\n",
       "    </tr>\n",
       "    <tr>\n",
       "      <th>4</th>\n",
       "      <td>provideniya</td>\n",
       "      <td>64.38</td>\n",
       "      <td>-173.30</td>\n",
       "      <td>41.00</td>\n",
       "      <td>80</td>\n",
       "      <td>90</td>\n",
       "      <td>2.24</td>\n",
       "      <td>RU</td>\n",
       "      <td>1603325755</td>\n",
       "    </tr>\n",
       "    <tr>\n",
       "      <th>...</th>\n",
       "      <td>...</td>\n",
       "      <td>...</td>\n",
       "      <td>...</td>\n",
       "      <td>...</td>\n",
       "      <td>...</td>\n",
       "      <td>...</td>\n",
       "      <td>...</td>\n",
       "      <td>...</td>\n",
       "      <td>...</td>\n",
       "    </tr>\n",
       "    <tr>\n",
       "      <th>576</th>\n",
       "      <td>kaduqli</td>\n",
       "      <td>11.02</td>\n",
       "      <td>29.72</td>\n",
       "      <td>77.68</td>\n",
       "      <td>67</td>\n",
       "      <td>96</td>\n",
       "      <td>4.47</td>\n",
       "      <td>SD</td>\n",
       "      <td>1603326563</td>\n",
       "    </tr>\n",
       "    <tr>\n",
       "      <th>577</th>\n",
       "      <td>atasu</td>\n",
       "      <td>48.68</td>\n",
       "      <td>71.64</td>\n",
       "      <td>41.76</td>\n",
       "      <td>66</td>\n",
       "      <td>100</td>\n",
       "      <td>16.40</td>\n",
       "      <td>KZ</td>\n",
       "      <td>1603326565</td>\n",
       "    </tr>\n",
       "    <tr>\n",
       "      <th>578</th>\n",
       "      <td>nago</td>\n",
       "      <td>26.59</td>\n",
       "      <td>127.98</td>\n",
       "      <td>77.00</td>\n",
       "      <td>94</td>\n",
       "      <td>90</td>\n",
       "      <td>6.93</td>\n",
       "      <td>JP</td>\n",
       "      <td>1603326566</td>\n",
       "    </tr>\n",
       "    <tr>\n",
       "      <th>579</th>\n",
       "      <td>rio gallegos</td>\n",
       "      <td>-51.62</td>\n",
       "      <td>-69.22</td>\n",
       "      <td>51.80</td>\n",
       "      <td>57</td>\n",
       "      <td>98</td>\n",
       "      <td>3.36</td>\n",
       "      <td>AR</td>\n",
       "      <td>1603326437</td>\n",
       "    </tr>\n",
       "    <tr>\n",
       "      <th>580</th>\n",
       "      <td>hanover</td>\n",
       "      <td>52.37</td>\n",
       "      <td>9.73</td>\n",
       "      <td>64.40</td>\n",
       "      <td>68</td>\n",
       "      <td>4</td>\n",
       "      <td>17.22</td>\n",
       "      <td>DE</td>\n",
       "      <td>1603326568</td>\n",
       "    </tr>\n",
       "  </tbody>\n",
       "</table>\n",
       "<p>581 rows × 9 columns</p>\n",
       "</div>"
      ],
      "text/plain": [
       "                City    Lat     Lng  Max Temp  Humidity  Cloudiness  \\\n",
       "0           thompson  55.74  -97.86     28.40        74          75   \n",
       "1           katsuura  35.13  140.30     64.40        63          75   \n",
       "2    arraial do cabo -22.97  -42.03     73.13        88           9   \n",
       "3         lavrentiya  65.58 -171.00     38.17        85           0   \n",
       "4        provideniya  64.38 -173.30     41.00        80          90   \n",
       "..               ...    ...     ...       ...       ...         ...   \n",
       "576          kaduqli  11.02   29.72     77.68        67          96   \n",
       "577            atasu  48.68   71.64     41.76        66         100   \n",
       "578             nago  26.59  127.98     77.00        94          90   \n",
       "579     rio gallegos -51.62  -69.22     51.80        57          98   \n",
       "580          hanover  52.37    9.73     64.40        68           4   \n",
       "\n",
       "     Wind Speed Country        Date  \n",
       "0         10.29      CA  1603325810  \n",
       "1          9.17      JP  1603325661  \n",
       "2         14.41      BR  1603325721  \n",
       "3          5.77      RU  1603325814  \n",
       "4          2.24      RU  1603325755  \n",
       "..          ...     ...         ...  \n",
       "576        4.47      SD  1603326563  \n",
       "577       16.40      KZ  1603326565  \n",
       "578        6.93      JP  1603326566  \n",
       "579        3.36      AR  1603326437  \n",
       "580       17.22      DE  1603326568  \n",
       "\n",
       "[581 rows x 9 columns]"
      ]
     },
     "execution_count": 27,
     "metadata": {},
     "output_type": "execute_result"
    }
   ],
   "source": [
    "city_df = pd.DataFrame(data, columns = [\"City\", \"Lat\", \"Lng\", \"Max Temp\", \"Humidity\", \"Cloudiness\", \"Wind Speed\", \"Country\", \"Date\"])\n",
    "city_df"
   ]
  },
  {
   "cell_type": "code",
   "execution_count": 28,
   "metadata": {},
   "outputs": [
    {
     "data": {
      "text/html": [
       "<div>\n",
       "<style scoped>\n",
       "    .dataframe tbody tr th:only-of-type {\n",
       "        vertical-align: middle;\n",
       "    }\n",
       "\n",
       "    .dataframe tbody tr th {\n",
       "        vertical-align: top;\n",
       "    }\n",
       "\n",
       "    .dataframe thead th {\n",
       "        text-align: right;\n",
       "    }\n",
       "</style>\n",
       "<table border=\"1\" class=\"dataframe\">\n",
       "  <thead>\n",
       "    <tr style=\"text-align: right;\">\n",
       "      <th></th>\n",
       "      <th>Lat</th>\n",
       "      <th>Lng</th>\n",
       "      <th>Max Temp</th>\n",
       "      <th>Humidity</th>\n",
       "      <th>Cloudiness</th>\n",
       "      <th>Wind Speed</th>\n",
       "      <th>Date</th>\n",
       "    </tr>\n",
       "  </thead>\n",
       "  <tbody>\n",
       "    <tr>\n",
       "      <th>count</th>\n",
       "      <td>581.000000</td>\n",
       "      <td>581.000000</td>\n",
       "      <td>581.000000</td>\n",
       "      <td>581.000000</td>\n",
       "      <td>581.000000</td>\n",
       "      <td>581.000000</td>\n",
       "      <td>5.810000e+02</td>\n",
       "    </tr>\n",
       "    <tr>\n",
       "      <th>mean</th>\n",
       "      <td>20.951291</td>\n",
       "      <td>20.659036</td>\n",
       "      <td>58.987745</td>\n",
       "      <td>75.611015</td>\n",
       "      <td>54.041308</td>\n",
       "      <td>7.602685</td>\n",
       "      <td>1.603326e+09</td>\n",
       "    </tr>\n",
       "    <tr>\n",
       "      <th>std</th>\n",
       "      <td>33.234400</td>\n",
       "      <td>91.672007</td>\n",
       "      <td>20.771086</td>\n",
       "      <td>19.319014</td>\n",
       "      <td>37.090546</td>\n",
       "      <td>4.875885</td>\n",
       "      <td>2.722924e+02</td>\n",
       "    </tr>\n",
       "    <tr>\n",
       "      <th>min</th>\n",
       "      <td>-54.800000</td>\n",
       "      <td>-175.200000</td>\n",
       "      <td>3.430000</td>\n",
       "      <td>7.000000</td>\n",
       "      <td>0.000000</td>\n",
       "      <td>0.490000</td>\n",
       "      <td>1.603325e+09</td>\n",
       "    </tr>\n",
       "    <tr>\n",
       "      <th>25%</th>\n",
       "      <td>-6.220000</td>\n",
       "      <td>-64.710000</td>\n",
       "      <td>42.800000</td>\n",
       "      <td>67.000000</td>\n",
       "      <td>16.000000</td>\n",
       "      <td>4.090000</td>\n",
       "      <td>1.603326e+09</td>\n",
       "    </tr>\n",
       "    <tr>\n",
       "      <th>50%</th>\n",
       "      <td>27.910000</td>\n",
       "      <td>26.400000</td>\n",
       "      <td>63.180000</td>\n",
       "      <td>80.000000</td>\n",
       "      <td>65.000000</td>\n",
       "      <td>6.710000</td>\n",
       "      <td>1.603326e+09</td>\n",
       "    </tr>\n",
       "    <tr>\n",
       "      <th>75%</th>\n",
       "      <td>49.820000</td>\n",
       "      <td>106.100000</td>\n",
       "      <td>76.960000</td>\n",
       "      <td>89.000000</td>\n",
       "      <td>90.000000</td>\n",
       "      <td>10.290000</td>\n",
       "      <td>1.603326e+09</td>\n",
       "    </tr>\n",
       "    <tr>\n",
       "      <th>max</th>\n",
       "      <td>78.220000</td>\n",
       "      <td>179.320000</td>\n",
       "      <td>95.000000</td>\n",
       "      <td>100.000000</td>\n",
       "      <td>100.000000</td>\n",
       "      <td>27.360000</td>\n",
       "      <td>1.603327e+09</td>\n",
       "    </tr>\n",
       "  </tbody>\n",
       "</table>\n",
       "</div>"
      ],
      "text/plain": [
       "              Lat         Lng    Max Temp    Humidity  Cloudiness  Wind Speed  \\\n",
       "count  581.000000  581.000000  581.000000  581.000000  581.000000  581.000000   \n",
       "mean    20.951291   20.659036   58.987745   75.611015   54.041308    7.602685   \n",
       "std     33.234400   91.672007   20.771086   19.319014   37.090546    4.875885   \n",
       "min    -54.800000 -175.200000    3.430000    7.000000    0.000000    0.490000   \n",
       "25%     -6.220000  -64.710000   42.800000   67.000000   16.000000    4.090000   \n",
       "50%     27.910000   26.400000   63.180000   80.000000   65.000000    6.710000   \n",
       "75%     49.820000  106.100000   76.960000   89.000000   90.000000   10.290000   \n",
       "max     78.220000  179.320000   95.000000  100.000000  100.000000   27.360000   \n",
       "\n",
       "               Date  \n",
       "count  5.810000e+02  \n",
       "mean   1.603326e+09  \n",
       "std    2.722924e+02  \n",
       "min    1.603325e+09  \n",
       "25%    1.603326e+09  \n",
       "50%    1.603326e+09  \n",
       "75%    1.603326e+09  \n",
       "max    1.603327e+09  "
      ]
     },
     "execution_count": 28,
     "metadata": {},
     "output_type": "execute_result"
    }
   ],
   "source": [
    "city_df.describe()"
   ]
  },
  {
   "cell_type": "markdown",
   "metadata": {},
   "source": [
    "## Inspect the data and remove the cities where the humidity > 100%.\n",
    "----\n",
    "Skip this step if there are no cities that have humidity > 100%. "
   ]
  },
  {
   "cell_type": "code",
   "execution_count": 7,
   "metadata": {},
   "outputs": [
    {
     "data": {
      "text/plain": [
       "0      False\n",
       "1      False\n",
       "2      False\n",
       "3      False\n",
       "4      False\n",
       "       ...  \n",
       "576    False\n",
       "577    False\n",
       "578    False\n",
       "579    False\n",
       "580    False\n",
       "Name: Humidity, Length: 581, dtype: bool"
      ]
     },
     "execution_count": 7,
     "metadata": {},
     "output_type": "execute_result"
    }
   ],
   "source": [
    "city_df[\"Humidity\"]>100"
   ]
  },
  {
   "cell_type": "code",
   "execution_count": 8,
   "metadata": {},
   "outputs": [],
   "source": [
    "#  Get the indices of cities that have humidity over 100%.\n"
   ]
  },
  {
   "cell_type": "code",
   "execution_count": 9,
   "metadata": {},
   "outputs": [],
   "source": [
    "# Make a new DataFrame equal to the city data to drop all humidity outliers by index.\n",
    "# Passing \"inplace=False\" will make a copy of the city_data DataFrame, which we call \"clean_city_data\".\n"
   ]
  },
  {
   "cell_type": "code",
   "execution_count": 29,
   "metadata": {},
   "outputs": [],
   "source": [
    "#Export CSV file\n",
    "city_df.to_csv(\"Output_Data/cities.csv\", index=False)"
   ]
  },
  {
   "cell_type": "markdown",
   "metadata": {},
   "source": [
    "## Plotting the Data\n",
    "* Use proper labeling of the plots using plot titles (including date of analysis) and axes labels.\n",
    "* Save the plotted figures as .pngs."
   ]
  },
  {
   "cell_type": "markdown",
   "metadata": {},
   "source": [
    "## Latitude vs. Temperature Plot"
   ]
  },
  {
   "cell_type": "code",
   "execution_count": 30,
   "metadata": {
    "scrolled": true
   },
   "outputs": [
    {
     "data": {
      "image/png": "[encoded data removed]",
      "text/plain": [
       "<Figure size 432x288 with 1 Axes>"
      ]
     },
     "metadata": {
      "needs_background": "light"
     },
     "output_type": "display_data"
    }
   ],
   "source": [
    "# Create the Scatter Plot\n",
    "plt.scatter(city_df[\"Lat\"], city_df[\"Max Temp\"], facecolor= \"blue\")\n",
    "plt.title(\"City Latitude vs. Max Temperature (10/20/20)\")\n",
    "plt.xlabel(\"Latitude\")\n",
    "plt.ylabel(\"Max Temperature (F)\")\n",
    "plt.grid()\n",
    "plt.savefig(\"Images/CityLatitudevsMaxTemperature.png\")"
   ]
  },
  {
   "cell_type": "markdown",
   "metadata": {},
   "source": [
    "The greatest concentration of highest temperature typically occurs around 0 (the Equator) and drops as you move away from it in either direction"
   ]
  },
  {
   "cell_type": "markdown",
   "metadata": {},
   "source": [
    "## Latitude vs. Humidity Plot"
   ]
  },
  {
   "cell_type": "code",
   "execution_count": 31,
   "metadata": {},
   "outputs": [
    {
     "data": {
      "image/png": "[encoded data removed]",
      "text/plain": [
       "<Figure size 432x288 with 1 Axes>"
      ]
     },
     "metadata": {
      "needs_background": "light"
     },
     "output_type": "display_data"
    }
   ],
   "source": [
    "# Create the Scatter Plot\n",
    "plt.scatter(city_df[\"Lat\"], city_df[\"Humidity\"], facecolor= \"blue\")\n",
    "plt.title(\"City Latitude vs. Humidity (10/20/20)\")\n",
    "plt.xlabel(\"Latitude\")\n",
    "plt.ylabel(\"Humidity (%)\")\n",
    "plt.grid()\n",
    "plt.savefig(\"Images/CityLatitudevsHumidity.png\")"
   ]
  },
  {
   "cell_type": "markdown",
   "metadata": {},
   "source": [
    "Humidity seems to be lower in polar regions and increases as you move towards the souther hemisphere"
   ]
  },
  {
   "cell_type": "markdown",
   "metadata": {},
   "source": [
    "## Latitude vs. Cloudiness Plot"
   ]
  },
  {
   "cell_type": "code",
   "execution_count": 32,
   "metadata": {},
   "outputs": [
    {
     "data": {
      "image/png": "[encoded data removed]",
      "text/plain": [
       "<Figure size 432x288 with 1 Axes>"
      ]
     },
     "metadata": {
      "needs_background": "light"
     },
     "output_type": "display_data"
    }
   ],
   "source": [
    "# Create the Scatter Plot\n",
    "plt.scatter(city_df[\"Lat\"], city_df[\"Cloudiness\"], facecolor= \"blue\")\n",
    "plt.title(\"City Latitude vs. Cloudiness (10/20/20)\")\n",
    "plt.xlabel(\"Latitude\")\n",
    "plt.ylabel(\"Cloudiness (%)\")\n",
    "plt.grid()\n",
    "plt.savefig(\"Images/CityLatitudevsCloudiness.png\")"
   ]
  },
  {
   "cell_type": "markdown",
   "metadata": {},
   "source": [
    "Does not seem to be any effect on cloudiness as you move across the latitude"
   ]
  },
  {
   "cell_type": "markdown",
   "metadata": {},
   "source": [
    "## Latitude vs. Wind Speed Plot"
   ]
  },
  {
   "cell_type": "code",
   "execution_count": 33,
   "metadata": {},
   "outputs": [
    {
     "data": {
      "image/png": "[encoded data removed]",
      "text/plain": [
       "<Figure size 432x288 with 1 Axes>"
      ]
     },
     "metadata": {
      "needs_background": "light"
     },
     "output_type": "display_data"
    }
   ],
   "source": [
    "# Create the Scatter Plot\n",
    "plt.scatter(city_df[\"Lat\"], city_df[\"Wind Speed\"], facecolor= \"blue\")\n",
    "plt.title(\"City Latitude vs. Wind Speed (10/20/20)\")\n",
    "plt.xlabel(\"Latitude\")\n",
    "plt.ylabel(\"Wind Speed (mph)\")\n",
    "plt.grid()\n",
    "plt.savefig(\"Images/CityLatitudevsWindSpeed.png\")"
   ]
  },
  {
   "cell_type": "markdown",
   "metadata": {},
   "source": [
    "Does not seem to be any effect on wind speed as you move across the latitude"
   ]
  },
  {
   "cell_type": "markdown",
   "metadata": {},
   "source": [
    "## Linear Regression"
   ]
  },
  {
   "cell_type": "code",
   "execution_count": 34,
   "metadata": {},
   "outputs": [],
   "source": [
    "# Create a northern and southern hemisphere DataFrame\n",
    "northern_hem = city_df.loc[city_df[\"Lat\"]>= 0]\n",
    "southern_hem = city_df.loc[city_df[\"Lat\"]< 0]"
   ]
  },
  {
   "cell_type": "code",
   "execution_count": 18,
   "metadata": {},
   "outputs": [],
   "source": [
    "def linear_regression(x, y):\n",
    "    print(f\"The r-squared is : {round(st.pearsonr(x, y)[0], 2)}\")\n",
    "    (slope, intercept, rvalue, pvalue, stderr) = linregress(x, y)\n",
    "    regress_values = x * slope + intercept\n",
    "    line_eq = \"y = \" + str(round(slope,2)) + \"x + \" + str(round(intercept, 2))\n",
    "    plt.scatter(x, y)\n",
    "    plt.plot (x, regress_values, \"r-\")\n",
    "    return line_eq\n",
    "\n",
    "# Annotating\n",
    "def annotate(line_eq, a, b):\n",
    "    plt.annotate(line_eq,(a,b), fontsize=15,color=\"red\")"
   ]
  },
  {
   "cell_type": "markdown",
   "metadata": {},
   "source": [
    "####  Northern Hemisphere - Max Temp vs. Latitude Linear Regression"
   ]
  },
  {
   "cell_type": "code",
   "execution_count": 35,
   "metadata": {},
   "outputs": [
    {
     "name": "stdout",
     "output_type": "stream",
     "text": [
      "The r-squared is : -0.87\n"
     ]
    },
    {
     "data": {
      "image/png": "[encoded data removed]",
      "text/plain": [
       "<Figure size 432x288 with 1 Axes>"
      ]
     },
     "metadata": {
      "needs_background": "light"
     },
     "output_type": "display_data"
    }
   ],
   "source": [
    "equation = linear_regression(northern_hem[\"Lat\"], northern_hem[\"Max Temp\"])\n",
    "annotate(equation, 0, 0)\n",
    "\n",
    "plt.title(\"Northern Hemisphere: Max Temperature vs Latitude\")\n",
    "plt.xlabel(\"Latitude\")\n",
    "plt.ylabel(\"Max Temp (F)\")\n",
    "plt.savefig(\"Images/NorthernMaxTempvsLatitude.png\")"
   ]
  },
  {
   "cell_type": "markdown",
   "metadata": {},
   "source": [
    "There seems to be a strong negative correlation between max temperature and latitude in the northern hemisphere"
   ]
  },
  {
   "cell_type": "markdown",
   "metadata": {},
   "source": [
    "####  Southern Hemisphere - Max Temp vs. Latitude Linear Regression"
   ]
  },
  {
   "cell_type": "code",
   "execution_count": 36,
   "metadata": {},
   "outputs": [
    {
     "name": "stdout",
     "output_type": "stream",
     "text": [
      "The r-squared is : 0.69\n"
     ]
    },
    {
     "data": {
      "image/png": "[encoded data removed]",
      "text/plain": [
       "<Figure size 432x288 with 1 Axes>"
      ]
     },
     "metadata": {
      "needs_background": "light"
     },
     "output_type": "display_data"
    }
   ],
   "source": [
    "# Call the functions from above\n",
    "equation = linear_regression(southern_hem[\"Lat\"], southern_hem[\"Max Temp\"])\n",
    "annotate(equation, -30,40)\n",
    "\n",
    "# Plot it\n",
    "plt.title(\"Southern Hemisphere: Max Temperature vs Latitude\")\n",
    "plt.xlabel(\"Latitude\")\n",
    "plt.ylabel(\"Max Temperature (F)\")\n",
    "plt.savefig(\"Images/SouthernMaxTempvsLatitude.png\")"
   ]
  },
  {
   "cell_type": "markdown",
   "metadata": {},
   "source": [
    "There appears to be a strong correlation between max temperature and latitude in the sothern hemisphere"
   ]
  },
  {
   "cell_type": "markdown",
   "metadata": {},
   "source": [
    "####  Northern Hemisphere - Humidity (%) vs. Latitude Linear Regression"
   ]
  },
  {
   "cell_type": "code",
   "execution_count": 37,
   "metadata": {},
   "outputs": [
    {
     "name": "stdout",
     "output_type": "stream",
     "text": [
      "The r-squared is : 0.25\n"
     ]
    },
    {
     "data": {
      "image/png": "[encoded data removed]",
      "text/plain": [
       "<Figure size 432x288 with 1 Axes>"
      ]
     },
     "metadata": {
      "needs_background": "light"
     },
     "output_type": "display_data"
    }
   ],
   "source": [
    "equation = linear_regression(northern_hem[\"Lat\"], northern_hem[\"Humidity\"])\n",
    "annotate(equation, 20, 60)\n",
    "\n",
    "plt.title(\"Northern Hemisphere: Humidity vs Latitude\")\n",
    "plt.xlabel(\"Latitude\")\n",
    "plt.ylabel(\"Humidity\")\n",
    "plt.savefig(\"Images/NorthernHumidityvsLatitude.png\")"
   ]
  },
  {
   "cell_type": "markdown",
   "metadata": {},
   "source": [
    "There appears to be a moderate positive coorection between humidity and latitude in the northern hesmipshere"
   ]
  },
  {
   "cell_type": "markdown",
   "metadata": {},
   "source": [
    "####  Southern Hemisphere - Humidity (%) vs. Latitude Linear Regression"
   ]
  },
  {
   "cell_type": "code",
   "execution_count": 38,
   "metadata": {},
   "outputs": [
    {
     "name": "stdout",
     "output_type": "stream",
     "text": [
      "The r-squared is : 0.69\n"
     ]
    },
    {
     "data": {
      "image/png": "[encoded data removed]",
      "text/plain": [
       "<Figure size 432x288 with 1 Axes>"
      ]
     },
     "metadata": {
      "needs_background": "light"
     },
     "output_type": "display_data"
    }
   ],
   "source": [
    "equation = linear_regression(southern_hem[\"Lat\"], southern_hem[\"Max Temp\"])\n",
    "annotate(equation, -30, 60)\n",
    "\n",
    "plt.title(\"Southern Hemisphere: Humidity vs Latitude\")\n",
    "plt.xlabel(\"Latitude\")\n",
    "plt.ylabel(\"Humidity (%)\")\n",
    "plt.savefig(\"Images/SouthernHumidityvsLatitude.png\")"
   ]
  },
  {
   "cell_type": "markdown",
   "metadata": {},
   "source": [
    "There appears to be a strong correlation between humidity and latitude in the southern hemisphere"
   ]
  },
  {
   "cell_type": "markdown",
   "metadata": {},
   "source": [
    "####  Northern Hemisphere - Cloudiness (%) vs. Latitude Linear Regression"
   ]
  },
  {
   "cell_type": "code",
   "execution_count": 39,
   "metadata": {},
   "outputs": [
    {
     "name": "stdout",
     "output_type": "stream",
     "text": [
      "The r-squared is : 0.17\n"
     ]
    },
    {
     "data": {
      "image/png": "[encoded data removed]",
      "text/plain": [
       "<Figure size 432x288 with 1 Axes>"
      ]
     },
     "metadata": {
      "needs_background": "light"
     },
     "output_type": "display_data"
    }
   ],
   "source": [
    "equation = linear_regression(northern_hem[\"Lat\"], northern_hem[\"Cloudiness\"])\n",
    "annotate(equation, 0, 0)\n",
    "\n",
    "plt.title(\"Northern Hemisphere: Cloudiness vs Latitude\")\n",
    "plt.xlabel(\"Latitude\")\n",
    "plt.ylabel(\"Cloudiness (%)\")\n",
    "plt.savefig(\"Images/NorthernCloudinessvsLatitude.png\")"
   ]
  },
  {
   "cell_type": "markdown",
   "metadata": {},
   "source": [
    "There appears to be a moderately positive corrlation between cloudiness and latitude in the northern hemisphere"
   ]
  },
  {
   "cell_type": "markdown",
   "metadata": {},
   "source": [
    "####  Southern Hemisphere - Cloudiness (%) vs. Latitude Linear Regression"
   ]
  },
  {
   "cell_type": "code",
   "execution_count": 40,
   "metadata": {},
   "outputs": [
    {
     "name": "stdout",
     "output_type": "stream",
     "text": [
      "The r-squared is : 0.69\n"
     ]
    },
    {
     "data": {
      "image/png": "[encoded data removed]",
      "text/plain": [
       "<Figure size 432x288 with 1 Axes>"
      ]
     },
     "metadata": {
      "needs_background": "light"
     },
     "output_type": "display_data"
    }
   ],
   "source": [
    "equation = linear_regression(southern_hem[\"Lat\"], southern_hem[\"Max Temp\"])\n",
    "annotate(equation, -30, 50)\n",
    "\n",
    "plt.title(\"Southern Hemisphere: Cloudiness vs Latitude\")\n",
    "plt.xlabel(\"Latitude\")\n",
    "plt.ylabel(\"Max Temp (F)\")\n",
    "plt.savefig(\"Images/SouthernCloudinessvsLatitude.png\")"
   ]
  },
  {
   "cell_type": "markdown",
   "metadata": {},
   "source": [
    "There appears to be a strong correlation between cloudiness and latitude in the southern hemisphere"
   ]
  },
  {
   "cell_type": "markdown",
   "metadata": {},
   "source": [
    "####  Northern Hemisphere - Wind Speed (mph) vs. Latitude Linear Regression"
   ]
  },
  {
   "cell_type": "code",
   "execution_count": 41,
   "metadata": {},
   "outputs": [
    {
     "name": "stdout",
     "output_type": "stream",
     "text": [
      "The r-squared is : 0.1\n"
     ]
    },
    {
     "data": {
      "image/png": "[encoded data removed]",
      "text/plain": [
       "<Figure size 432x288 with 1 Axes>"
      ]
     },
     "metadata": {
      "needs_background": "light"
     },
     "output_type": "display_data"
    }
   ],
   "source": [
    "equation = linear_regression(northern_hem[\"Lat\"], northern_hem[\"Wind Speed\"])\n",
    "annotate(equation, 0, 0)\n",
    "\n",
    "plt.title(\"Northern Hemisphere: Wind Speed vs Latitude\")\n",
    "plt.xlabel(\"Latitude\")\n",
    "plt.ylabel(\"Wind Speed (mph)\")\n",
    "plt.savefig(\"Images/NorthernWindSpeedvsLatitude.png\")"
   ]
  },
  {
   "cell_type": "markdown",
   "metadata": {},
   "source": [
    "There is a positive correlation between wind speed and latitude in the northern hemisphere"
   ]
  },
  {
   "cell_type": "markdown",
   "metadata": {},
   "source": [
    "####  Southern Hemisphere - Wind Speed (mph) vs. Latitude Linear Regression"
   ]
  },
  {
   "cell_type": "code",
   "execution_count": 42,
   "metadata": {},
   "outputs": [
    {
     "name": "stdout",
     "output_type": "stream",
     "text": [
      "The r-squared is : -0.19\n"
     ]
    },
    {
     "data": {
      "image/png": "[encoded data removed]",
      "text/plain": [
       "<Figure size 432x288 with 1 Axes>"
      ]
     },
     "metadata": {
      "needs_background": "light"
     },
     "output_type": "display_data"
    }
   ],
   "source": [
    "equation = linear_regression(southern_hem[\"Lat\"], southern_hem[\"Wind Speed\"])\n",
    "annotate(equation, 0, 0)\n",
    "\n",
    "plt.title(\"Southern Hemisphere: Wind Speed vs Latitude\")\n",
    "plt.xlabel(\"Latitude\")\n",
    "plt.ylabel(\"Wind Speed (mph)\")\n",
    "plt.savefig(\"Images/SouthernWindSpeedvsLatitude.png\")"
   ]
  },
  {
   "cell_type": "markdown",
   "metadata": {},
   "source": [
    "There is a negative correlation between wind speed and latitude in the southern hemisphere"
   ]
  },
  {
   "cell_type": "markdown",
   "metadata": {},
   "source": [
    "1. There is a strong relationship between humidity and getting closer to the equator\n",
    "2. Thought not as strong, there is also appears to be a postive relationship between cloudiness and latitude\n",
    "3. The highest frequency of max temperature occurs at the equator"
   ]
  },
  {
   "cell_type": "code",
   "execution_count": null,
   "metadata": {},
   "outputs": [],
   "source": []
  }
 ],
 "metadata": {
  "anaconda-cloud": {},
  "kernel_info": {
   "name": "python3"
  },
  "kernelspec": {
   "display_name": "Python [conda env:PythonData] *",
   "language": "python",
   "name": "conda-env-PythonData-py"
  },
  "language_info": {
   "codemirror_mode": {
    "name": "ipython",
    "version": 3
   },
   "file_extension": ".py",
   "mimetype": "text/x-python",
   "name": "python",
   "nbconvert_exporter": "python",
   "pygments_lexer": "ipython3",
   "version": "3.6.12"
  },
  "latex_envs": {
   "LaTeX_envs_menu_present": true,
   "autoclose": false,
   "autocomplete": true,
   "bibliofile": "biblio.bib",
   "cite_by": "apalike",
   "current_citInitial": 1,
   "eqLabelWithNumbers": true,
   "eqNumInitial": 1,
   "hotkeys": {
    "equation": "Ctrl-E",
    "itemize": "Ctrl-I"
   },
   "labels_anchors": false,
   "latex_user_defs": false,
   "report_style_numbering": false,
   "user_envs_cfg": false
  },
  "nteract": {
   "version": "0.12.3"
  }
 },
 "nbformat": 4,
 "nbformat_minor": 2
}
