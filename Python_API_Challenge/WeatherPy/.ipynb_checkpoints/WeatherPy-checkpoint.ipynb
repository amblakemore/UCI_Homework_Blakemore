{
 "cells": [
  {
   "cell_type": "markdown",
   "metadata": {},
   "source": [
    "# WeatherPy\n",
    "----\n",
    "\n",
    "#### Note\n",
    "* Instructions have been included for each segment. You do not have to follow them exactly, but they are included to help you think through the steps."
   ]
  },
  {
   "cell_type": "code",
   "execution_count": 2,
   "metadata": {
    "scrolled": true
   },
   "outputs": [],
   "source": [
    "# Setup\n",
    "import pandas as pd\n",
    "import numpy as np\n",
    "import matplotlib.pyplot as plt\n",
    "import requests\n",
    "import time\n",
    "from config import api_key\n",
    "from citipy import citipy\n",
    "import scipy.stats as st\n",
    "from scipy.stats import linregress"
   ]
  },
  {
   "cell_type": "markdown",
   "metadata": {},
   "source": [
    "## Generate Cities List"
   ]
  },
  {
   "cell_type": "code",
   "execution_count": 3,
   "metadata": {},
   "outputs": [
    {
     "data": {
      "text/plain": [
       "605"
      ]
     },
     "execution_count": 3,
     "metadata": {},
     "output_type": "execute_result"
    }
   ],
   "source": [
    "lat_range = (-90, 90)\n",
    "lng_range = (-180, 180)\n",
    "lat_lng_list = []\n",
    "cities = []\n",
    "\n",
    "# Generate Latitudes\n",
    "lat = np.random.uniform(lat_range[0], lat_range[1],size= 1500)\n",
    "lng = np.random.uniform(lng_range[0], lng_range[1],size= 1500)\n",
    "lat_lng_list = zip(lat, lng)\n",
    "\n",
    "for lat_lng in lat_lng_list:\n",
    "    city = citipy.nearest_city(lat_lng[0], lat_lng[1]).city_name\n",
    "    if city not in cities:\n",
    "        cities.append(city)\n",
    "len(cities)"
   ]
  },
  {
   "cell_type": "markdown",
   "metadata": {},
   "source": [
    "### Perform API Calls\n",
    "* Perform a weather check on each city using a series of successive API calls.\n",
    "* Include a print log of each city as it'sbeing processed (with the city number and city name).\n"
   ]
  },
  {
   "cell_type": "code",
   "execution_count": 3,
   "metadata": {
    "scrolled": true
   },
   "outputs": [],
   "source": [
    "#url = \"http://api.openweathermap.org/data/2.5/weather?\"\n",
    "#query_url = url + \"appid=\" + api_key + \"&q=\" + \"London\"\n",
    "#result = requests.get(query_url).json()\n",
    "#result"
   ]
  },
  {
   "cell_type": "code",
   "execution_count": 4,
   "metadata": {
    "scrolled": true
   },
   "outputs": [
    {
     "name": "stdout",
     "output_type": "stream",
     "text": [
      "1 mahebourg\n",
      "2 havelock\n",
      "3 souillac\n",
      "4 rosario\n",
      "5 tuatapere\n",
      "6 dudinka\n",
      "7 hobart\n",
      "City not found\n",
      "9 dillon\n",
      "10 ushuaia\n",
      "11 ostrovnoy\n",
      "City not found\n",
      "13 rikitea\n",
      "14 kaitangata\n",
      "15 aktash\n",
      "16 busselton\n",
      "17 hithadhoo\n",
      "18 avera\n",
      "19 okhotsk\n",
      "20 vila velha\n",
      "21 butaritari\n",
      "22 lively\n",
      "23 marovoay\n",
      "24 cape town\n",
      "25 ilulissat\n",
      "26 haines junction\n",
      "27 oriximina\n",
      "28 hilo\n",
      "29 albany\n",
      "30 iqaluit\n",
      "31 korla\n",
      "32 mataura\n",
      "33 kodiak\n",
      "34 bredasdorp\n",
      "35 rawson\n",
      "36 fortuna foothills\n",
      "37 alofi\n",
      "38 hermanus\n",
      "39 lebu\n",
      "City not found\n",
      "41 alghero\n",
      "42 kalga\n",
      "43 puerto ayora\n",
      "44 bluff\n",
      "45 ntoum\n",
      "46 taksimo\n",
      "47 tuktoyaktuk\n",
      "48 kapaa\n",
      "City not found\n",
      "50 sao joao da barra\n"
     ]
    }
   ],
   "source": [
    "data= []\n",
    "counter = 0\n",
    "url = \"http://api.openweathermap.org/data/2.5/weather?\"\n",
    "units = \"metric\"\n",
    "query_url = f\"{url}appid={api_key}&units={units}&q=\" \n",
    "#print(query_url)\n",
    "for city in cities[:50]:\n",
    "    result = requests.get(query_url+city).json()\n",
    "    counter = counter + 1\n",
    "    #print(result)\n",
    "    try:\n",
    "        lat = result[\"coord\"][\"lat\"]\n",
    "        lng = result[\"coord\"][\"lon\"]\n",
    "        temp_max = result[\"main\"][\"temp_max\"]\n",
    "        humidity = result[\"main\"][\"humidity\"]\n",
    "        cloudiness = result[\"clouds\"][\"all\"]\n",
    "        wind_speed = result[\"wind\"][\"speed\"]\n",
    "        country = result[\"sys\"][\"country\"]\n",
    "        date = result[\"dt\"]\n",
    "        data.append([city, lat, lng, temp_max, humidity, cloudiness, wind_speed, country, date])\n",
    "        print(f\"{counter} {city}\")\n",
    "        #print(city)\n",
    "        time.sleep(1)\n",
    "        \n",
    "    except:\n",
    "        print(\"City not found\")"
   ]
  },
  {
   "cell_type": "markdown",
   "metadata": {},
   "source": [
    "### Convert Raw Data to DataFrame\n",
    "* Export the city data into a .csv.\n",
    "* Display the DataFrame"
   ]
  },
  {
   "cell_type": "code",
   "execution_count": 5,
   "metadata": {},
   "outputs": [
    {
     "data": {
      "text/html": [
       "<div>\n",
       "<style scoped>\n",
       "    .dataframe tbody tr th:only-of-type {\n",
       "        vertical-align: middle;\n",
       "    }\n",
       "\n",
       "    .dataframe tbody tr th {\n",
       "        vertical-align: top;\n",
       "    }\n",
       "\n",
       "    .dataframe thead th {\n",
       "        text-align: right;\n",
       "    }\n",
       "</style>\n",
       "<table border=\"1\" class=\"dataframe\">\n",
       "  <thead>\n",
       "    <tr style=\"text-align: right;\">\n",
       "      <th></th>\n",
       "      <th>city</th>\n",
       "      <th>lng</th>\n",
       "      <th>lat</th>\n",
       "      <th>temp_max</th>\n",
       "      <th>humidity</th>\n",
       "      <th>cloudiness</th>\n",
       "      <th>wind_speed</th>\n",
       "      <th>country</th>\n",
       "      <th>date</th>\n",
       "    </tr>\n",
       "  </thead>\n",
       "  <tbody>\n",
       "    <tr>\n",
       "      <th>0</th>\n",
       "      <td>mahebourg</td>\n",
       "      <td>-20.41</td>\n",
       "      <td>57.70</td>\n",
       "      <td>23.00</td>\n",
       "      <td>78</td>\n",
       "      <td>40</td>\n",
       "      <td>4.10</td>\n",
       "      <td>MU</td>\n",
       "      <td>1603154150</td>\n",
       "    </tr>\n",
       "    <tr>\n",
       "      <th>1</th>\n",
       "      <td>havelock</td>\n",
       "      <td>34.88</td>\n",
       "      <td>-76.90</td>\n",
       "      <td>21.00</td>\n",
       "      <td>83</td>\n",
       "      <td>90</td>\n",
       "      <td>2.60</td>\n",
       "      <td>US</td>\n",
       "      <td>1603154204</td>\n",
       "    </tr>\n",
       "    <tr>\n",
       "      <th>2</th>\n",
       "      <td>souillac</td>\n",
       "      <td>-20.52</td>\n",
       "      <td>57.52</td>\n",
       "      <td>23.00</td>\n",
       "      <td>78</td>\n",
       "      <td>40</td>\n",
       "      <td>4.10</td>\n",
       "      <td>MU</td>\n",
       "      <td>1603154146</td>\n",
       "    </tr>\n",
       "    <tr>\n",
       "      <th>3</th>\n",
       "      <td>rosario</td>\n",
       "      <td>-32.95</td>\n",
       "      <td>-60.64</td>\n",
       "      <td>20.00</td>\n",
       "      <td>64</td>\n",
       "      <td>90</td>\n",
       "      <td>10.30</td>\n",
       "      <td>AR</td>\n",
       "      <td>1603153977</td>\n",
       "    </tr>\n",
       "    <tr>\n",
       "      <th>4</th>\n",
       "      <td>tuatapere</td>\n",
       "      <td>-46.13</td>\n",
       "      <td>167.68</td>\n",
       "      <td>9.44</td>\n",
       "      <td>88</td>\n",
       "      <td>85</td>\n",
       "      <td>4.92</td>\n",
       "      <td>NZ</td>\n",
       "      <td>1603154208</td>\n",
       "    </tr>\n",
       "    <tr>\n",
       "      <th>5</th>\n",
       "      <td>dudinka</td>\n",
       "      <td>69.41</td>\n",
       "      <td>86.18</td>\n",
       "      <td>-10.00</td>\n",
       "      <td>92</td>\n",
       "      <td>90</td>\n",
       "      <td>2.00</td>\n",
       "      <td>RU</td>\n",
       "      <td>1603154209</td>\n",
       "    </tr>\n",
       "    <tr>\n",
       "      <th>6</th>\n",
       "      <td>hobart</td>\n",
       "      <td>-42.88</td>\n",
       "      <td>147.33</td>\n",
       "      <td>17.78</td>\n",
       "      <td>54</td>\n",
       "      <td>40</td>\n",
       "      <td>2.10</td>\n",
       "      <td>AU</td>\n",
       "      <td>1603154025</td>\n",
       "    </tr>\n",
       "    <tr>\n",
       "      <th>7</th>\n",
       "      <td>dillon</td>\n",
       "      <td>34.42</td>\n",
       "      <td>-79.37</td>\n",
       "      <td>17.78</td>\n",
       "      <td>100</td>\n",
       "      <td>1</td>\n",
       "      <td>2.65</td>\n",
       "      <td>US</td>\n",
       "      <td>1603154211</td>\n",
       "    </tr>\n",
       "    <tr>\n",
       "      <th>8</th>\n",
       "      <td>ushuaia</td>\n",
       "      <td>-54.80</td>\n",
       "      <td>-68.30</td>\n",
       "      <td>3.00</td>\n",
       "      <td>93</td>\n",
       "      <td>75</td>\n",
       "      <td>8.70</td>\n",
       "      <td>AR</td>\n",
       "      <td>1603154213</td>\n",
       "    </tr>\n",
       "    <tr>\n",
       "      <th>9</th>\n",
       "      <td>ostrovnoy</td>\n",
       "      <td>68.05</td>\n",
       "      <td>39.51</td>\n",
       "      <td>1.76</td>\n",
       "      <td>84</td>\n",
       "      <td>100</td>\n",
       "      <td>5.98</td>\n",
       "      <td>RU</td>\n",
       "      <td>1603154214</td>\n",
       "    </tr>\n",
       "    <tr>\n",
       "      <th>10</th>\n",
       "      <td>rikitea</td>\n",
       "      <td>-23.12</td>\n",
       "      <td>-134.97</td>\n",
       "      <td>23.56</td>\n",
       "      <td>76</td>\n",
       "      <td>0</td>\n",
       "      <td>4.96</td>\n",
       "      <td>PF</td>\n",
       "      <td>1603154215</td>\n",
       "    </tr>\n",
       "    <tr>\n",
       "      <th>11</th>\n",
       "      <td>kaitangata</td>\n",
       "      <td>-46.28</td>\n",
       "      <td>169.85</td>\n",
       "      <td>12.47</td>\n",
       "      <td>51</td>\n",
       "      <td>87</td>\n",
       "      <td>4.71</td>\n",
       "      <td>NZ</td>\n",
       "      <td>1603154217</td>\n",
       "    </tr>\n",
       "    <tr>\n",
       "      <th>12</th>\n",
       "      <td>aktash</td>\n",
       "      <td>50.30</td>\n",
       "      <td>87.73</td>\n",
       "      <td>-8.16</td>\n",
       "      <td>91</td>\n",
       "      <td>96</td>\n",
       "      <td>2.20</td>\n",
       "      <td>RU</td>\n",
       "      <td>1603154218</td>\n",
       "    </tr>\n",
       "    <tr>\n",
       "      <th>13</th>\n",
       "      <td>busselton</td>\n",
       "      <td>-33.65</td>\n",
       "      <td>115.33</td>\n",
       "      <td>20.56</td>\n",
       "      <td>48</td>\n",
       "      <td>0</td>\n",
       "      <td>4.58</td>\n",
       "      <td>AU</td>\n",
       "      <td>1603154219</td>\n",
       "    </tr>\n",
       "    <tr>\n",
       "      <th>14</th>\n",
       "      <td>hithadhoo</td>\n",
       "      <td>-0.60</td>\n",
       "      <td>73.08</td>\n",
       "      <td>28.14</td>\n",
       "      <td>78</td>\n",
       "      <td>71</td>\n",
       "      <td>5.81</td>\n",
       "      <td>MV</td>\n",
       "      <td>1603154162</td>\n",
       "    </tr>\n",
       "    <tr>\n",
       "      <th>15</th>\n",
       "      <td>avera</td>\n",
       "      <td>33.19</td>\n",
       "      <td>-82.53</td>\n",
       "      <td>20.00</td>\n",
       "      <td>77</td>\n",
       "      <td>1</td>\n",
       "      <td>1.50</td>\n",
       "      <td>US</td>\n",
       "      <td>1603154222</td>\n",
       "    </tr>\n",
       "    <tr>\n",
       "      <th>16</th>\n",
       "      <td>okhotsk</td>\n",
       "      <td>59.38</td>\n",
       "      <td>143.30</td>\n",
       "      <td>-4.43</td>\n",
       "      <td>79</td>\n",
       "      <td>22</td>\n",
       "      <td>10.53</td>\n",
       "      <td>RU</td>\n",
       "      <td>1603154220</td>\n",
       "    </tr>\n",
       "    <tr>\n",
       "      <th>17</th>\n",
       "      <td>vila velha</td>\n",
       "      <td>-20.33</td>\n",
       "      <td>-40.29</td>\n",
       "      <td>22.00</td>\n",
       "      <td>88</td>\n",
       "      <td>75</td>\n",
       "      <td>1.00</td>\n",
       "      <td>BR</td>\n",
       "      <td>1603154224</td>\n",
       "    </tr>\n",
       "    <tr>\n",
       "      <th>18</th>\n",
       "      <td>butaritari</td>\n",
       "      <td>3.07</td>\n",
       "      <td>172.79</td>\n",
       "      <td>28.06</td>\n",
       "      <td>77</td>\n",
       "      <td>100</td>\n",
       "      <td>4.78</td>\n",
       "      <td>KI</td>\n",
       "      <td>1603154173</td>\n",
       "    </tr>\n",
       "    <tr>\n",
       "      <th>19</th>\n",
       "      <td>lively</td>\n",
       "      <td>46.43</td>\n",
       "      <td>-81.15</td>\n",
       "      <td>4.44</td>\n",
       "      <td>69</td>\n",
       "      <td>90</td>\n",
       "      <td>2.10</td>\n",
       "      <td>CA</td>\n",
       "      <td>1603154227</td>\n",
       "    </tr>\n",
       "    <tr>\n",
       "      <th>20</th>\n",
       "      <td>marovoay</td>\n",
       "      <td>-16.10</td>\n",
       "      <td>46.63</td>\n",
       "      <td>24.00</td>\n",
       "      <td>73</td>\n",
       "      <td>20</td>\n",
       "      <td>2.10</td>\n",
       "      <td>MG</td>\n",
       "      <td>1603154228</td>\n",
       "    </tr>\n",
       "    <tr>\n",
       "      <th>21</th>\n",
       "      <td>cape town</td>\n",
       "      <td>-33.93</td>\n",
       "      <td>18.42</td>\n",
       "      <td>14.44</td>\n",
       "      <td>93</td>\n",
       "      <td>20</td>\n",
       "      <td>2.60</td>\n",
       "      <td>ZA</td>\n",
       "      <td>1603154072</td>\n",
       "    </tr>\n",
       "    <tr>\n",
       "      <th>22</th>\n",
       "      <td>ilulissat</td>\n",
       "      <td>69.22</td>\n",
       "      <td>-51.10</td>\n",
       "      <td>3.00</td>\n",
       "      <td>74</td>\n",
       "      <td>100</td>\n",
       "      <td>6.20</td>\n",
       "      <td>GL</td>\n",
       "      <td>1603154230</td>\n",
       "    </tr>\n",
       "    <tr>\n",
       "      <th>23</th>\n",
       "      <td>haines junction</td>\n",
       "      <td>60.75</td>\n",
       "      <td>-137.51</td>\n",
       "      <td>-1.36</td>\n",
       "      <td>79</td>\n",
       "      <td>100</td>\n",
       "      <td>0.49</td>\n",
       "      <td>CA</td>\n",
       "      <td>1603154232</td>\n",
       "    </tr>\n",
       "    <tr>\n",
       "      <th>24</th>\n",
       "      <td>oriximina</td>\n",
       "      <td>-1.77</td>\n",
       "      <td>-55.87</td>\n",
       "      <td>29.57</td>\n",
       "      <td>49</td>\n",
       "      <td>61</td>\n",
       "      <td>2.05</td>\n",
       "      <td>BR</td>\n",
       "      <td>1603154233</td>\n",
       "    </tr>\n",
       "    <tr>\n",
       "      <th>25</th>\n",
       "      <td>hilo</td>\n",
       "      <td>19.73</td>\n",
       "      <td>-155.09</td>\n",
       "      <td>30.00</td>\n",
       "      <td>55</td>\n",
       "      <td>1</td>\n",
       "      <td>4.60</td>\n",
       "      <td>US</td>\n",
       "      <td>1603154003</td>\n",
       "    </tr>\n",
       "    <tr>\n",
       "      <th>26</th>\n",
       "      <td>albany</td>\n",
       "      <td>42.60</td>\n",
       "      <td>-73.97</td>\n",
       "      <td>13.33</td>\n",
       "      <td>89</td>\n",
       "      <td>100</td>\n",
       "      <td>2.42</td>\n",
       "      <td>US</td>\n",
       "      <td>1603154118</td>\n",
       "    </tr>\n",
       "    <tr>\n",
       "      <th>27</th>\n",
       "      <td>iqaluit</td>\n",
       "      <td>63.75</td>\n",
       "      <td>-68.51</td>\n",
       "      <td>-5.00</td>\n",
       "      <td>85</td>\n",
       "      <td>75</td>\n",
       "      <td>2.10</td>\n",
       "      <td>CA</td>\n",
       "      <td>1603154236</td>\n",
       "    </tr>\n",
       "    <tr>\n",
       "      <th>28</th>\n",
       "      <td>korla</td>\n",
       "      <td>41.76</td>\n",
       "      <td>86.15</td>\n",
       "      <td>5.56</td>\n",
       "      <td>88</td>\n",
       "      <td>0</td>\n",
       "      <td>0.45</td>\n",
       "      <td>CN</td>\n",
       "      <td>1603154238</td>\n",
       "    </tr>\n",
       "    <tr>\n",
       "      <th>29</th>\n",
       "      <td>mataura</td>\n",
       "      <td>-46.19</td>\n",
       "      <td>168.86</td>\n",
       "      <td>9.44</td>\n",
       "      <td>88</td>\n",
       "      <td>83</td>\n",
       "      <td>4.92</td>\n",
       "      <td>NZ</td>\n",
       "      <td>1603154239</td>\n",
       "    </tr>\n",
       "    <tr>\n",
       "      <th>30</th>\n",
       "      <td>kodiak</td>\n",
       "      <td>57.79</td>\n",
       "      <td>-152.41</td>\n",
       "      <td>9.00</td>\n",
       "      <td>49</td>\n",
       "      <td>1</td>\n",
       "      <td>5.10</td>\n",
       "      <td>US</td>\n",
       "      <td>1603153947</td>\n",
       "    </tr>\n",
       "    <tr>\n",
       "      <th>31</th>\n",
       "      <td>bredasdorp</td>\n",
       "      <td>-34.53</td>\n",
       "      <td>20.04</td>\n",
       "      <td>14.00</td>\n",
       "      <td>76</td>\n",
       "      <td>93</td>\n",
       "      <td>4.60</td>\n",
       "      <td>ZA</td>\n",
       "      <td>1603154161</td>\n",
       "    </tr>\n",
       "    <tr>\n",
       "      <th>32</th>\n",
       "      <td>rawson</td>\n",
       "      <td>-43.30</td>\n",
       "      <td>-65.10</td>\n",
       "      <td>10.87</td>\n",
       "      <td>48</td>\n",
       "      <td>0</td>\n",
       "      <td>2.56</td>\n",
       "      <td>AR</td>\n",
       "      <td>1603154243</td>\n",
       "    </tr>\n",
       "    <tr>\n",
       "      <th>33</th>\n",
       "      <td>fortuna foothills</td>\n",
       "      <td>32.66</td>\n",
       "      <td>-114.41</td>\n",
       "      <td>37.00</td>\n",
       "      <td>13</td>\n",
       "      <td>1</td>\n",
       "      <td>2.60</td>\n",
       "      <td>US</td>\n",
       "      <td>1603154244</td>\n",
       "    </tr>\n",
       "    <tr>\n",
       "      <th>34</th>\n",
       "      <td>alofi</td>\n",
       "      <td>-19.06</td>\n",
       "      <td>-169.92</td>\n",
       "      <td>25.00</td>\n",
       "      <td>73</td>\n",
       "      <td>75</td>\n",
       "      <td>7.20</td>\n",
       "      <td>NU</td>\n",
       "      <td>1603154245</td>\n",
       "    </tr>\n",
       "    <tr>\n",
       "      <th>35</th>\n",
       "      <td>hermanus</td>\n",
       "      <td>-34.42</td>\n",
       "      <td>19.23</td>\n",
       "      <td>13.89</td>\n",
       "      <td>80</td>\n",
       "      <td>15</td>\n",
       "      <td>0.89</td>\n",
       "      <td>ZA</td>\n",
       "      <td>1603154098</td>\n",
       "    </tr>\n",
       "    <tr>\n",
       "      <th>36</th>\n",
       "      <td>lebu</td>\n",
       "      <td>-37.62</td>\n",
       "      <td>-73.65</td>\n",
       "      <td>9.96</td>\n",
       "      <td>75</td>\n",
       "      <td>4</td>\n",
       "      <td>6.65</td>\n",
       "      <td>CL</td>\n",
       "      <td>1603154216</td>\n",
       "    </tr>\n",
       "    <tr>\n",
       "      <th>37</th>\n",
       "      <td>alghero</td>\n",
       "      <td>40.56</td>\n",
       "      <td>8.32</td>\n",
       "      <td>9.00</td>\n",
       "      <td>100</td>\n",
       "      <td>57</td>\n",
       "      <td>0.50</td>\n",
       "      <td>IT</td>\n",
       "      <td>1603154249</td>\n",
       "    </tr>\n",
       "    <tr>\n",
       "      <th>38</th>\n",
       "      <td>kalga</td>\n",
       "      <td>50.93</td>\n",
       "      <td>118.90</td>\n",
       "      <td>3.34</td>\n",
       "      <td>75</td>\n",
       "      <td>100</td>\n",
       "      <td>1.91</td>\n",
       "      <td>RU</td>\n",
       "      <td>1603154250</td>\n",
       "    </tr>\n",
       "    <tr>\n",
       "      <th>39</th>\n",
       "      <td>puerto ayora</td>\n",
       "      <td>-0.74</td>\n",
       "      <td>-90.35</td>\n",
       "      <td>21.11</td>\n",
       "      <td>90</td>\n",
       "      <td>98</td>\n",
       "      <td>3.13</td>\n",
       "      <td>EC</td>\n",
       "      <td>1603154252</td>\n",
       "    </tr>\n",
       "    <tr>\n",
       "      <th>40</th>\n",
       "      <td>bluff</td>\n",
       "      <td>-46.60</td>\n",
       "      <td>168.33</td>\n",
       "      <td>9.44</td>\n",
       "      <td>88</td>\n",
       "      <td>54</td>\n",
       "      <td>4.92</td>\n",
       "      <td>NZ</td>\n",
       "      <td>1603154253</td>\n",
       "    </tr>\n",
       "    <tr>\n",
       "      <th>41</th>\n",
       "      <td>ntoum</td>\n",
       "      <td>0.38</td>\n",
       "      <td>9.78</td>\n",
       "      <td>27.00</td>\n",
       "      <td>83</td>\n",
       "      <td>75</td>\n",
       "      <td>2.60</td>\n",
       "      <td>GA</td>\n",
       "      <td>1603154254</td>\n",
       "    </tr>\n",
       "    <tr>\n",
       "      <th>42</th>\n",
       "      <td>taksimo</td>\n",
       "      <td>56.34</td>\n",
       "      <td>114.88</td>\n",
       "      <td>-2.03</td>\n",
       "      <td>89</td>\n",
       "      <td>100</td>\n",
       "      <td>1.03</td>\n",
       "      <td>RU</td>\n",
       "      <td>1603154255</td>\n",
       "    </tr>\n",
       "    <tr>\n",
       "      <th>43</th>\n",
       "      <td>tuktoyaktuk</td>\n",
       "      <td>69.45</td>\n",
       "      <td>-133.04</td>\n",
       "      <td>-5.00</td>\n",
       "      <td>92</td>\n",
       "      <td>90</td>\n",
       "      <td>6.20</td>\n",
       "      <td>CA</td>\n",
       "      <td>1603154144</td>\n",
       "    </tr>\n",
       "    <tr>\n",
       "      <th>44</th>\n",
       "      <td>kapaa</td>\n",
       "      <td>22.08</td>\n",
       "      <td>-159.32</td>\n",
       "      <td>29.44</td>\n",
       "      <td>74</td>\n",
       "      <td>40</td>\n",
       "      <td>7.70</td>\n",
       "      <td>US</td>\n",
       "      <td>1603154014</td>\n",
       "    </tr>\n",
       "    <tr>\n",
       "      <th>45</th>\n",
       "      <td>sao joao da barra</td>\n",
       "      <td>-21.64</td>\n",
       "      <td>-41.05</td>\n",
       "      <td>22.61</td>\n",
       "      <td>83</td>\n",
       "      <td>100</td>\n",
       "      <td>5.06</td>\n",
       "      <td>BR</td>\n",
       "      <td>1603154259</td>\n",
       "    </tr>\n",
       "  </tbody>\n",
       "</table>\n",
       "</div>"
      ],
      "text/plain": [
       "                 city    lng     lat  temp_max  humidity  cloudiness  \\\n",
       "0           mahebourg -20.41   57.70     23.00        78          40   \n",
       "1            havelock  34.88  -76.90     21.00        83          90   \n",
       "2            souillac -20.52   57.52     23.00        78          40   \n",
       "3             rosario -32.95  -60.64     20.00        64          90   \n",
       "4           tuatapere -46.13  167.68      9.44        88          85   \n",
       "5             dudinka  69.41   86.18    -10.00        92          90   \n",
       "6              hobart -42.88  147.33     17.78        54          40   \n",
       "7              dillon  34.42  -79.37     17.78       100           1   \n",
       "8             ushuaia -54.80  -68.30      3.00        93          75   \n",
       "9           ostrovnoy  68.05   39.51      1.76        84         100   \n",
       "10            rikitea -23.12 -134.97     23.56        76           0   \n",
       "11         kaitangata -46.28  169.85     12.47        51          87   \n",
       "12             aktash  50.30   87.73     -8.16        91          96   \n",
       "13          busselton -33.65  115.33     20.56        48           0   \n",
       "14          hithadhoo  -0.60   73.08     28.14        78          71   \n",
       "15              avera  33.19  -82.53     20.00        77           1   \n",
       "16            okhotsk  59.38  143.30     -4.43        79          22   \n",
       "17         vila velha -20.33  -40.29     22.00        88          75   \n",
       "18         butaritari   3.07  172.79     28.06        77         100   \n",
       "19             lively  46.43  -81.15      4.44        69          90   \n",
       "20           marovoay -16.10   46.63     24.00        73          20   \n",
       "21          cape town -33.93   18.42     14.44        93          20   \n",
       "22          ilulissat  69.22  -51.10      3.00        74         100   \n",
       "23    haines junction  60.75 -137.51     -1.36        79         100   \n",
       "24          oriximina  -1.77  -55.87     29.57        49          61   \n",
       "25               hilo  19.73 -155.09     30.00        55           1   \n",
       "26             albany  42.60  -73.97     13.33        89         100   \n",
       "27            iqaluit  63.75  -68.51     -5.00        85          75   \n",
       "28              korla  41.76   86.15      5.56        88           0   \n",
       "29            mataura -46.19  168.86      9.44        88          83   \n",
       "30             kodiak  57.79 -152.41      9.00        49           1   \n",
       "31         bredasdorp -34.53   20.04     14.00        76          93   \n",
       "32             rawson -43.30  -65.10     10.87        48           0   \n",
       "33  fortuna foothills  32.66 -114.41     37.00        13           1   \n",
       "34              alofi -19.06 -169.92     25.00        73          75   \n",
       "35           hermanus -34.42   19.23     13.89        80          15   \n",
       "36               lebu -37.62  -73.65      9.96        75           4   \n",
       "37            alghero  40.56    8.32      9.00       100          57   \n",
       "38              kalga  50.93  118.90      3.34        75         100   \n",
       "39       puerto ayora  -0.74  -90.35     21.11        90          98   \n",
       "40              bluff -46.60  168.33      9.44        88          54   \n",
       "41              ntoum   0.38    9.78     27.00        83          75   \n",
       "42            taksimo  56.34  114.88     -2.03        89         100   \n",
       "43        tuktoyaktuk  69.45 -133.04     -5.00        92          90   \n",
       "44              kapaa  22.08 -159.32     29.44        74          40   \n",
       "45  sao joao da barra -21.64  -41.05     22.61        83         100   \n",
       "\n",
       "    wind_speed country        date  \n",
       "0         4.10      MU  1603154150  \n",
       "1         2.60      US  1603154204  \n",
       "2         4.10      MU  1603154146  \n",
       "3        10.30      AR  1603153977  \n",
       "4         4.92      NZ  1603154208  \n",
       "5         2.00      RU  1603154209  \n",
       "6         2.10      AU  1603154025  \n",
       "7         2.65      US  1603154211  \n",
       "8         8.70      AR  1603154213  \n",
       "9         5.98      RU  1603154214  \n",
       "10        4.96      PF  1603154215  \n",
       "11        4.71      NZ  1603154217  \n",
       "12        2.20      RU  1603154218  \n",
       "13        4.58      AU  1603154219  \n",
       "14        5.81      MV  1603154162  \n",
       "15        1.50      US  1603154222  \n",
       "16       10.53      RU  1603154220  \n",
       "17        1.00      BR  1603154224  \n",
       "18        4.78      KI  1603154173  \n",
       "19        2.10      CA  1603154227  \n",
       "20        2.10      MG  1603154228  \n",
       "21        2.60      ZA  1603154072  \n",
       "22        6.20      GL  1603154230  \n",
       "23        0.49      CA  1603154232  \n",
       "24        2.05      BR  1603154233  \n",
       "25        4.60      US  1603154003  \n",
       "26        2.42      US  1603154118  \n",
       "27        2.10      CA  1603154236  \n",
       "28        0.45      CN  1603154238  \n",
       "29        4.92      NZ  1603154239  \n",
       "30        5.10      US  1603153947  \n",
       "31        4.60      ZA  1603154161  \n",
       "32        2.56      AR  1603154243  \n",
       "33        2.60      US  1603154244  \n",
       "34        7.20      NU  1603154245  \n",
       "35        0.89      ZA  1603154098  \n",
       "36        6.65      CL  1603154216  \n",
       "37        0.50      IT  1603154249  \n",
       "38        1.91      RU  1603154250  \n",
       "39        3.13      EC  1603154252  \n",
       "40        4.92      NZ  1603154253  \n",
       "41        2.60      GA  1603154254  \n",
       "42        1.03      RU  1603154255  \n",
       "43        6.20      CA  1603154144  \n",
       "44        7.70      US  1603154014  \n",
       "45        5.06      BR  1603154259  "
      ]
     },
     "execution_count": 5,
     "metadata": {},
     "output_type": "execute_result"
    }
   ],
   "source": [
    "city_df = pd.DataFrame(data, columns = [\"city\", \"lng\", \"lat\", \"temp_max\", \"humidity\", \"cloudiness\", \"wind_speed\", \"country\", \"date\"])\n",
    "city_df"
   ]
  },
  {
   "cell_type": "code",
   "execution_count": 6,
   "metadata": {},
   "outputs": [
    {
     "data": {
      "text/html": [
       "<div>\n",
       "<style scoped>\n",
       "    .dataframe tbody tr th:only-of-type {\n",
       "        vertical-align: middle;\n",
       "    }\n",
       "\n",
       "    .dataframe tbody tr th {\n",
       "        vertical-align: top;\n",
       "    }\n",
       "\n",
       "    .dataframe thead th {\n",
       "        text-align: right;\n",
       "    }\n",
       "</style>\n",
       "<table border=\"1\" class=\"dataframe\">\n",
       "  <thead>\n",
       "    <tr style=\"text-align: right;\">\n",
       "      <th></th>\n",
       "      <th>lng</th>\n",
       "      <th>lat</th>\n",
       "      <th>temp_max</th>\n",
       "      <th>humidity</th>\n",
       "      <th>cloudiness</th>\n",
       "      <th>wind_speed</th>\n",
       "      <th>date</th>\n",
       "    </tr>\n",
       "  </thead>\n",
       "  <tbody>\n",
       "    <tr>\n",
       "      <th>count</th>\n",
       "      <td>46.000000</td>\n",
       "      <td>46.000000</td>\n",
       "      <td>46.000000</td>\n",
       "      <td>46.000000</td>\n",
       "      <td>46.000000</td>\n",
       "      <td>46.000000</td>\n",
       "      <td>4.600000e+01</td>\n",
       "    </tr>\n",
       "    <tr>\n",
       "      <th>mean</th>\n",
       "      <td>7.599130</td>\n",
       "      <td>-1.476304</td>\n",
       "      <td>13.717609</td>\n",
       "      <td>76.282609</td>\n",
       "      <td>57.739130</td>\n",
       "      <td>3.917391</td>\n",
       "      <td>1.603154e+09</td>\n",
       "    </tr>\n",
       "    <tr>\n",
       "      <th>std</th>\n",
       "      <td>41.492771</td>\n",
       "      <td>106.083617</td>\n",
       "      <td>11.657766</td>\n",
       "      <td>16.880841</td>\n",
       "      <td>38.666342</td>\n",
       "      <td>2.475098</td>\n",
       "      <td>8.066534e+01</td>\n",
       "    </tr>\n",
       "    <tr>\n",
       "      <th>min</th>\n",
       "      <td>-54.800000</td>\n",
       "      <td>-169.920000</td>\n",
       "      <td>-10.000000</td>\n",
       "      <td>13.000000</td>\n",
       "      <td>0.000000</td>\n",
       "      <td>0.450000</td>\n",
       "      <td>1.603154e+09</td>\n",
       "    </tr>\n",
       "    <tr>\n",
       "      <th>25%</th>\n",
       "      <td>-33.475000</td>\n",
       "      <td>-78.752500</td>\n",
       "      <td>4.720000</td>\n",
       "      <td>73.250000</td>\n",
       "      <td>20.000000</td>\n",
       "      <td>2.100000</td>\n",
       "      <td>1.603154e+09</td>\n",
       "    </tr>\n",
       "    <tr>\n",
       "      <th>50%</th>\n",
       "      <td>-0.110000</td>\n",
       "      <td>-15.985000</td>\n",
       "      <td>13.945000</td>\n",
       "      <td>78.500000</td>\n",
       "      <td>75.000000</td>\n",
       "      <td>3.615000</td>\n",
       "      <td>1.603154e+09</td>\n",
       "    </tr>\n",
       "    <tr>\n",
       "      <th>75%</th>\n",
       "      <td>45.472500</td>\n",
       "      <td>86.172500</td>\n",
       "      <td>22.902500</td>\n",
       "      <td>88.000000</td>\n",
       "      <td>90.000000</td>\n",
       "      <td>5.035000</td>\n",
       "      <td>1.603154e+09</td>\n",
       "    </tr>\n",
       "    <tr>\n",
       "      <th>max</th>\n",
       "      <td>69.450000</td>\n",
       "      <td>172.790000</td>\n",
       "      <td>37.000000</td>\n",
       "      <td>100.000000</td>\n",
       "      <td>100.000000</td>\n",
       "      <td>10.530000</td>\n",
       "      <td>1.603154e+09</td>\n",
       "    </tr>\n",
       "  </tbody>\n",
       "</table>\n",
       "</div>"
      ],
      "text/plain": [
       "             lng         lat   temp_max    humidity  cloudiness  wind_speed  \\\n",
       "count  46.000000   46.000000  46.000000   46.000000   46.000000   46.000000   \n",
       "mean    7.599130   -1.476304  13.717609   76.282609   57.739130    3.917391   \n",
       "std    41.492771  106.083617  11.657766   16.880841   38.666342    2.475098   \n",
       "min   -54.800000 -169.920000 -10.000000   13.000000    0.000000    0.450000   \n",
       "25%   -33.475000  -78.752500   4.720000   73.250000   20.000000    2.100000   \n",
       "50%    -0.110000  -15.985000  13.945000   78.500000   75.000000    3.615000   \n",
       "75%    45.472500   86.172500  22.902500   88.000000   90.000000    5.035000   \n",
       "max    69.450000  172.790000  37.000000  100.000000  100.000000   10.530000   \n",
       "\n",
       "               date  \n",
       "count  4.600000e+01  \n",
       "mean   1.603154e+09  \n",
       "std    8.066534e+01  \n",
       "min    1.603154e+09  \n",
       "25%    1.603154e+09  \n",
       "50%    1.603154e+09  \n",
       "75%    1.603154e+09  \n",
       "max    1.603154e+09  "
      ]
     },
     "execution_count": 6,
     "metadata": {},
     "output_type": "execute_result"
    }
   ],
   "source": [
    "city_df.describe()"
   ]
  },
  {
   "cell_type": "markdown",
   "metadata": {},
   "source": [
    "## Inspect the data and remove the cities where the humidity > 100%.\n",
    "----\n",
    "Skip this step if there are no cities that have humidity > 100%. "
   ]
  },
  {
   "cell_type": "code",
   "execution_count": 7,
   "metadata": {},
   "outputs": [
    {
     "data": {
      "text/plain": [
       "0     False\n",
       "1     False\n",
       "2     False\n",
       "3     False\n",
       "4     False\n",
       "5     False\n",
       "6     False\n",
       "7     False\n",
       "8     False\n",
       "9     False\n",
       "10    False\n",
       "11    False\n",
       "12    False\n",
       "13    False\n",
       "14    False\n",
       "15    False\n",
       "16    False\n",
       "17    False\n",
       "18    False\n",
       "19    False\n",
       "20    False\n",
       "21    False\n",
       "22    False\n",
       "23    False\n",
       "24    False\n",
       "25    False\n",
       "26    False\n",
       "27    False\n",
       "28    False\n",
       "29    False\n",
       "30    False\n",
       "31    False\n",
       "32    False\n",
       "33    False\n",
       "34    False\n",
       "35    False\n",
       "36    False\n",
       "37    False\n",
       "38    False\n",
       "39    False\n",
       "40    False\n",
       "41    False\n",
       "42    False\n",
       "43    False\n",
       "44    False\n",
       "45    False\n",
       "Name: humidity, dtype: bool"
      ]
     },
     "execution_count": 7,
     "metadata": {},
     "output_type": "execute_result"
    }
   ],
   "source": [
    "city_df[\"humidity\"]>100"
   ]
  },
  {
   "cell_type": "code",
   "execution_count": 17,
   "metadata": {},
   "outputs": [
    {
     "data": {
      "text/plain": [
       "Int64Index([], dtype='int64')"
      ]
     },
     "execution_count": 17,
     "metadata": {},
     "output_type": "execute_result"
    }
   ],
   "source": [
    "#  Get the indices of cities that have humidity over 100%.\n"
   ]
  },
  {
   "cell_type": "code",
   "execution_count": 19,
   "metadata": {},
   "outputs": [
    {
     "data": {
      "text/html": [
       "<div>\n",
       "<style scoped>\n",
       "    .dataframe tbody tr th:only-of-type {\n",
       "        vertical-align: middle;\n",
       "    }\n",
       "\n",
       "    .dataframe tbody tr th {\n",
       "        vertical-align: top;\n",
       "    }\n",
       "\n",
       "    .dataframe thead th {\n",
       "        text-align: right;\n",
       "    }\n",
       "</style>\n",
       "<table border=\"1\" class=\"dataframe\">\n",
       "  <thead>\n",
       "    <tr style=\"text-align: right;\">\n",
       "      <th></th>\n",
       "      <th>City</th>\n",
       "      <th>Lat</th>\n",
       "      <th>Lng</th>\n",
       "      <th>Max Temp</th>\n",
       "      <th>Humidity</th>\n",
       "      <th>Cloudiness</th>\n",
       "      <th>Wind Speed</th>\n",
       "      <th>Country</th>\n",
       "      <th>Date</th>\n",
       "    </tr>\n",
       "  </thead>\n",
       "  <tbody>\n",
       "    <tr>\n",
       "      <td>0</td>\n",
       "      <td>butaritari</td>\n",
       "      <td>3.07</td>\n",
       "      <td>172.79</td>\n",
       "      <td>83.32</td>\n",
       "      <td>74</td>\n",
       "      <td>84</td>\n",
       "      <td>10.42</td>\n",
       "      <td>KI</td>\n",
       "      <td>1593605283</td>\n",
       "    </tr>\n",
       "    <tr>\n",
       "      <td>1</td>\n",
       "      <td>yerbogachen</td>\n",
       "      <td>61.28</td>\n",
       "      <td>108.01</td>\n",
       "      <td>79.52</td>\n",
       "      <td>58</td>\n",
       "      <td>20</td>\n",
       "      <td>7.70</td>\n",
       "      <td>RU</td>\n",
       "      <td>1593605121</td>\n",
       "    </tr>\n",
       "    <tr>\n",
       "      <td>2</td>\n",
       "      <td>cape town</td>\n",
       "      <td>-33.93</td>\n",
       "      <td>18.42</td>\n",
       "      <td>73.00</td>\n",
       "      <td>77</td>\n",
       "      <td>27</td>\n",
       "      <td>4.70</td>\n",
       "      <td>ZA</td>\n",
       "      <td>1593605039</td>\n",
       "    </tr>\n",
       "    <tr>\n",
       "      <td>3</td>\n",
       "      <td>touba</td>\n",
       "      <td>8.28</td>\n",
       "      <td>-7.68</td>\n",
       "      <td>79.97</td>\n",
       "      <td>75</td>\n",
       "      <td>82</td>\n",
       "      <td>3.58</td>\n",
       "      <td>CI</td>\n",
       "      <td>1593605284</td>\n",
       "    </tr>\n",
       "    <tr>\n",
       "      <td>4</td>\n",
       "      <td>jamestown</td>\n",
       "      <td>42.10</td>\n",
       "      <td>-79.24</td>\n",
       "      <td>64.00</td>\n",
       "      <td>88</td>\n",
       "      <td>1</td>\n",
       "      <td>6.93</td>\n",
       "      <td>US</td>\n",
       "      <td>1593605284</td>\n",
       "    </tr>\n",
       "  </tbody>\n",
       "</table>\n",
       "</div>"
      ],
      "text/plain": [
       "          City    Lat     Lng  Max Temp  Humidity  Cloudiness  Wind Speed  \\\n",
       "0   butaritari   3.07  172.79     83.32        74          84       10.42   \n",
       "1  yerbogachen  61.28  108.01     79.52        58          20        7.70   \n",
       "2    cape town -33.93   18.42     73.00        77          27        4.70   \n",
       "3        touba   8.28   -7.68     79.97        75          82        3.58   \n",
       "4    jamestown  42.10  -79.24     64.00        88           1        6.93   \n",
       "\n",
       "  Country        Date  \n",
       "0      KI  1593605283  \n",
       "1      RU  1593605121  \n",
       "2      ZA  1593605039  \n",
       "3      CI  1593605284  \n",
       "4      US  1593605284  "
      ]
     },
     "execution_count": 19,
     "metadata": {},
     "output_type": "execute_result"
    }
   ],
   "source": [
    "# Make a new DataFrame equal to the city data to drop all humidity outliers by index.\n",
    "# Passing \"inplace=False\" will make a copy of the city_data DataFrame, which we call \"clean_city_data\".\n"
   ]
  },
  {
   "cell_type": "code",
   "execution_count": 13,
   "metadata": {},
   "outputs": [],
   "source": [
    "city_df.to_csv(\"Output_Data/cities.csv\", index=False)\n"
   ]
  },
  {
   "cell_type": "markdown",
   "metadata": {},
   "source": [
    "## Plotting the Data\n",
    "* Use proper labeling of the plots using plot titles (including date of analysis) and axes labels.\n",
    "* Save the plotted figures as .pngs."
   ]
  },
  {
   "cell_type": "markdown",
   "metadata": {},
   "source": [
    "## Latitude vs. Temperature Plot"
   ]
  },
  {
   "cell_type": "code",
   "execution_count": 8,
   "metadata": {
    "scrolled": true
   },
   "outputs": [
    {
     "data": {
      "image/png": "[encoded data removed]",
      "text/plain": [
       "<Figure size 432x288 with 1 Axes>"
      ]
     },
     "metadata": {
      "needs_background": "light"
     },
     "output_type": "display_data"
    }
   ],
   "source": [
    "# Create the Scatter Plot\n",
    "plt.scatter(city_df[\"lat\"], city_df[\"temp_max\"], facecolor= \"blue\")\n",
    "plt.title(\"City Latitude vs. Max Temperature (10/18/20)\")\n",
    "plt.xlabel(\"Latitude\")\n",
    "plt.ylabel(\"Max Temperature (C)\")\n",
    "plt.grid()\n",
    "#plt.savefig(Images/CityLatitudevsMaxTemperature.png)"
   ]
  },
  {
   "cell_type": "markdown",
   "metadata": {},
   "source": [
    "## Latitude vs. Humidity Plot"
   ]
  },
  {
   "cell_type": "code",
   "execution_count": 9,
   "metadata": {},
   "outputs": [
    {
     "data": {
      "image/png": "[encoded data removed]",
      "text/plain": [
       "<Figure size 432x288 with 1 Axes>"
      ]
     },
     "metadata": {
      "needs_background": "light"
     },
     "output_type": "display_data"
    }
   ],
   "source": [
    "# Create the Scatter Plot\n",
    "plt.scatter(city_df[\"lat\"], city_df[\"humidity\"], facecolor= \"blue\")\n",
    "plt.title(\"City Latitude vs. Humidity (10/18/20)\")\n",
    "plt.xlabel(\"Latitude\")\n",
    "plt.ylabel(\"Humidity (%)\")\n",
    "plt.grid()\n",
    "#plt.savefig(Images/CityLatitudevsHumidity.png)"
   ]
  },
  {
   "cell_type": "markdown",
   "metadata": {},
   "source": [
    "## Latitude vs. Cloudiness Plot"
   ]
  },
  {
   "cell_type": "code",
   "execution_count": 10,
   "metadata": {},
   "outputs": [
    {
     "data": {
      "image/png": "[encoded data removed]",
      "text/plain": [
       "<Figure size 432x288 with 1 Axes>"
      ]
     },
     "metadata": {
      "needs_background": "light"
     },
     "output_type": "display_data"
    }
   ],
   "source": [
    "# Create the Scatter Plot\n",
    "plt.scatter(city_df[\"lat\"], city_df[\"cloudiness\"], facecolor= \"blue\")\n",
    "plt.title(\"City Latitude vs. Cloudiness (10/18/20)\")\n",
    "plt.xlabel(\"Latitude\")\n",
    "plt.ylabel(\"Cloudiness (%)\")\n",
    "plt.grid()\n",
    "#plt.savefig(Images/CityLatitudevsCloudiness.png)"
   ]
  },
  {
   "cell_type": "markdown",
   "metadata": {},
   "source": [
    "## Latitude vs. Wind Speed Plot"
   ]
  },
  {
   "cell_type": "code",
   "execution_count": 11,
   "metadata": {},
   "outputs": [
    {
     "data": {
      "image/png": "[encoded data removed]",
      "text/plain": [
       "<Figure size 432x288 with 1 Axes>"
      ]
     },
     "metadata": {
      "needs_background": "light"
     },
     "output_type": "display_data"
    }
   ],
   "source": [
    "# Create the Scatter Plot\n",
    "plt.scatter(city_df[\"lat\"], city_df[\"wind_speed\"], facecolor= \"blue\")\n",
    "plt.title(\"City Latitude vs. Wind Speed (10/18/20)\")\n",
    "plt.xlabel(\"Latitude\")\n",
    "plt.ylabel(\"Wind Speed (mph)\")\n",
    "plt.grid()\n",
    "#plt.savefig(Images/CityLatitudevsWindSpeed.png)"
   ]
  },
  {
   "cell_type": "markdown",
   "metadata": {},
   "source": [
    "## Linear Regression"
   ]
  },
  {
   "cell_type": "code",
   "execution_count": 12,
   "metadata": {},
   "outputs": [],
   "source": [
    "# Create a northern and southern hemisphere DataFrame\n",
    "northern_hem = city_df.loc[city_df[\"lat\"]>= 0]\n",
    "southern_hem = city_df.loc[city_df[\"lat\"]< 0]"
   ]
  },
  {
   "cell_type": "code",
   "execution_count": 13,
   "metadata": {},
   "outputs": [],
   "source": [
    "def linear_regression(x, y):\n",
    "    print(f\"The r-squared is : {round(st.pearsonr(x, y)[0], 2)}\")\n",
    "    (slope, intercept, rvalue, pvalue, stderr) = linregress(x, y)\n",
    "    regress_values = x * slope + intercept\n",
    "    line_eq = \"y = \" + str(round(slope,2)) + \"x + \" + str(round(intercept, 2))\n",
    "    plt.scatter(x, y)\n",
    "    plt.plot (x, regress_values, \"r-\")\n",
    "    return line_eq\n",
    "\n",
    "# Annotating\n",
    "def annotate(line_eq, a, b):\n",
    "    plt.annotate(line_eq,(a,b), fontsize=15,color=\"red\")"
   ]
  },
  {
   "cell_type": "markdown",
   "metadata": {},
   "source": [
    "####  Northern Hemisphere - Max Temp vs. Latitude Linear Regression"
   ]
  },
  {
   "cell_type": "code",
   "execution_count": 14,
   "metadata": {},
   "outputs": [
    {
     "name": "stdout",
     "output_type": "stream",
     "text": [
      "The r-squared is : -0.16\n"
     ]
    },
    {
     "data": {
      "text/plain": [
       "Text(0, 0.5, 'Max Temp (C)')"
      ]
     },
     "execution_count": 14,
     "metadata": {},
     "output_type": "execute_result"
    },
    {
     "data": {
      "image/png": "[encoded data removed]",
      "text/plain": [
       "<Figure size 432x288 with 1 Axes>"
      ]
     },
     "metadata": {
      "needs_background": "light"
     },
     "output_type": "display_data"
    }
   ],
   "source": [
    "equation = linear_regression(northern_hem[\"lat\"], northern_hem[\"temp_max\"])\n",
    "annotate(equation, 0, 0)\n",
    "\n",
    "plt.title(\"Northern Hemisphere: Max Temperature vs Latitude\")\n",
    "plt.xlabel(\"Latitude\")\n",
    "plt.ylabel(\"Max Temp (C)\")\n",
    "#plt.savefig(Images/NorthernMaxTempvsLatitude.png)"
   ]
  },
  {
   "cell_type": "markdown",
   "metadata": {},
   "source": [
    "####  Southern Hemisphere - Max Temp vs. Latitude Linear Regression"
   ]
  },
  {
   "cell_type": "code",
   "execution_count": 16,
   "metadata": {},
   "outputs": [
    {
     "name": "stdout",
     "output_type": "stream",
     "text": [
      "The r-squared is: 0.05010594448306307\n"
     ]
    },
    {
     "data": {
      "image/png": "[encoded data removed]",
      "text/plain": [
       "<Figure size 432x288 with 1 Axes>"
      ]
     },
     "metadata": {
      "needs_background": "light"
     },
     "output_type": "display_data"
    }
   ],
   "source": [
    "x_values = city_df['lat']\n",
    "y_values = city_df['temp_max']\n",
    "(slope, intercept, rvalue, pvalue, stderr) = linregress(x_values, y_values)\n",
    "regress_values = x_values * slope + intercept\n",
    "line_eq = \"y = \" + str(round(slope,2)) + \"x + \" + str(round(intercept,2))\n",
    "plt.scatter(x_values,y_values)\n",
    "plt.plot(x_values,regress_values,\"r-\")\n",
    "plt.annotate(line_eq,(6,10),fontsize=15,color=\"red\")\n",
    "plt.xlabel('Latitude')\n",
    "plt.ylabel('Max Temp (C)')\n",
    "print(f\"The r-squared is: {rvalue**2}\")\n",
    "plt.show()"
   ]
  },
  {
   "cell_type": "markdown",
   "metadata": {},
   "source": [
    "####  Northern Hemisphere - Humidity (%) vs. Latitude Linear Regression"
   ]
  },
  {
   "cell_type": "code",
   "execution_count": 17,
   "metadata": {},
   "outputs": [
    {
     "name": "stdout",
     "output_type": "stream",
     "text": [
      "The r-squared is: 0.024629584813788876\n"
     ]
    },
    {
     "data": {
      "image/png": "[encoded data removed]",
      "text/plain": [
       "<Figure size 432x288 with 1 Axes>"
      ]
     },
     "metadata": {
      "needs_background": "light"
     },
     "output_type": "display_data"
    }
   ],
   "source": [
    "x_values = city_df['lat']\n",
    "y_values = city_df['humidity']\n",
    "(slope, intercept, rvalue, pvalue, stderr) = linregress(x_values, y_values)\n",
    "regress_values = x_values * slope + intercept\n",
    "line_eq = \"y = \" + str(round(slope,2)) + \"x + \" + str(round(intercept,2))\n",
    "plt.scatter(x_values,y_values)\n",
    "plt.plot(x_values,regress_values,\"r-\")\n",
    "plt.annotate(line_eq,(6,10),fontsize=15,color=\"red\")\n",
    "plt.xlabel('Latitude')\n",
    "plt.ylabel('Humidity')\n",
    "print(f\"The r-squared is: {rvalue**2}\")\n",
    "plt.show()"
   ]
  },
  {
   "cell_type": "markdown",
   "metadata": {},
   "source": [
    "####  Southern Hemisphere - Humidity (%) vs. Latitude Linear Regression"
   ]
  },
  {
   "cell_type": "code",
   "execution_count": 18,
   "metadata": {},
   "outputs": [
    {
     "name": "stdout",
     "output_type": "stream",
     "text": [
      "The r-squared is: 0.024629584813788876\n"
     ]
    },
    {
     "data": {
      "image/png": "[encoded data removed]",
      "text/plain": [
       "<Figure size 432x288 with 1 Axes>"
      ]
     },
     "metadata": {
      "needs_background": "light"
     },
     "output_type": "display_data"
    }
   ],
   "source": [
    "x_values = city_df['lat']\n",
    "y_values = city_df['humidity']\n",
    "(slope, intercept, rvalue, pvalue, stderr) = linregress(x_values, y_values)\n",
    "regress_values = x_values * slope + intercept\n",
    "line_eq = \"y = \" + str(round(slope,2)) + \"x + \" + str(round(intercept,2))\n",
    "plt.scatter(x_values,y_values)\n",
    "plt.plot(x_values,regress_values,\"r-\")\n",
    "plt.annotate(line_eq,(6,10),fontsize=15,color=\"red\")\n",
    "plt.xlabel('Latitude')\n",
    "plt.ylabel('Humidity')\n",
    "print(f\"The r-squared is: {rvalue**2}\")\n",
    "plt.show()"
   ]
  },
  {
   "cell_type": "markdown",
   "metadata": {},
   "source": [
    "####  Northern Hemisphere - Cloudiness (%) vs. Latitude Linear Regression"
   ]
  },
  {
   "cell_type": "code",
   "execution_count": 19,
   "metadata": {},
   "outputs": [
    {
     "name": "stdout",
     "output_type": "stream",
     "text": [
      "The r-squared is: 0.03155252954519748\n"
     ]
    },
    {
     "data": {
      "image/png": "[encoded data removed]",
      "text/plain": [
       "<Figure size 432x288 with 1 Axes>"
      ]
     },
     "metadata": {
      "needs_background": "light"
     },
     "output_type": "display_data"
    }
   ],
   "source": [
    "x_values = city_df['lat']\n",
    "y_values = city_df['cloudiness']\n",
    "(slope, intercept, rvalue, pvalue, stderr) = linregress(x_values, y_values)\n",
    "regress_values = x_values * slope + intercept\n",
    "line_eq = \"y = \" + str(round(slope,2)) + \"x + \" + str(round(intercept,2))\n",
    "plt.scatter(x_values,y_values)\n",
    "plt.plot(x_values,regress_values,\"r-\")\n",
    "plt.annotate(line_eq,(6,10),fontsize=15,color=\"red\")\n",
    "plt.xlabel('Latitude')\n",
    "plt.ylabel('Cloudiness)')\n",
    "print(f\"The r-squared is: {rvalue**2}\")\n",
    "plt.show()"
   ]
  },
  {
   "cell_type": "markdown",
   "metadata": {},
   "source": [
    "####  Southern Hemisphere - Cloudiness (%) vs. Latitude Linear Regression"
   ]
  },
  {
   "cell_type": "code",
   "execution_count": 20,
   "metadata": {},
   "outputs": [
    {
     "name": "stdout",
     "output_type": "stream",
     "text": [
      "The r-squared is: 0.03155252954519748\n"
     ]
    },
    {
     "data": {
      "image/png": "[encoded data removed]",
      "text/plain": [
       "<Figure size 432x288 with 1 Axes>"
      ]
     },
     "metadata": {
      "needs_background": "light"
     },
     "output_type": "display_data"
    }
   ],
   "source": [
    "x_values = city_df['lat']\n",
    "y_values = city_df['cloudiness']\n",
    "(slope, intercept, rvalue, pvalue, stderr) = linregress(x_values, y_values)\n",
    "regress_values = x_values * slope + intercept\n",
    "line_eq = \"y = \" + str(round(slope,2)) + \"x + \" + str(round(intercept,2))\n",
    "plt.scatter(x_values,y_values)\n",
    "plt.plot(x_values,regress_values,\"r-\")\n",
    "plt.annotate(line_eq,(6,10),fontsize=15,color=\"red\")\n",
    "plt.xlabel('Latitude')\n",
    "plt.ylabel('Max Temp (C)')\n",
    "print(f\"The r-squared is: {rvalue**2}\")\n",
    "plt.show()"
   ]
  },
  {
   "cell_type": "markdown",
   "metadata": {},
   "source": [
    "####  Northern Hemisphere - Wind Speed (mph) vs. Latitude Linear Regression"
   ]
  },
  {
   "cell_type": "code",
   "execution_count": 22,
   "metadata": {},
   "outputs": [
    {
     "name": "stdout",
     "output_type": "stream",
     "text": [
      "The r-squared is: 0.004299807875127459\n"
     ]
    },
    {
     "data": {
      "image/png": "[encoded data removed]",
      "text/plain": [
       "<Figure size 432x288 with 1 Axes>"
      ]
     },
     "metadata": {
      "needs_background": "light"
     },
     "output_type": "display_data"
    }
   ],
   "source": [
    "x_values = city_df['lat']\n",
    "y_values = city_df['wind_speed']\n",
    "(slope, intercept, rvalue, pvalue, stderr) = linregress(x_values, y_values)\n",
    "regress_values = x_values * slope + intercept\n",
    "line_eq = \"y = \" + str(round(slope,2)) + \"x + \" + str(round(intercept,2))\n",
    "plt.scatter(x_values,y_values)\n",
    "plt.plot(x_values,regress_values,\"r-\")\n",
    "plt.annotate(line_eq,(6,10),fontsize=15,color=\"red\")\n",
    "plt.xlabel('Latitude')\n",
    "plt.ylabel('Wind Speed')\n",
    "print(f\"The r-squared is: {rvalue**2}\")\n",
    "plt.show()"
   ]
  },
  {
   "cell_type": "markdown",
   "metadata": {},
   "source": [
    "####  Southern Hemisphere - Wind Speed (mph) vs. Latitude Linear Regression"
   ]
  },
  {
   "cell_type": "code",
   "execution_count": 21,
   "metadata": {},
   "outputs": [
    {
     "name": "stdout",
     "output_type": "stream",
     "text": [
      "The r-squared is: 0.004299807875127459\n"
     ]
    },
    {
     "data": {
      "image/png": "[encoded data removed]",
      "text/plain": [
       "<Figure size 432x288 with 1 Axes>"
      ]
     },
     "metadata": {
      "needs_background": "light"
     },
     "output_type": "display_data"
    }
   ],
   "source": [
    "x_values = city_df['lat']\n",
    "y_values = city_df['wind_speed']\n",
    "(slope, intercept, rvalue, pvalue, stderr) = linregress(x_values, y_values)\n",
    "regress_values = x_values * slope + intercept\n",
    "line_eq = \"y = \" + str(round(slope,2)) + \"x + \" + str(round(intercept,2))\n",
    "plt.scatter(x_values,y_values)\n",
    "plt.plot(x_values,regress_values,\"r-\")\n",
    "plt.annotate(line_eq,(6,10),fontsize=15,color=\"red\")\n",
    "plt.xlabel('Latitude')\n",
    "plt.ylabel('Wind Speed')\n",
    "print(f\"The r-squared is: {rvalue**2}\")\n",
    "plt.show()"
   ]
  },
  {
   "cell_type": "code",
   "execution_count": null,
   "metadata": {},
   "outputs": [],
   "source": []
  }
 ],
 "metadata": {
  "anaconda-cloud": {},
  "kernel_info": {
   "name": "python3"
  },
  "kernelspec": {
   "display_name": "Python [conda env:PythonData] *",
   "language": "python",
   "name": "conda-env-PythonData-py"
  },
  "language_info": {
   "codemirror_mode": {
    "name": "ipython",
    "version": 3
   },
   "file_extension": ".py",
   "mimetype": "text/x-python",
   "name": "python",
   "nbconvert_exporter": "python",
   "pygments_lexer": "ipython3",
   "version": "3.6.12"
  },
  "latex_envs": {
   "LaTeX_envs_menu_present": true,
   "autoclose": false,
   "autocomplete": true,
   "bibliofile": "biblio.bib",
   "cite_by": "apalike",
   "current_citInitial": 1,
   "eqLabelWithNumbers": true,
   "eqNumInitial": 1,
   "hotkeys": {
    "equation": "Ctrl-E",
    "itemize": "Ctrl-I"
   },
   "labels_anchors": false,
   "latex_user_defs": false,
   "report_style_numbering": false,
   "user_envs_cfg": false
  },
  "nteract": {
   "version": "0.12.3"
  }
 },
 "nbformat": 4,
 "nbformat_minor": 2
}
