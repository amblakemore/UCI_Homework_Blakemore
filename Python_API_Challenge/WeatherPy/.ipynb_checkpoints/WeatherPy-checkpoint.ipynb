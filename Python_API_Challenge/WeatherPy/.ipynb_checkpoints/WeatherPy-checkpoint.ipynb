{
 "cells": [
  {
   "cell_type": "markdown",
   "metadata": {},
   "source": [
    "# WeatherPy\n",
    "----\n",
    "\n",
    "#### Note\n",
    "* Instructions have been included for each segment. You do not have to follow them exactly, but they are included to help you think through the steps."
   ]
  },
  {
   "cell_type": "code",
   "execution_count": 1,
   "metadata": {
    "scrolled": true
   },
   "outputs": [],
   "source": [
    "# Setup\n",
    "import pandas as pd\n",
    "import numpy as np\n",
    "import matplotlib.pyplot as plt\n",
    "import requests\n",
    "import time\n",
    "from config import api_key\n",
    "from citipy import citipy\n",
    "import scipy.stats as st\n",
    "from scipy.stats import linregress"
   ]
  },
  {
   "cell_type": "markdown",
   "metadata": {},
   "source": [
    "## Generate Cities List"
   ]
  },
  {
   "cell_type": "code",
   "execution_count": 2,
   "metadata": {},
   "outputs": [
    {
     "data": {
      "text/plain": [
       "604"
      ]
     },
     "execution_count": 2,
     "metadata": {},
     "output_type": "execute_result"
    }
   ],
   "source": [
    "# Pulling the Cities\n",
    "lat_range = (-90, 90)\n",
    "lng_range = (-180, 180)\n",
    "lat_lng_list = []\n",
    "cities = []\n",
    "\n",
    "# Generate Latitudes\n",
    "lat = np.random.uniform(lat_range[0], lat_range[1],size= 1500)\n",
    "lng = np.random.uniform(lng_range[0], lng_range[1],size= 1500)\n",
    "lat_lng_list = zip(lat, lng)\n",
    "\n",
    "for lat_lng in lat_lng_list:\n",
    "    city = citipy.nearest_city(lat_lng[0], lat_lng[1]).city_name\n",
    "    if city not in cities:\n",
    "        cities.append(city)\n",
    "len(cities)"
   ]
  },
  {
   "cell_type": "markdown",
   "metadata": {},
   "source": [
    "### Perform API Calls\n",
    "* Perform a weather check on each city using a series of successive API calls.\n",
    "* Include a print log of each city as it'sbeing processed (with the city number and city name).\n"
   ]
  },
  {
   "cell_type": "code",
   "execution_count": 3,
   "metadata": {
    "scrolled": true
   },
   "outputs": [],
   "source": [
    "#url = \"http://api.openweathermap.org/data/2.5/weather?\"\n",
    "#query_url = url + \"appid=\" + api_key + \"&q=\" + \"London\"\n",
    "#result = requests.get(query_url).json()\n",
    "#result"
   ]
  },
  {
   "cell_type": "code",
   "execution_count": 4,
   "metadata": {
    "scrolled": true
   },
   "outputs": [
    {
     "name": "stdout",
     "output_type": "stream",
     "text": [
      "1 albany\n",
      "2 sisimiut\n",
      "3 jamestown\n",
      "4 butaritari\n",
      "5 saint george\n",
      "6 ola\n",
      "7 new norfolk\n",
      "City not found\n",
      "9 nome\n",
      "10 arraial do cabo\n",
      "11 mataura\n",
      "12 punta arenas\n",
      "13 pleshanovo\n",
      "14 udachnyy\n",
      "15 petropavlovsk-kamchatskiy\n",
      "16 aktau\n",
      "17 norman wells\n",
      "18 vaini\n",
      "19 tuktoyaktuk\n",
      "20 hobart\n",
      "21 busselton\n",
      "22 itarema\n",
      "23 dikson\n",
      "24 henties bay\n",
      "25 campbell river\n",
      "26 rikitea\n",
      "27 hermanus\n",
      "28 bonavista\n",
      "City not found\n",
      "30 puerto ayora\n",
      "31 nanortalik\n",
      "City not found\n",
      "33 bellevue\n",
      "34 port elizabeth\n",
      "35 bengkulu\n",
      "36 bredasdorp\n",
      "37 dingle\n",
      "38 arroyo\n",
      "39 ushuaia\n",
      "40 yairipok\n",
      "41 kwakoa\n",
      "42 tiksi\n",
      "43 castro\n",
      "44 hasaki\n",
      "45 carnarvon\n",
      "46 tuy hoa\n",
      "47 qaanaaq\n",
      "48 maldonado\n",
      "49 ohafia\n",
      "50 viedma\n",
      "51 fairbanks\n",
      "52 port alfred\n",
      "53 faanui\n",
      "54 sitka\n",
      "55 kearney\n",
      "56 progreso\n",
      "57 pangoa\n",
      "58 hailar\n",
      "59 izhevskoye\n",
      "60 saint-denis\n",
      "61 san vicente\n",
      "62 lagoa\n",
      "63 aitape\n",
      "64 mashhad\n",
      "65 caravelas\n",
      "66 maryville\n",
      "67 hithadhoo\n",
      "68 lompoc\n",
      "69 kiyasovo\n",
      "City not found\n",
      "71 altea\n",
      "72 port keats\n",
      "73 pathein\n",
      "74 kaitangata\n",
      "75 georgetown\n",
      "City not found\n",
      "City not found\n",
      "78 cabo san lucas\n",
      "79 vardo\n",
      "80 bemidji\n",
      "City not found\n",
      "82 filingue\n",
      "83 la ronge\n",
      "84 cap-aux-meules\n",
      "85 playas\n",
      "86 khatanga\n",
      "87 tra vinh\n",
      "88 celestun\n",
      "89 harper\n",
      "90 yar-sale\n",
      "91 mahebourg\n",
      "92 bambous virieux\n",
      "City not found\n",
      "94 kailua\n",
      "95 polis\n",
      "96 lakhdenpokhya\n",
      "97 isla mujeres\n",
      "98 east london\n",
      "99 kavieng\n",
      "100 olavarria\n",
      "101 launceston\n",
      "102 mar del plata\n",
      "103 emba\n",
      "104 bouca\n",
      "105 prince rupert\n",
      "106 altay\n",
      "107 pevek\n",
      "108 diu\n",
      "109 guimar\n",
      "110 hamilton\n",
      "111 yellowknife\n",
      "112 okhotsk\n",
      "113 buraydah\n",
      "114 alofi\n",
      "115 airai\n",
      "116 kaiyuan\n",
      "117 muravlenko\n",
      "118 strezhevoy\n",
      "119 chuy\n",
      "120 saint-augustin\n",
      "121 jerusalem\n",
      "122 codrington\n",
      "123 fortuna\n",
      "124 avarua\n",
      "125 kodiak\n",
      "City not found\n",
      "127 artigas\n",
      "128 ribeira grande\n",
      "129 price\n",
      "130 tezu\n",
      "131 khryashchevka\n",
      "132 provideniya\n",
      "133 oussouye\n",
      "134 marzuq\n",
      "135 sydney\n",
      "136 victoria\n",
      "137 longyearbyen\n",
      "138 thompson\n",
      "139 upernavik\n",
      "140 tromso\n",
      "City not found\n",
      "142 kamenka\n",
      "143 pisco\n",
      "144 althofen\n",
      "145 acapulco\n",
      "146 skegness\n",
      "147 koson\n",
      "148 farafangana\n",
      "149 bluff\n",
      "City not found\n",
      "151 lebu\n",
      "152 lavrentiya\n",
      "153 ketchikan\n",
      "154 bukama\n",
      "City not found\n",
      "City not found\n",
      "157 tasiilaq\n",
      "158 talnakh\n",
      "159 liku\n",
      "City not found\n",
      "161 goma\n",
      "162 saint-philippe\n",
      "163 barrow\n",
      "164 ambon\n",
      "165 hilo\n",
      "City not found\n",
      "City not found\n",
      "168 belmonte\n",
      "169 chicama\n",
      "170 luderitz\n",
      "171 nishihara\n",
      "172 ritchie\n",
      "173 manaure\n",
      "174 gouyave\n",
      "City not found\n",
      "176 tautira\n",
      "177 port lincoln\n",
      "City not found\n",
      "179 inhambane\n",
      "180 dalbandin\n",
      "181 tahoua\n",
      "182 namatanai\n",
      "183 marsh harbour\n",
      "184 arak\n",
      "City not found\n",
      "186 botou\n",
      "187 juegang\n",
      "188 songjianghe\n",
      "189 yelizavetino\n",
      "190 makakilo city\n",
      "191 chokurdakh\n",
      "City not found\n",
      "193 jablah\n",
      "194 osypenko\n",
      "195 ancud\n",
      "196 nyurba\n",
      "197 kalmar\n",
      "198 catamarca\n",
      "199 boende\n",
      "200 wernberg\n",
      "201 naze\n",
      "202 los llanos de aridane\n",
      "City not found\n",
      "204 kapaa\n",
      "205 olafsvik\n",
      "206 chapais\n",
      "207 lorengau\n",
      "208 pokhara\n",
      "209 moroni\n",
      "210 waynesville\n",
      "211 duku\n",
      "212 kavaratti\n",
      "213 mahajanga\n",
      "214 aanekoski\n",
      "215 atambua\n",
      "216 lesozavodsk\n",
      "217 athabasca\n",
      "218 cozumel\n",
      "219 pangnirtung\n",
      "220 sakakah\n",
      "221 esperance\n",
      "222 ilulissat\n",
      "223 ascension\n",
      "224 gimli\n",
      "225 igrim\n",
      "226 kurilsk\n",
      "227 fort nelson\n",
      "228 southbridge\n",
      "City not found\n",
      "City not found\n",
      "231 gat\n",
      "232 almaznyy\n",
      "233 kindu\n",
      "234 orthez\n",
      "235 roald\n",
      "236 kjollefjord\n",
      "237 chake chake\n",
      "238 vanimo\n",
      "239 medvedka\n",
      "240 atuona\n",
      "241 touba\n",
      "242 muli\n",
      "City not found\n",
      "244 coquimbo\n",
      "245 tchibanga\n",
      "246 cervo\n",
      "247 vylkove\n",
      "248 pitimbu\n",
      "249 roma\n",
      "250 clyde river\n",
      "251 aykhal\n",
      "252 severo-kurilsk\n",
      "253 te anau\n",
      "254 san quintin\n",
      "255 omboue\n",
      "256 san cristobal\n",
      "257 vallenar\n",
      "258 barcelos\n",
      "259 nikolskoye\n",
      "260 coihaique\n",
      "261 novyy urengoy\n",
      "262 soconusco\n",
      "263 cape town\n",
      "264 ballina\n",
      "265 salalah\n",
      "266 ulkan\n",
      "267 comodoro rivadavia\n",
      "268 alyangula\n",
      "269 kerman\n",
      "270 ust-koksa\n",
      "271 cherskiy\n",
      "272 shahr-e babak\n",
      "273 amazar\n",
      "274 kamien pomorski\n",
      "275 flin flon\n",
      "276 pimentel\n",
      "277 alekseyevsk\n",
      "278 vestmannaeyjar\n",
      "279 sawankhalok\n",
      "280 mbaiki\n",
      "281 mhlume\n",
      "282 san patricio\n",
      "283 bikaner\n",
      "284 kerrobert\n",
      "285 noumea\n",
      "286 saskylakh\n",
      "287 guerrero negro\n",
      "288 chingirlau\n",
      "289 cidreira\n",
      "290 kruisfontein\n",
      "291 meulaboh\n",
      "292 anori\n",
      "293 jabinyanah\n",
      "294 ipanema\n",
      "295 bahia honda\n",
      "296 jagannathpur\n",
      "297 constitucion\n",
      "City not found\n",
      "City not found\n",
      "City not found\n",
      "301 pahrump\n",
      "302 ahipara\n",
      "303 humberto de campos\n",
      "304 acarau\n",
      "305 viransehir\n",
      "306 srednekolymsk\n",
      "307 port macquarie\n",
      "308 manyana\n",
      "309 port hardy\n",
      "310 santa maria\n",
      "311 portland\n",
      "City not found\n",
      "313 iqaluit\n",
      "314 montrose\n",
      "315 sovetskiy\n",
      "City not found\n",
      "City not found\n",
      "318 kizhinga\n",
      "319 paralimni\n",
      "320 mandera\n",
      "321 pedro juan caballero\n",
      "322 xudat\n",
      "323 baghdad\n",
      "324 hvide sande\n",
      "325 manjacaze\n",
      "326 mount isa\n",
      "City not found\n",
      "328 alice springs\n",
      "329 kieta\n",
      "330 westport\n",
      "331 gornopravdinsk\n",
      "332 axim\n",
      "333 komsomolskiy\n",
      "City not found\n",
      "335 beringovskiy\n",
      "336 sterling\n",
      "337 szprotawa\n",
      "338 san rafael del sur\n",
      "339 ipua\n",
      "340 maceio\n",
      "341 khao wong\n",
      "342 klaksvik\n",
      "343 hofn\n",
      "344 bethel\n",
      "345 raudeberg\n",
      "346 lerwick\n",
      "347 karratha\n",
      "City not found\n",
      "349 iwanai\n",
      "350 sao filipe\n",
      "351 cockburn town\n",
      "352 esmeralda\n",
      "353 avera\n",
      "354 ambovombe\n",
      "355 careiro da varzea\n",
      "City not found\n",
      "357 porto belo\n",
      "358 ust-tsilma\n",
      "359 fayaoue\n",
      "360 saint-marc\n",
      "361 nanakuli\n",
      "362 yaan\n",
      "363 kem\n",
      "364 ipixuna\n",
      "365 haines junction\n",
      "366 synya\n",
      "367 groa\n",
      "368 puerto baquerizo moreno\n",
      "369 ishigaki\n",
      "370 grants\n",
      "371 goure\n",
      "372 moerai\n",
      "City not found\n",
      "374 yongchang\n",
      "375 kraslava\n",
      "376 xining\n",
      "377 poddorye\n",
      "378 hovd\n",
      "379 auki\n",
      "City not found\n",
      "381 kargil\n",
      "382 pangkalanbuun\n",
      "383 talara\n",
      "384 sikonge\n",
      "385 pimenta bueno\n",
      "386 manacapuru\n",
      "387 worcester\n",
      "388 shetpe\n",
      "389 labuhan\n",
      "390 quang ngai\n",
      "391 lakhimpur\n",
      "392 kloulklubed\n",
      "393 hami\n",
      "394 kenai\n",
      "395 araouane\n",
      "396 sevierville\n",
      "397 grand gaube\n",
      "398 rancho palos verdes\n",
      "399 waipawa\n",
      "400 nouadhibou\n",
      "City not found\n",
      "402 marsa matruh\n",
      "403 north platte\n",
      "404 norrkoping\n",
      "405 mayumba\n",
      "City not found\n",
      "407 sibolga\n",
      "City not found\n",
      "409 dalby\n",
      "City not found\n",
      "411 ponta do sol\n",
      "412 aleksin\n",
      "413 nalut\n",
      "414 katsuura\n",
      "415 balaipungut\n",
      "416 thinadhoo\n",
      "417 lodja\n",
      "418 kaoma\n",
      "419 lunenburg\n",
      "420 pareora\n",
      "421 lujan\n",
      "422 umm lajj\n",
      "423 itoman\n",
      "City not found\n",
      "425 seddon\n",
      "426 geraldton\n",
      "427 kaeo\n",
      "428 kokopo\n",
      "429 ixtapa\n",
      "430 kendal\n",
      "431 makinsk\n",
      "432 moose factory\n",
      "433 torbay\n",
      "434 aklavik\n",
      "435 balkhash\n",
      "436 clifton\n",
      "437 paamiut\n",
      "438 sheridan\n",
      "439 goderich\n",
      "440 vila franca do campo\n",
      "441 alekseyevka\n",
      "442 gamboma\n",
      "443 tiznit\n",
      "444 saint-pierre\n",
      "445 vokhtoga\n",
      "446 yenagoa\n",
      "447 santa cruz\n",
      "448 predivinsk\n",
      "449 palasa\n",
      "450 marawi\n",
      "451 melfi\n",
      "452 mahanoro\n",
      "453 zhigansk\n",
      "454 wajir\n",
      "455 svetlogorsk\n",
      "456 borken\n",
      "457 touros\n",
      "458 pucallpa\n",
      "459 qaqortoq\n",
      "460 lebanon\n",
      "461 tessalit\n",
      "462 dauriya\n",
      "463 eshowe\n",
      "464 bako\n",
      "465 abha\n",
      "466 hobyo\n",
      "467 rocha\n",
      "468 tawang\n",
      "469 leningradskiy\n",
      "470 turayf\n",
      "471 dongying\n",
      "472 sioux lookout\n",
      "473 kaithal\n",
      "474 huarmey\n",
      "475 san luis\n",
      "476 kasongo-lunda\n",
      "477 baruun-urt\n",
      "478 sokolo\n",
      "479 jacareacanga\n",
      "480 walvis bay\n",
      "City not found\n",
      "482 saint anthony\n",
      "483 caiaponia\n",
      "484 hearst\n",
      "485 narsaq\n",
      "486 mastic beach\n",
      "487 kudahuvadhoo\n",
      "488 lasa\n",
      "489 nalgonda\n",
      "490 riosucio\n",
      "491 ucluelet\n",
      "492 giyani\n",
      "493 beloha\n",
      "494 santa lucia\n",
      "City not found\n",
      "496 khandyga\n",
      "497 santa ana\n",
      "498 kemijarvi\n",
      "499 saraland\n",
      "City not found\n",
      "501 ahvaz\n",
      "502 mali\n",
      "503 basse-pointe\n",
      "504 usinsk\n",
      "505 kidal\n",
      "506 unai\n",
      "507 flinders\n",
      "City not found\n",
      "509 berlevag\n",
      "510 shingu\n",
      "511 beruwala\n",
      "512 ennis\n",
      "513 san martin\n",
      "514 shubarshi\n",
      "515 vianopolis\n",
      "City not found\n",
      "517 richards bay\n",
      "518 honiara\n",
      "519 pacifica\n",
      "City not found\n",
      "521 shimoda\n",
      "522 ternate\n",
      "523 kununurra\n",
      "City not found\n",
      "City not found\n",
      "526 swellendam\n",
      "527 zalantun\n",
      "City not found\n",
      "529 ostrovnoy\n",
      "530 calabozo\n",
      "531 saldanha\n",
      "532 emerald\n",
      "533 bay roberts\n",
      "534 moscow\n",
      "535 dongsheng\n",
      "536 tuatapere\n",
      "537 kahului\n",
      "538 tsumeb\n",
      "539 qena\n",
      "540 mnogovershinnyy\n",
      "City not found\n",
      "542 muswellbrook\n",
      "543 cayenne\n",
      "544 sembe\n",
      "545 jiguani\n",
      "546 neiafu\n",
      "547 nemuro\n",
      "City not found\n",
      "549 gasa\n",
      "550 tazovskiy\n",
      "551 rubbestadneset\n",
      "552 muthill\n",
      "553 kanye\n",
      "554 kargasok\n",
      "555 razole\n",
      "556 russell\n",
      "557 teya\n",
      "558 mackay\n",
      "559 inuvik\n",
      "City not found\n",
      "561 urengoy\n",
      "562 harindanga\n",
      "563 kirakira\n",
      "564 nassau\n",
      "565 yulara\n",
      "566 samarai\n",
      "567 chuncheng\n",
      "568 nhulunbuy\n",
      "569 phichit\n",
      "570 kalaleh\n",
      "571 ust-omchug\n",
      "572 lagos\n",
      "573 coos bay\n",
      "574 marathon\n",
      "City not found\n",
      "576 anadyr\n",
      "577 anloga\n",
      "578 tukrah\n",
      "579 brvenica\n",
      "580 storforshei\n",
      "581 santa cruz de la palma\n",
      "582 nurota\n",
      "583 hit\n",
      "584 champerico\n",
      "585 kutum\n",
      "586 presov\n",
      "587 sassandra\n",
      "588 lingao\n",
      "589 mandalgovi\n",
      "590 cadillac\n",
      "591 high level\n",
      "592 maluso\n",
      "593 quatre cocos\n",
      "594 khudumelapye\n",
      "595 portobelo\n",
      "596 mumford\n",
      "597 murchison\n",
      "598 kathmandu\n",
      "599 wichita falls\n",
      "600 banjar\n",
      "601 kizukuri\n",
      "602 calama\n",
      "603 bilibino\n",
      "604 tual\n"
     ]
    }
   ],
   "source": [
    "data= []\n",
    "counter = 0\n",
    "url = \"http://api.openweathermap.org/data/2.5/weather?\"\n",
    "units = \"imperial\"\n",
    "query_url = f\"{url}appid={api_key}&units={units}&q=\" \n",
    "#print(query_url)\n",
    "for city in cities:\n",
    "    result = requests.get(query_url+city).json()\n",
    "    counter = counter + 1\n",
    "    #print(result)\n",
    "    try:\n",
    "        lat = result[\"coord\"][\"lat\"]\n",
    "        lng = result[\"coord\"][\"lon\"]\n",
    "        temp_max = result[\"main\"][\"temp_max\"]\n",
    "        humidity = result[\"main\"][\"humidity\"]\n",
    "        cloudiness = result[\"clouds\"][\"all\"]\n",
    "        wind_speed = result[\"wind\"][\"speed\"]\n",
    "        country = result[\"sys\"][\"country\"]\n",
    "        date = result[\"dt\"]\n",
    "        data.append([city, lat, lng, temp_max, humidity, cloudiness, wind_speed, country, date])\n",
    "        print(f\"{counter} {city}\")\n",
    "        #print(city)\n",
    "        time.sleep(1)\n",
    "        \n",
    "    except:\n",
    "        print(\"City not found\")"
   ]
  },
  {
   "cell_type": "markdown",
   "metadata": {},
   "source": [
    "### Convert Raw Data to DataFrame\n",
    "* Export the city data into a .csv.\n",
    "* Display the DataFrame"
   ]
  },
  {
   "cell_type": "code",
   "execution_count": 5,
   "metadata": {},
   "outputs": [
    {
     "data": {
      "text/html": [
       "<div>\n",
       "<style scoped>\n",
       "    .dataframe tbody tr th:only-of-type {\n",
       "        vertical-align: middle;\n",
       "    }\n",
       "\n",
       "    .dataframe tbody tr th {\n",
       "        vertical-align: top;\n",
       "    }\n",
       "\n",
       "    .dataframe thead th {\n",
       "        text-align: right;\n",
       "    }\n",
       "</style>\n",
       "<table border=\"1\" class=\"dataframe\">\n",
       "  <thead>\n",
       "    <tr style=\"text-align: right;\">\n",
       "      <th></th>\n",
       "      <th>City</th>\n",
       "      <th>Longitude</th>\n",
       "      <th>Latitude</th>\n",
       "      <th>Max Temp</th>\n",
       "      <th>Humidity</th>\n",
       "      <th>Cloudiness</th>\n",
       "      <th>Wind Speed</th>\n",
       "      <th>Country</th>\n",
       "      <th>Date</th>\n",
       "    </tr>\n",
       "  </thead>\n",
       "  <tbody>\n",
       "    <tr>\n",
       "      <th>0</th>\n",
       "      <td>albany</td>\n",
       "      <td>42.60</td>\n",
       "      <td>-73.97</td>\n",
       "      <td>57.99</td>\n",
       "      <td>82</td>\n",
       "      <td>100</td>\n",
       "      <td>3.62</td>\n",
       "      <td>US</td>\n",
       "      <td>1603240803</td>\n",
       "    </tr>\n",
       "    <tr>\n",
       "      <th>1</th>\n",
       "      <td>sisimiut</td>\n",
       "      <td>66.94</td>\n",
       "      <td>-53.67</td>\n",
       "      <td>32.97</td>\n",
       "      <td>91</td>\n",
       "      <td>100</td>\n",
       "      <td>25.28</td>\n",
       "      <td>GL</td>\n",
       "      <td>1603240946</td>\n",
       "    </tr>\n",
       "    <tr>\n",
       "      <th>2</th>\n",
       "      <td>jamestown</td>\n",
       "      <td>42.10</td>\n",
       "      <td>-79.24</td>\n",
       "      <td>48.00</td>\n",
       "      <td>93</td>\n",
       "      <td>90</td>\n",
       "      <td>8.05</td>\n",
       "      <td>US</td>\n",
       "      <td>1603240947</td>\n",
       "    </tr>\n",
       "    <tr>\n",
       "      <th>3</th>\n",
       "      <td>butaritari</td>\n",
       "      <td>3.07</td>\n",
       "      <td>172.79</td>\n",
       "      <td>82.09</td>\n",
       "      <td>76</td>\n",
       "      <td>91</td>\n",
       "      <td>11.68</td>\n",
       "      <td>KI</td>\n",
       "      <td>1603240948</td>\n",
       "    </tr>\n",
       "    <tr>\n",
       "      <th>4</th>\n",
       "      <td>saint george</td>\n",
       "      <td>37.10</td>\n",
       "      <td>-113.58</td>\n",
       "      <td>84.20</td>\n",
       "      <td>9</td>\n",
       "      <td>1</td>\n",
       "      <td>5.82</td>\n",
       "      <td>US</td>\n",
       "      <td>1603240778</td>\n",
       "    </tr>\n",
       "    <tr>\n",
       "      <th>...</th>\n",
       "      <td>...</td>\n",
       "      <td>...</td>\n",
       "      <td>...</td>\n",
       "      <td>...</td>\n",
       "      <td>...</td>\n",
       "      <td>...</td>\n",
       "      <td>...</td>\n",
       "      <td>...</td>\n",
       "      <td>...</td>\n",
       "    </tr>\n",
       "    <tr>\n",
       "      <th>545</th>\n",
       "      <td>banjar</td>\n",
       "      <td>-8.19</td>\n",
       "      <td>114.97</td>\n",
       "      <td>86.00</td>\n",
       "      <td>84</td>\n",
       "      <td>75</td>\n",
       "      <td>2.24</td>\n",
       "      <td>ID</td>\n",
       "      <td>1603241652</td>\n",
       "    </tr>\n",
       "    <tr>\n",
       "      <th>546</th>\n",
       "      <td>kizukuri</td>\n",
       "      <td>40.81</td>\n",
       "      <td>140.39</td>\n",
       "      <td>64.00</td>\n",
       "      <td>50</td>\n",
       "      <td>20</td>\n",
       "      <td>2.24</td>\n",
       "      <td>JP</td>\n",
       "      <td>1603241653</td>\n",
       "    </tr>\n",
       "    <tr>\n",
       "      <th>547</th>\n",
       "      <td>calama</td>\n",
       "      <td>-22.47</td>\n",
       "      <td>-68.93</td>\n",
       "      <td>64.40</td>\n",
       "      <td>10</td>\n",
       "      <td>0</td>\n",
       "      <td>16.11</td>\n",
       "      <td>CL</td>\n",
       "      <td>1603241654</td>\n",
       "    </tr>\n",
       "    <tr>\n",
       "      <th>548</th>\n",
       "      <td>bilibino</td>\n",
       "      <td>68.05</td>\n",
       "      <td>166.44</td>\n",
       "      <td>22.17</td>\n",
       "      <td>94</td>\n",
       "      <td>100</td>\n",
       "      <td>2.06</td>\n",
       "      <td>RU</td>\n",
       "      <td>1603241656</td>\n",
       "    </tr>\n",
       "    <tr>\n",
       "      <th>549</th>\n",
       "      <td>tual</td>\n",
       "      <td>-5.67</td>\n",
       "      <td>132.75</td>\n",
       "      <td>77.83</td>\n",
       "      <td>88</td>\n",
       "      <td>100</td>\n",
       "      <td>12.57</td>\n",
       "      <td>ID</td>\n",
       "      <td>1603241657</td>\n",
       "    </tr>\n",
       "  </tbody>\n",
       "</table>\n",
       "<p>550 rows × 9 columns</p>\n",
       "</div>"
      ],
      "text/plain": [
       "             City  Longitude  Latitude  Max Temp  Humidity  Cloudiness  \\\n",
       "0          albany      42.60    -73.97     57.99        82         100   \n",
       "1        sisimiut      66.94    -53.67     32.97        91         100   \n",
       "2       jamestown      42.10    -79.24     48.00        93          90   \n",
       "3      butaritari       3.07    172.79     82.09        76          91   \n",
       "4    saint george      37.10   -113.58     84.20         9           1   \n",
       "..            ...        ...       ...       ...       ...         ...   \n",
       "545        banjar      -8.19    114.97     86.00        84          75   \n",
       "546      kizukuri      40.81    140.39     64.00        50          20   \n",
       "547        calama     -22.47    -68.93     64.40        10           0   \n",
       "548      bilibino      68.05    166.44     22.17        94         100   \n",
       "549          tual      -5.67    132.75     77.83        88         100   \n",
       "\n",
       "     Wind Speed Country        Date  \n",
       "0          3.62      US  1603240803  \n",
       "1         25.28      GL  1603240946  \n",
       "2          8.05      US  1603240947  \n",
       "3         11.68      KI  1603240948  \n",
       "4          5.82      US  1603240778  \n",
       "..          ...     ...         ...  \n",
       "545        2.24      ID  1603241652  \n",
       "546        2.24      JP  1603241653  \n",
       "547       16.11      CL  1603241654  \n",
       "548        2.06      RU  1603241656  \n",
       "549       12.57      ID  1603241657  \n",
       "\n",
       "[550 rows x 9 columns]"
      ]
     },
     "execution_count": 5,
     "metadata": {},
     "output_type": "execute_result"
    }
   ],
   "source": [
    "city_df = pd.DataFrame(data, columns = [\"City\", \"Longitude\", \"Latitude\", \"Max Temp\", \"Humidity\", \"Cloudiness\", \"Wind Speed\", \"Country\", \"Date\"])\n",
    "city_df"
   ]
  },
  {
   "cell_type": "code",
   "execution_count": 6,
   "metadata": {},
   "outputs": [
    {
     "data": {
      "text/html": [
       "<div>\n",
       "<style scoped>\n",
       "    .dataframe tbody tr th:only-of-type {\n",
       "        vertical-align: middle;\n",
       "    }\n",
       "\n",
       "    .dataframe tbody tr th {\n",
       "        vertical-align: top;\n",
       "    }\n",
       "\n",
       "    .dataframe thead th {\n",
       "        text-align: right;\n",
       "    }\n",
       "</style>\n",
       "<table border=\"1\" class=\"dataframe\">\n",
       "  <thead>\n",
       "    <tr style=\"text-align: right;\">\n",
       "      <th></th>\n",
       "      <th>Longitude</th>\n",
       "      <th>Latitude</th>\n",
       "      <th>Max Temp</th>\n",
       "      <th>Humidity</th>\n",
       "      <th>Cloudiness</th>\n",
       "      <th>Wind Speed</th>\n",
       "      <th>Date</th>\n",
       "    </tr>\n",
       "  </thead>\n",
       "  <tbody>\n",
       "    <tr>\n",
       "      <th>count</th>\n",
       "      <td>550.000000</td>\n",
       "      <td>550.000000</td>\n",
       "      <td>550.000000</td>\n",
       "      <td>550.000000</td>\n",
       "      <td>550.000000</td>\n",
       "      <td>550.000000</td>\n",
       "      <td>5.500000e+02</td>\n",
       "    </tr>\n",
       "    <tr>\n",
       "      <th>mean</th>\n",
       "      <td>20.483764</td>\n",
       "      <td>15.085073</td>\n",
       "      <td>59.270673</td>\n",
       "      <td>74.425455</td>\n",
       "      <td>52.823636</td>\n",
       "      <td>7.608382</td>\n",
       "      <td>1.603241e+09</td>\n",
       "    </tr>\n",
       "    <tr>\n",
       "      <th>std</th>\n",
       "      <td>33.673734</td>\n",
       "      <td>90.629079</td>\n",
       "      <td>20.165141</td>\n",
       "      <td>20.242719</td>\n",
       "      <td>40.624046</td>\n",
       "      <td>5.310836</td>\n",
       "      <td>2.246520e+02</td>\n",
       "    </tr>\n",
       "    <tr>\n",
       "      <th>min</th>\n",
       "      <td>-54.800000</td>\n",
       "      <td>-175.200000</td>\n",
       "      <td>1.400000</td>\n",
       "      <td>8.000000</td>\n",
       "      <td>0.000000</td>\n",
       "      <td>0.180000</td>\n",
       "      <td>1.603240e+09</td>\n",
       "    </tr>\n",
       "    <tr>\n",
       "      <th>25%</th>\n",
       "      <td>-6.407500</td>\n",
       "      <td>-65.770000</td>\n",
       "      <td>42.850000</td>\n",
       "      <td>65.000000</td>\n",
       "      <td>1.250000</td>\n",
       "      <td>3.392500</td>\n",
       "      <td>1.603241e+09</td>\n",
       "    </tr>\n",
       "    <tr>\n",
       "      <th>50%</th>\n",
       "      <td>26.255000</td>\n",
       "      <td>20.925000</td>\n",
       "      <td>64.000000</td>\n",
       "      <td>79.000000</td>\n",
       "      <td>59.500000</td>\n",
       "      <td>6.275000</td>\n",
       "      <td>1.603241e+09</td>\n",
       "    </tr>\n",
       "    <tr>\n",
       "      <th>75%</th>\n",
       "      <td>48.927500</td>\n",
       "      <td>88.380000</td>\n",
       "      <td>76.467500</td>\n",
       "      <td>90.000000</td>\n",
       "      <td>93.750000</td>\n",
       "      <td>10.290000</td>\n",
       "      <td>1.603241e+09</td>\n",
       "    </tr>\n",
       "    <tr>\n",
       "      <th>max</th>\n",
       "      <td>78.220000</td>\n",
       "      <td>179.320000</td>\n",
       "      <td>93.200000</td>\n",
       "      <td>100.000000</td>\n",
       "      <td>100.000000</td>\n",
       "      <td>29.970000</td>\n",
       "      <td>1.603242e+09</td>\n",
       "    </tr>\n",
       "  </tbody>\n",
       "</table>\n",
       "</div>"
      ],
      "text/plain": [
       "        Longitude    Latitude    Max Temp    Humidity  Cloudiness  Wind Speed  \\\n",
       "count  550.000000  550.000000  550.000000  550.000000  550.000000  550.000000   \n",
       "mean    20.483764   15.085073   59.270673   74.425455   52.823636    7.608382   \n",
       "std     33.673734   90.629079   20.165141   20.242719   40.624046    5.310836   \n",
       "min    -54.800000 -175.200000    1.400000    8.000000    0.000000    0.180000   \n",
       "25%     -6.407500  -65.770000   42.850000   65.000000    1.250000    3.392500   \n",
       "50%     26.255000   20.925000   64.000000   79.000000   59.500000    6.275000   \n",
       "75%     48.927500   88.380000   76.467500   90.000000   93.750000   10.290000   \n",
       "max     78.220000  179.320000   93.200000  100.000000  100.000000   29.970000   \n",
       "\n",
       "               Date  \n",
       "count  5.500000e+02  \n",
       "mean   1.603241e+09  \n",
       "std    2.246520e+02  \n",
       "min    1.603240e+09  \n",
       "25%    1.603241e+09  \n",
       "50%    1.603241e+09  \n",
       "75%    1.603241e+09  \n",
       "max    1.603242e+09  "
      ]
     },
     "execution_count": 6,
     "metadata": {},
     "output_type": "execute_result"
    }
   ],
   "source": [
    "city_df.describe()"
   ]
  },
  {
   "cell_type": "markdown",
   "metadata": {},
   "source": [
    "## Inspect the data and remove the cities where the humidity > 100%.\n",
    "----\n",
    "Skip this step if there are no cities that have humidity > 100%. "
   ]
  },
  {
   "cell_type": "code",
   "execution_count": 8,
   "metadata": {},
   "outputs": [
    {
     "data": {
      "text/plain": [
       "0      False\n",
       "1      False\n",
       "2      False\n",
       "3      False\n",
       "4      False\n",
       "       ...  \n",
       "545    False\n",
       "546    False\n",
       "547    False\n",
       "548    False\n",
       "549    False\n",
       "Name: Humidity, Length: 550, dtype: bool"
      ]
     },
     "execution_count": 8,
     "metadata": {},
     "output_type": "execute_result"
    }
   ],
   "source": [
    "city_df[\"Humidity\"]>100"
   ]
  },
  {
   "cell_type": "code",
   "execution_count": 17,
   "metadata": {},
   "outputs": [
    {
     "data": {
      "text/plain": [
       "Int64Index([], dtype='int64')"
      ]
     },
     "execution_count": 17,
     "metadata": {},
     "output_type": "execute_result"
    }
   ],
   "source": [
    "#  Get the indices of cities that have humidity over 100%.\n"
   ]
  },
  {
   "cell_type": "code",
   "execution_count": 19,
   "metadata": {},
   "outputs": [
    {
     "data": {
      "text/html": [
       "<div>\n",
       "<style scoped>\n",
       "    .dataframe tbody tr th:only-of-type {\n",
       "        vertical-align: middle;\n",
       "    }\n",
       "\n",
       "    .dataframe tbody tr th {\n",
       "        vertical-align: top;\n",
       "    }\n",
       "\n",
       "    .dataframe thead th {\n",
       "        text-align: right;\n",
       "    }\n",
       "</style>\n",
       "<table border=\"1\" class=\"dataframe\">\n",
       "  <thead>\n",
       "    <tr style=\"text-align: right;\">\n",
       "      <th></th>\n",
       "      <th>City</th>\n",
       "      <th>Lat</th>\n",
       "      <th>Lng</th>\n",
       "      <th>Max Temp</th>\n",
       "      <th>Humidity</th>\n",
       "      <th>Cloudiness</th>\n",
       "      <th>Wind Speed</th>\n",
       "      <th>Country</th>\n",
       "      <th>Date</th>\n",
       "    </tr>\n",
       "  </thead>\n",
       "  <tbody>\n",
       "    <tr>\n",
       "      <td>0</td>\n",
       "      <td>butaritari</td>\n",
       "      <td>3.07</td>\n",
       "      <td>172.79</td>\n",
       "      <td>83.32</td>\n",
       "      <td>74</td>\n",
       "      <td>84</td>\n",
       "      <td>10.42</td>\n",
       "      <td>KI</td>\n",
       "      <td>1593605283</td>\n",
       "    </tr>\n",
       "    <tr>\n",
       "      <td>1</td>\n",
       "      <td>yerbogachen</td>\n",
       "      <td>61.28</td>\n",
       "      <td>108.01</td>\n",
       "      <td>79.52</td>\n",
       "      <td>58</td>\n",
       "      <td>20</td>\n",
       "      <td>7.70</td>\n",
       "      <td>RU</td>\n",
       "      <td>1593605121</td>\n",
       "    </tr>\n",
       "    <tr>\n",
       "      <td>2</td>\n",
       "      <td>cape town</td>\n",
       "      <td>-33.93</td>\n",
       "      <td>18.42</td>\n",
       "      <td>73.00</td>\n",
       "      <td>77</td>\n",
       "      <td>27</td>\n",
       "      <td>4.70</td>\n",
       "      <td>ZA</td>\n",
       "      <td>1593605039</td>\n",
       "    </tr>\n",
       "    <tr>\n",
       "      <td>3</td>\n",
       "      <td>touba</td>\n",
       "      <td>8.28</td>\n",
       "      <td>-7.68</td>\n",
       "      <td>79.97</td>\n",
       "      <td>75</td>\n",
       "      <td>82</td>\n",
       "      <td>3.58</td>\n",
       "      <td>CI</td>\n",
       "      <td>1593605284</td>\n",
       "    </tr>\n",
       "    <tr>\n",
       "      <td>4</td>\n",
       "      <td>jamestown</td>\n",
       "      <td>42.10</td>\n",
       "      <td>-79.24</td>\n",
       "      <td>64.00</td>\n",
       "      <td>88</td>\n",
       "      <td>1</td>\n",
       "      <td>6.93</td>\n",
       "      <td>US</td>\n",
       "      <td>1593605284</td>\n",
       "    </tr>\n",
       "  </tbody>\n",
       "</table>\n",
       "</div>"
      ],
      "text/plain": [
       "          City    Lat     Lng  Max Temp  Humidity  Cloudiness  Wind Speed  \\\n",
       "0   butaritari   3.07  172.79     83.32        74          84       10.42   \n",
       "1  yerbogachen  61.28  108.01     79.52        58          20        7.70   \n",
       "2    cape town -33.93   18.42     73.00        77          27        4.70   \n",
       "3        touba   8.28   -7.68     79.97        75          82        3.58   \n",
       "4    jamestown  42.10  -79.24     64.00        88           1        6.93   \n",
       "\n",
       "  Country        Date  \n",
       "0      KI  1593605283  \n",
       "1      RU  1593605121  \n",
       "2      ZA  1593605039  \n",
       "3      CI  1593605284  \n",
       "4      US  1593605284  "
      ]
     },
     "execution_count": 19,
     "metadata": {},
     "output_type": "execute_result"
    }
   ],
   "source": [
    "# Make a new DataFrame equal to the city data to drop all humidity outliers by index.\n",
    "# Passing \"inplace=False\" will make a copy of the city_data DataFrame, which we call \"clean_city_data\".\n"
   ]
  },
  {
   "cell_type": "code",
   "execution_count": 9,
   "metadata": {},
   "outputs": [],
   "source": [
    "#Export CSV file\n",
    "city_df.to_csv(\"Output_Data/cities.csv\", index=False)"
   ]
  },
  {
   "cell_type": "markdown",
   "metadata": {},
   "source": [
    "## Plotting the Data\n",
    "* Use proper labeling of the plots using plot titles (including date of analysis) and axes labels.\n",
    "* Save the plotted figures as .pngs."
   ]
  },
  {
   "cell_type": "markdown",
   "metadata": {},
   "source": [
    "## Latitude vs. Temperature Plot"
   ]
  },
  {
   "cell_type": "code",
   "execution_count": 10,
   "metadata": {
    "scrolled": true
   },
   "outputs": [
    {
     "data": {
      "image/png": "[encoded data removed]",
      "text/plain": [
       "<Figure size 432x288 with 1 Axes>"
      ]
     },
     "metadata": {
      "needs_background": "light"
     },
     "output_type": "display_data"
    }
   ],
   "source": [
    "# Create the Scatter Plot\n",
    "plt.scatter(city_df[\"Latitude\"], city_df[\"Max Temp\"], facecolor= \"blue\")\n",
    "plt.title(\"City Latitude vs. Max Temperature (10/20/20)\")\n",
    "plt.xlabel(\"Latitude\")\n",
    "plt.ylabel(\"Max Temperature (F)\")\n",
    "plt.grid()\n",
    "#plt.savefig(Images/CityLatitudevsMaxTemperature.png)"
   ]
  },
  {
   "cell_type": "markdown",
   "metadata": {},
   "source": [
    "## Latitude vs. Humidity Plot"
   ]
  },
  {
   "cell_type": "code",
   "execution_count": 11,
   "metadata": {},
   "outputs": [
    {
     "data": {
      "image/png": "[encoded data removed]",
      "text/plain": [
       "<Figure size 432x288 with 1 Axes>"
      ]
     },
     "metadata": {
      "needs_background": "light"
     },
     "output_type": "display_data"
    }
   ],
   "source": [
    "# Create the Scatter Plot\n",
    "plt.scatter(city_df[\"Latitude\"], city_df[\"Humidity\"], facecolor= \"blue\")\n",
    "plt.title(\"City Latitude vs. Humidity (10/20/20)\")\n",
    "plt.xlabel(\"Latitude\")\n",
    "plt.ylabel(\"Humidity (%)\")\n",
    "plt.grid()\n",
    "#plt.savefig(Images/CityLatitudevsHumidity.png)"
   ]
  },
  {
   "cell_type": "markdown",
   "metadata": {},
   "source": [
    "## Latitude vs. Cloudiness Plot"
   ]
  },
  {
   "cell_type": "code",
   "execution_count": 12,
   "metadata": {},
   "outputs": [
    {
     "data": {
      "image/png": "[encoded data removed]",
      "text/plain": [
       "<Figure size 432x288 with 1 Axes>"
      ]
     },
     "metadata": {
      "needs_background": "light"
     },
     "output_type": "display_data"
    }
   ],
   "source": [
    "# Create the Scatter Plot\n",
    "plt.scatter(city_df[\"Latitude\"], city_df[\"Cloudiness\"], facecolor= \"blue\")\n",
    "plt.title(\"City Latitude vs. Cloudiness (10/20/20)\")\n",
    "plt.xlabel(\"Latitude\")\n",
    "plt.ylabel(\"Cloudiness (%)\")\n",
    "plt.grid()\n",
    "#plt.savefig(Images/CityLatitudevsCloudiness.png)"
   ]
  },
  {
   "cell_type": "markdown",
   "metadata": {},
   "source": [
    "## Latitude vs. Wind Speed Plot"
   ]
  },
  {
   "cell_type": "code",
   "execution_count": 13,
   "metadata": {},
   "outputs": [
    {
     "data": {
      "image/png": "[encoded data removed]",
      "text/plain": [
       "<Figure size 432x288 with 1 Axes>"
      ]
     },
     "metadata": {
      "needs_background": "light"
     },
     "output_type": "display_data"
    }
   ],
   "source": [
    "# Create the Scatter Plot\n",
    "plt.scatter(city_df[\"Latitude\"], city_df[\"Wind Speed\"], facecolor= \"blue\")\n",
    "plt.title(\"City Latitude vs. Wind Speed (10/20/20)\")\n",
    "plt.xlabel(\"Latitude\")\n",
    "plt.ylabel(\"Wind Speed (mph)\")\n",
    "plt.grid()\n",
    "#plt.savefig(Images/CityLatitudevsWindSpeed.png)"
   ]
  },
  {
   "cell_type": "markdown",
   "metadata": {},
   "source": [
    "## Linear Regression"
   ]
  },
  {
   "cell_type": "code",
   "execution_count": 21,
   "metadata": {},
   "outputs": [],
   "source": [
    "# Create a northern and southern hemisphere DataFrame\n",
    "northern_hem = city_df.loc[city_df[\"Latitude\"]>= 0]\n",
    "southern_hem = city_df.loc[city_df[\"Latitude\"]< 0]"
   ]
  },
  {
   "cell_type": "code",
   "execution_count": 22,
   "metadata": {},
   "outputs": [],
   "source": [
    "def linear_regression(x, y):\n",
    "    print(f\"The r-squared is : {round(st.pearsonr(x, y)[0], 2)}\")\n",
    "    (slope, intercept, rvalue, pvalue, stderr) = linregress(x, y)\n",
    "    regress_values = x * slope + intercept\n",
    "    line_eq = \"y = \" + str(round(slope,2)) + \"x + \" + str(round(intercept, 2))\n",
    "    plt.scatter(x, y)\n",
    "    plt.plot (x, regress_values, \"r-\")\n",
    "    return line_eq\n",
    "\n",
    "# Annotating\n",
    "def annotate(line_eq, a, b):\n",
    "    plt.annotate(line_eq,(a,b), fontsize=15,color=\"red\")"
   ]
  },
  {
   "cell_type": "markdown",
   "metadata": {},
   "source": [
    "####  Northern Hemisphere - Max Temp vs. Latitude Linear Regression"
   ]
  },
  {
   "cell_type": "code",
   "execution_count": 23,
   "metadata": {},
   "outputs": [
    {
     "name": "stdout",
     "output_type": "stream",
     "text": [
      "The r-squared is : 0.08\n"
     ]
    },
    {
     "data": {
      "text/plain": [
       "Text(0, 0.5, 'Max Temp (F)')"
      ]
     },
     "execution_count": 23,
     "metadata": {},
     "output_type": "execute_result"
    },
    {
     "data": {
      "image/png": "[encoded data removed]",
      "text/plain": [
       "<Figure size 432x288 with 1 Axes>"
      ]
     },
     "metadata": {
      "needs_background": "light"
     },
     "output_type": "display_data"
    }
   ],
   "source": [
    "equation = linear_regression(northern_hem[\"Latitude\"], northern_hem[\"Max Temp\"])\n",
    "annotate(equation, 0, 0)\n",
    "\n",
    "plt.title(\"Northern Hemisphere: Max Temperature vs Latitude\")\n",
    "plt.xlabel(\"Latitude\")\n",
    "plt.ylabel(\"Max Temp (F)\")\n",
    "#plt.savefig(Images/NorthernMaxTempvsLatitude.png)"
   ]
  },
  {
   "cell_type": "markdown",
   "metadata": {},
   "source": [
    "####  Southern Hemisphere - Max Temp vs. Latitude Linear Regression"
   ]
  },
  {
   "cell_type": "code",
   "execution_count": 26,
   "metadata": {},
   "outputs": [
    {
     "name": "stdout",
     "output_type": "stream",
     "text": [
      "The r-squared is : 0.1\n"
     ]
    },
    {
     "data": {
      "text/plain": [
       "Text(0, 0.5, 'Max Temperature (F)')"
      ]
     },
     "execution_count": 26,
     "metadata": {},
     "output_type": "execute_result"
    },
    {
     "data": {
      "image/png": "[encoded data removed]",
      "text/plain": [
       "<Figure size 432x288 with 1 Axes>"
      ]
     },
     "metadata": {
      "needs_background": "light"
     },
     "output_type": "display_data"
    }
   ],
   "source": [
    "# Call the functions from above\n",
    "equation = linear_regression(southern_hem[\"Latitude\"], southern_hem[\"Max Temp\"])\n",
    "annotate(equation, 0,0)\n",
    "\n",
    "# Plot it\n",
    "plt.title(\"Southern Hemisphere: Max Temperature vs Latitude\")\n",
    "plt.xlabel(\"Latitude\")\n",
    "plt.ylabel(\"Max Temperature (F)\")\n",
    "#plt.savefig(Images/SouthernMaxTempvsLatitude.png)"
   ]
  },
  {
   "cell_type": "markdown",
   "metadata": {},
   "source": [
    "####  Northern Hemisphere - Humidity (%) vs. Latitude Linear Regression"
   ]
  },
  {
   "cell_type": "code",
   "execution_count": 27,
   "metadata": {},
   "outputs": [
    {
     "name": "stdout",
     "output_type": "stream",
     "text": [
      "The r-squared is : -0.12\n"
     ]
    },
    {
     "data": {
      "text/plain": [
       "Text(0, 0.5, 'Humidity')"
      ]
     },
     "execution_count": 27,
     "metadata": {},
     "output_type": "execute_result"
    },
    {
     "data": {
      "image/png": "[encoded data removed]",
      "text/plain": [
       "<Figure size 432x288 with 1 Axes>"
      ]
     },
     "metadata": {
      "needs_background": "light"
     },
     "output_type": "display_data"
    }
   ],
   "source": [
    "equation = linear_regression(northern_hem[\"Latitude\"], northern_hem[\"Humidity\"])\n",
    "annotate(equation, 0, 0)\n",
    "\n",
    "plt.title(\"Northern Hemisphere: Max Temperature vs Latitude\")\n",
    "plt.xlabel(\"Latitude\")\n",
    "plt.ylabel(\"Humidity\")\n",
    "#plt.savefig(Images/NorthernHumidityvsLatitude.png)"
   ]
  },
  {
   "cell_type": "markdown",
   "metadata": {},
   "source": [
    "####  Southern Hemisphere - Humidity (%) vs. Latitude Linear Regression"
   ]
  },
  {
   "cell_type": "code",
   "execution_count": 28,
   "metadata": {},
   "outputs": [
    {
     "name": "stdout",
     "output_type": "stream",
     "text": [
      "The r-squared is : 0.1\n"
     ]
    },
    {
     "data": {
      "text/plain": [
       "Text(0, 0.5, 'Humidity (%)')"
      ]
     },
     "execution_count": 28,
     "metadata": {},
     "output_type": "execute_result"
    },
    {
     "data": {
      "image/png": "[encoded data removed]",
      "text/plain": [
       "<Figure size 432x288 with 1 Axes>"
      ]
     },
     "metadata": {
      "needs_background": "light"
     },
     "output_type": "display_data"
    }
   ],
   "source": [
    "equation = linear_regression(southern_hem[\"Latitude\"], southern_hem[\"Max Temp\"])\n",
    "annotate(equation, 0, 0)\n",
    "\n",
    "plt.title(\"Southern Hemisphere: Humidity vs Latitude\")\n",
    "plt.xlabel(\"Latitude\")\n",
    "plt.ylabel(\"Humidity (%)\")\n",
    "#plt.savefig(Images/NorthernMaxTempvsLatitude.png)"
   ]
  },
  {
   "cell_type": "markdown",
   "metadata": {},
   "source": [
    "####  Northern Hemisphere - Cloudiness (%) vs. Latitude Linear Regression"
   ]
  },
  {
   "cell_type": "code",
   "execution_count": 29,
   "metadata": {},
   "outputs": [
    {
     "name": "stdout",
     "output_type": "stream",
     "text": [
      "The r-squared is : 0.08\n"
     ]
    },
    {
     "data": {
      "text/plain": [
       "Text(0, 0.5, 'Cloudiness (%)')"
      ]
     },
     "execution_count": 29,
     "metadata": {},
     "output_type": "execute_result"
    },
    {
     "data": {
      "image/png": "[encoded data removed]",
      "text/plain": [
       "<Figure size 432x288 with 1 Axes>"
      ]
     },
     "metadata": {
      "needs_background": "light"
     },
     "output_type": "display_data"
    }
   ],
   "source": [
    "equation = linear_regression(northern_hem[\"Latitude\"], northern_hem[\"Cloudiness\"])\n",
    "annotate(equation, 0, 0)\n",
    "\n",
    "plt.title(\"Northern Hemisphere: Cloudiness vs Latitude\")\n",
    "plt.xlabel(\"Latitude\")\n",
    "plt.ylabel(\"Cloudiness (%)\")\n",
    "#plt.savefig(Images/NorthernCloudinessvsLatitude.png)"
   ]
  },
  {
   "cell_type": "markdown",
   "metadata": {},
   "source": [
    "####  Southern Hemisphere - Cloudiness (%) vs. Latitude Linear Regression"
   ]
  },
  {
   "cell_type": "code",
   "execution_count": 30,
   "metadata": {},
   "outputs": [
    {
     "name": "stdout",
     "output_type": "stream",
     "text": [
      "The r-squared is : 0.1\n"
     ]
    },
    {
     "data": {
      "text/plain": [
       "Text(0, 0.5, 'Max Temp (F)')"
      ]
     },
     "execution_count": 30,
     "metadata": {},
     "output_type": "execute_result"
    },
    {
     "data": {
      "image/png": "[encoded data removed]",
      "text/plain": [
       "<Figure size 432x288 with 1 Axes>"
      ]
     },
     "metadata": {
      "needs_background": "light"
     },
     "output_type": "display_data"
    }
   ],
   "source": [
    "equation = linear_regression(southern_hem[\"Latitude\"], southern_hem[\"Max Temp\"])\n",
    "annotate(equation, 0, 0)\n",
    "\n",
    "plt.title(\"Southern Hemisphere: Cloudiness vs Latitude\")\n",
    "plt.xlabel(\"Latitude\")\n",
    "plt.ylabel(\"Max Temp (F)\")\n",
    "#plt.savefig(Images/SouthernCloudinessvsLatitude.png)"
   ]
  },
  {
   "cell_type": "markdown",
   "metadata": {},
   "source": [
    "####  Northern Hemisphere - Wind Speed (mph) vs. Latitude Linear Regression"
   ]
  },
  {
   "cell_type": "code",
   "execution_count": 31,
   "metadata": {},
   "outputs": [
    {
     "name": "stdout",
     "output_type": "stream",
     "text": [
      "The r-squared is : 0.21\n"
     ]
    },
    {
     "data": {
      "text/plain": [
       "Text(0, 0.5, 'Wind Speed (mph)')"
      ]
     },
     "execution_count": 31,
     "metadata": {},
     "output_type": "execute_result"
    },
    {
     "data": {
      "image/png": "[encoded data removed]",
      "text/plain": [
       "<Figure size 432x288 with 1 Axes>"
      ]
     },
     "metadata": {
      "needs_background": "light"
     },
     "output_type": "display_data"
    }
   ],
   "source": [
    "equation = linear_regression(northern_hem[\"Latitude\"], northern_hem[\"Wind Speed\"])\n",
    "annotate(equation, 0, 0)\n",
    "\n",
    "plt.title(\"Northern Hemisphere: Wind Speed vs Latitude\")\n",
    "plt.xlabel(\"Latitude\")\n",
    "plt.ylabel(\"Wind Speed (mph)\")\n",
    "#plt.savefig(Images/NorthernWindSpeedvsLatitude.png)"
   ]
  },
  {
   "cell_type": "markdown",
   "metadata": {},
   "source": [
    "####  Southern Hemisphere - Wind Speed (mph) vs. Latitude Linear Regression"
   ]
  },
  {
   "cell_type": "code",
   "execution_count": 32,
   "metadata": {},
   "outputs": [
    {
     "name": "stdout",
     "output_type": "stream",
     "text": [
      "The r-squared is : 0.01\n"
     ]
    },
    {
     "data": {
      "text/plain": [
       "Text(0, 0.5, 'Wind Speed (mph)')"
      ]
     },
     "execution_count": 32,
     "metadata": {},
     "output_type": "execute_result"
    },
    {
     "data": {
      "image/png": "[encoded data removed]",
      "text/plain": [
       "<Figure size 432x288 with 1 Axes>"
      ]
     },
     "metadata": {
      "needs_background": "light"
     },
     "output_type": "display_data"
    }
   ],
   "source": [
    "equation = linear_regression(southern_hem[\"Latitude\"], southern_hem[\"Wind Speed\"])\n",
    "annotate(equation, 0, 0)\n",
    "\n",
    "plt.title(\"Southern Hemisphere: Wind Speed vs Latitude\")\n",
    "plt.xlabel(\"Latitude\")\n",
    "plt.ylabel(\"Wind Speed (mph)\")\n",
    "#plt.savefig(Images/SouthernWindSpeedvsLatitude.png)"
   ]
  },
  {
   "cell_type": "code",
   "execution_count": null,
   "metadata": {},
   "outputs": [],
   "source": []
  }
 ],
 "metadata": {
  "anaconda-cloud": {},
  "kernel_info": {
   "name": "python3"
  },
  "kernelspec": {
   "display_name": "Python [conda env:PythonData] *",
   "language": "python",
   "name": "conda-env-PythonData-py"
  },
  "language_info": {
   "codemirror_mode": {
    "name": "ipython",
    "version": 3
   },
   "file_extension": ".py",
   "mimetype": "text/x-python",
   "name": "python",
   "nbconvert_exporter": "python",
   "pygments_lexer": "ipython3",
   "version": "3.6.12"
  },
  "latex_envs": {
   "LaTeX_envs_menu_present": true,
   "autoclose": false,
   "autocomplete": true,
   "bibliofile": "biblio.bib",
   "cite_by": "apalike",
   "current_citInitial": 1,
   "eqLabelWithNumbers": true,
   "eqNumInitial": 1,
   "hotkeys": {
    "equation": "Ctrl-E",
    "itemize": "Ctrl-I"
   },
   "labels_anchors": false,
   "latex_user_defs": false,
   "report_style_numbering": false,
   "user_envs_cfg": false
  },
  "nteract": {
   "version": "0.12.3"
  }
 },
 "nbformat": 4,
 "nbformat_minor": 2
}
