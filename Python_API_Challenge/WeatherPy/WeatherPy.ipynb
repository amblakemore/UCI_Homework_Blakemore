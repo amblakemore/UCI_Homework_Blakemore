{
 "cells": [
  {
   "cell_type": "markdown",
   "metadata": {},
   "source": [
    "# WeatherPy\n",
    "----\n",
    "\n",
    "#### Note\n",
    "* Instructions have been included for each segment. You do not have to follow them exactly, but they are included to help you think through the steps."
   ]
  },
  {
   "cell_type": "code",
   "execution_count": 29,
   "metadata": {
    "scrolled": true
   },
   "outputs": [],
   "source": [
    "# Setup\n",
    "import pandas as pd\n",
    "import numpy as np\n",
    "import matplotlib.pyplot as plt\n",
    "import requests\n",
    "import time\n",
    "from config import api_key\n",
    "from citipy import citipy\n",
    "import scipy.stats as st\n",
    "from scipy.stats import linregress"
   ]
  },
  {
   "cell_type": "markdown",
   "metadata": {},
   "source": [
    "## Generate Cities List"
   ]
  },
  {
   "cell_type": "code",
   "execution_count": 2,
   "metadata": {},
   "outputs": [
    {
     "data": {
      "text/plain": [
       "640"
      ]
     },
     "execution_count": 2,
     "metadata": {},
     "output_type": "execute_result"
    }
   ],
   "source": [
    "lat_range = (-90, 90)\n",
    "lng_range = (-180, 180)\n",
    "lat_lng_list = []\n",
    "cities = []\n",
    "\n",
    "# Generate Latitudes\n",
    "lat = np.random.uniform(lat_range[0], lat_range[1],size= 1500)\n",
    "lng = np.random.uniform(lng_range[0], lng_range[1],size= 1500)\n",
    "lat_lng_list = zip(lat, lng)\n",
    "\n",
    "for lat_lng in lat_lng_list:\n",
    "    city = citipy.nearest_city(lat_lng[0], lat_lng[1]).city_name\n",
    "    if city not in cities:\n",
    "        cities.append(city)\n",
    "len(cities)"
   ]
  },
  {
   "cell_type": "markdown",
   "metadata": {},
   "source": [
    "### Perform API Calls\n",
    "* Perform a weather check on each city using a series of successive API calls.\n",
    "* Include a print log of each city as it'sbeing processed (with the city number and city name).\n"
   ]
  },
  {
   "cell_type": "code",
   "execution_count": 3,
   "metadata": {
    "scrolled": true
   },
   "outputs": [],
   "source": [
    "#url = \"http://api.openweathermap.org/data/2.5/weather?\"\n",
    "#query_url = url + \"appid=\" + api_key + \"&q=\" + \"London\"\n",
    "#result = requests.get(query_url).json()\n",
    "#result"
   ]
  },
  {
   "cell_type": "code",
   "execution_count": 7,
   "metadata": {
    "scrolled": true
   },
   "outputs": [
    {
     "name": "stdout",
     "output_type": "stream",
     "text": [
      "1 quatre cocos\n",
      "2 pozoblanco\n",
      "3 hithadhoo\n",
      "City not found\n",
      "5 lavrentiya\n",
      "6 khatanga\n",
      "City not found\n",
      "8 nikolskoye\n",
      "9 port elizabeth\n",
      "10 ravar\n",
      "11 qaanaaq\n",
      "12 marawi\n",
      "13 busselton\n",
      "14 vaini\n",
      "15 dunedin\n",
      "16 ribeira grande\n",
      "City not found\n",
      "18 san carlos de bariloche\n",
      "City not found\n",
      "20 chokurdakh\n",
      "21 victoria\n",
      "22 mehamn\n",
      "23 ushuaia\n",
      "24 punta arenas\n",
      "25 jackson\n",
      "26 san juan\n",
      "27 albany\n",
      "28 carballo\n",
      "29 tuatapere\n",
      "30 kathu\n",
      "City not found\n",
      "32 bredasdorp\n",
      "33 leningradskiy\n",
      "34 rikitea\n",
      "35 avarua\n",
      "36 arraial do cabo\n",
      "37 mar del plata\n",
      "38 pevek\n",
      "39 alofi\n",
      "40 takoradi\n",
      "41 longyearbyen\n",
      "42 mataura\n",
      "43 deputatskiy\n",
      "44 vao\n",
      "45 bluff\n",
      "46 bustamante\n",
      "47 atuona\n",
      "48 hermanus\n",
      "49 tuktoyaktuk\n",
      "50 dayong\n"
     ]
    }
   ],
   "source": [
    "data= []\n",
    "counter = 0\n",
    "url = \"http://api.openweathermap.org/data/2.5/weather?\"\n",
    "units = \"metric\"\n",
    "query_url = f\"{url}appid={api_key}&units={units}&q=\" \n",
    "#print(query_url)\n",
    "for city in cities[:50]:\n",
    "    result = requests.get(query_url+city).json()\n",
    "    counter = counter + 1\n",
    "    #print(result)\n",
    "    try:\n",
    "        lat = result[\"coord\"][\"lat\"]\n",
    "        lng = result[\"coord\"][\"lon\"]\n",
    "        temp_max = result[\"main\"][\"temp_max\"]\n",
    "        humidity = result[\"main\"][\"humidity\"]\n",
    "        cloudiness = result[\"clouds\"][\"all\"]\n",
    "        wind_speed = result[\"wind\"][\"speed\"]\n",
    "        country = result[\"sys\"][\"country\"]\n",
    "        date = result[\"dt\"]\n",
    "        data.append([city, lat, lng, temp_max, humidity, cloudiness, wind_speed, country, date])\n",
    "        print(f\"{counter} {city}\")\n",
    "        #print(city)\n",
    "        time.sleep(1)\n",
    "        \n",
    "    except:\n",
    "        print(\"City not found\")"
   ]
  },
  {
   "cell_type": "markdown",
   "metadata": {},
   "source": [
    "### Convert Raw Data to DataFrame\n",
    "* Export the city data into a .csv.\n",
    "* Display the DataFrame"
   ]
  },
  {
   "cell_type": "code",
   "execution_count": 8,
   "metadata": {},
   "outputs": [
    {
     "data": {
      "text/html": [
       "<div>\n",
       "<style scoped>\n",
       "    .dataframe tbody tr th:only-of-type {\n",
       "        vertical-align: middle;\n",
       "    }\n",
       "\n",
       "    .dataframe tbody tr th {\n",
       "        vertical-align: top;\n",
       "    }\n",
       "\n",
       "    .dataframe thead th {\n",
       "        text-align: right;\n",
       "    }\n",
       "</style>\n",
       "<table border=\"1\" class=\"dataframe\">\n",
       "  <thead>\n",
       "    <tr style=\"text-align: right;\">\n",
       "      <th></th>\n",
       "      <th>city</th>\n",
       "      <th>lng</th>\n",
       "      <th>lat</th>\n",
       "      <th>temp_max</th>\n",
       "      <th>humidity</th>\n",
       "      <th>cloudiness</th>\n",
       "      <th>wind_speed</th>\n",
       "      <th>country</th>\n",
       "      <th>date</th>\n",
       "    </tr>\n",
       "  </thead>\n",
       "  <tbody>\n",
       "    <tr>\n",
       "      <th>0</th>\n",
       "      <td>quatre cocos</td>\n",
       "      <td>-20.21</td>\n",
       "      <td>57.76</td>\n",
       "      <td>24.44</td>\n",
       "      <td>78</td>\n",
       "      <td>40</td>\n",
       "      <td>3.60</td>\n",
       "      <td>MU</td>\n",
       "      <td>1603076177</td>\n",
       "    </tr>\n",
       "    <tr>\n",
       "      <th>1</th>\n",
       "      <td>pozoblanco</td>\n",
       "      <td>38.38</td>\n",
       "      <td>-4.85</td>\n",
       "      <td>12.00</td>\n",
       "      <td>62</td>\n",
       "      <td>11</td>\n",
       "      <td>1.00</td>\n",
       "      <td>ES</td>\n",
       "      <td>1603076460</td>\n",
       "    </tr>\n",
       "    <tr>\n",
       "      <th>2</th>\n",
       "      <td>hithadhoo</td>\n",
       "      <td>-0.60</td>\n",
       "      <td>73.08</td>\n",
       "      <td>28.31</td>\n",
       "      <td>75</td>\n",
       "      <td>58</td>\n",
       "      <td>5.77</td>\n",
       "      <td>MV</td>\n",
       "      <td>1603076461</td>\n",
       "    </tr>\n",
       "    <tr>\n",
       "      <th>3</th>\n",
       "      <td>lavrentiya</td>\n",
       "      <td>65.58</td>\n",
       "      <td>-171.00</td>\n",
       "      <td>1.99</td>\n",
       "      <td>86</td>\n",
       "      <td>17</td>\n",
       "      <td>2.15</td>\n",
       "      <td>RU</td>\n",
       "      <td>1603076181</td>\n",
       "    </tr>\n",
       "    <tr>\n",
       "      <th>4</th>\n",
       "      <td>khatanga</td>\n",
       "      <td>71.97</td>\n",
       "      <td>102.50</td>\n",
       "      <td>-13.10</td>\n",
       "      <td>89</td>\n",
       "      <td>0</td>\n",
       "      <td>3.75</td>\n",
       "      <td>RU</td>\n",
       "      <td>1603076182</td>\n",
       "    </tr>\n",
       "    <tr>\n",
       "      <th>5</th>\n",
       "      <td>nikolskoye</td>\n",
       "      <td>59.70</td>\n",
       "      <td>30.79</td>\n",
       "      <td>2.00</td>\n",
       "      <td>89</td>\n",
       "      <td>40</td>\n",
       "      <td>4.00</td>\n",
       "      <td>RU</td>\n",
       "      <td>1603076184</td>\n",
       "    </tr>\n",
       "    <tr>\n",
       "      <th>6</th>\n",
       "      <td>port elizabeth</td>\n",
       "      <td>-33.92</td>\n",
       "      <td>25.57</td>\n",
       "      <td>13.00</td>\n",
       "      <td>93</td>\n",
       "      <td>63</td>\n",
       "      <td>1.13</td>\n",
       "      <td>ZA</td>\n",
       "      <td>1603076185</td>\n",
       "    </tr>\n",
       "    <tr>\n",
       "      <th>7</th>\n",
       "      <td>ravar</td>\n",
       "      <td>31.27</td>\n",
       "      <td>56.81</td>\n",
       "      <td>9.32</td>\n",
       "      <td>32</td>\n",
       "      <td>0</td>\n",
       "      <td>0.99</td>\n",
       "      <td>IR</td>\n",
       "      <td>1603076187</td>\n",
       "    </tr>\n",
       "    <tr>\n",
       "      <th>8</th>\n",
       "      <td>qaanaaq</td>\n",
       "      <td>77.48</td>\n",
       "      <td>-69.36</td>\n",
       "      <td>-2.93</td>\n",
       "      <td>87</td>\n",
       "      <td>49</td>\n",
       "      <td>3.08</td>\n",
       "      <td>GL</td>\n",
       "      <td>1603076188</td>\n",
       "    </tr>\n",
       "    <tr>\n",
       "      <th>9</th>\n",
       "      <td>marawi</td>\n",
       "      <td>8.00</td>\n",
       "      <td>124.29</td>\n",
       "      <td>27.78</td>\n",
       "      <td>80</td>\n",
       "      <td>97</td>\n",
       "      <td>1.79</td>\n",
       "      <td>PH</td>\n",
       "      <td>1603076189</td>\n",
       "    </tr>\n",
       "    <tr>\n",
       "      <th>10</th>\n",
       "      <td>busselton</td>\n",
       "      <td>-33.65</td>\n",
       "      <td>115.33</td>\n",
       "      <td>26.11</td>\n",
       "      <td>37</td>\n",
       "      <td>13</td>\n",
       "      <td>2.69</td>\n",
       "      <td>AU</td>\n",
       "      <td>1603076045</td>\n",
       "    </tr>\n",
       "    <tr>\n",
       "      <th>11</th>\n",
       "      <td>vaini</td>\n",
       "      <td>-21.20</td>\n",
       "      <td>-175.20</td>\n",
       "      <td>22.00</td>\n",
       "      <td>88</td>\n",
       "      <td>40</td>\n",
       "      <td>4.10</td>\n",
       "      <td>TO</td>\n",
       "      <td>1603076191</td>\n",
       "    </tr>\n",
       "    <tr>\n",
       "      <th>12</th>\n",
       "      <td>dunedin</td>\n",
       "      <td>-45.87</td>\n",
       "      <td>170.50</td>\n",
       "      <td>11.67</td>\n",
       "      <td>85</td>\n",
       "      <td>100</td>\n",
       "      <td>3.80</td>\n",
       "      <td>NZ</td>\n",
       "      <td>1603076295</td>\n",
       "    </tr>\n",
       "    <tr>\n",
       "      <th>13</th>\n",
       "      <td>ribeira grande</td>\n",
       "      <td>38.52</td>\n",
       "      <td>-28.70</td>\n",
       "      <td>17.29</td>\n",
       "      <td>72</td>\n",
       "      <td>7</td>\n",
       "      <td>9.91</td>\n",
       "      <td>PT</td>\n",
       "      <td>1603076297</td>\n",
       "    </tr>\n",
       "    <tr>\n",
       "      <th>14</th>\n",
       "      <td>san carlos de bariloche</td>\n",
       "      <td>-41.15</td>\n",
       "      <td>-71.31</td>\n",
       "      <td>5.00</td>\n",
       "      <td>80</td>\n",
       "      <td>75</td>\n",
       "      <td>12.90</td>\n",
       "      <td>AR</td>\n",
       "      <td>1603076195</td>\n",
       "    </tr>\n",
       "    <tr>\n",
       "      <th>15</th>\n",
       "      <td>chokurdakh</td>\n",
       "      <td>70.63</td>\n",
       "      <td>147.92</td>\n",
       "      <td>-6.75</td>\n",
       "      <td>98</td>\n",
       "      <td>92</td>\n",
       "      <td>2.61</td>\n",
       "      <td>RU</td>\n",
       "      <td>1603076197</td>\n",
       "    </tr>\n",
       "    <tr>\n",
       "      <th>16</th>\n",
       "      <td>victoria</td>\n",
       "      <td>22.29</td>\n",
       "      <td>114.16</td>\n",
       "      <td>25.56</td>\n",
       "      <td>70</td>\n",
       "      <td>2</td>\n",
       "      <td>0.89</td>\n",
       "      <td>HK</td>\n",
       "      <td>1603076198</td>\n",
       "    </tr>\n",
       "    <tr>\n",
       "      <th>17</th>\n",
       "      <td>mehamn</td>\n",
       "      <td>71.04</td>\n",
       "      <td>27.85</td>\n",
       "      <td>2.68</td>\n",
       "      <td>78</td>\n",
       "      <td>50</td>\n",
       "      <td>3.15</td>\n",
       "      <td>NO</td>\n",
       "      <td>1603076199</td>\n",
       "    </tr>\n",
       "    <tr>\n",
       "      <th>18</th>\n",
       "      <td>ushuaia</td>\n",
       "      <td>-54.80</td>\n",
       "      <td>-68.30</td>\n",
       "      <td>3.00</td>\n",
       "      <td>74</td>\n",
       "      <td>40</td>\n",
       "      <td>3.60</td>\n",
       "      <td>AR</td>\n",
       "      <td>1603076131</td>\n",
       "    </tr>\n",
       "    <tr>\n",
       "      <th>19</th>\n",
       "      <td>punta arenas</td>\n",
       "      <td>-53.15</td>\n",
       "      <td>-70.92</td>\n",
       "      <td>2.00</td>\n",
       "      <td>80</td>\n",
       "      <td>20</td>\n",
       "      <td>10.30</td>\n",
       "      <td>CL</td>\n",
       "      <td>1603076202</td>\n",
       "    </tr>\n",
       "    <tr>\n",
       "      <th>20</th>\n",
       "      <td>jackson</td>\n",
       "      <td>42.42</td>\n",
       "      <td>-122.83</td>\n",
       "      <td>23.00</td>\n",
       "      <td>35</td>\n",
       "      <td>1</td>\n",
       "      <td>1.50</td>\n",
       "      <td>US</td>\n",
       "      <td>1603076203</td>\n",
       "    </tr>\n",
       "    <tr>\n",
       "      <th>21</th>\n",
       "      <td>san juan</td>\n",
       "      <td>-31.54</td>\n",
       "      <td>-68.54</td>\n",
       "      <td>25.31</td>\n",
       "      <td>28</td>\n",
       "      <td>0</td>\n",
       "      <td>7.21</td>\n",
       "      <td>AR</td>\n",
       "      <td>1603076204</td>\n",
       "    </tr>\n",
       "    <tr>\n",
       "      <th>22</th>\n",
       "      <td>albany</td>\n",
       "      <td>42.60</td>\n",
       "      <td>-73.97</td>\n",
       "      <td>12.22</td>\n",
       "      <td>62</td>\n",
       "      <td>88</td>\n",
       "      <td>3.30</td>\n",
       "      <td>US</td>\n",
       "      <td>1603075913</td>\n",
       "    </tr>\n",
       "    <tr>\n",
       "      <th>23</th>\n",
       "      <td>carballo</td>\n",
       "      <td>43.21</td>\n",
       "      <td>-8.69</td>\n",
       "      <td>19.44</td>\n",
       "      <td>67</td>\n",
       "      <td>99</td>\n",
       "      <td>1.00</td>\n",
       "      <td>ES</td>\n",
       "      <td>1603076206</td>\n",
       "    </tr>\n",
       "    <tr>\n",
       "      <th>24</th>\n",
       "      <td>tuatapere</td>\n",
       "      <td>-46.13</td>\n",
       "      <td>167.68</td>\n",
       "      <td>10.56</td>\n",
       "      <td>85</td>\n",
       "      <td>100</td>\n",
       "      <td>4.47</td>\n",
       "      <td>NZ</td>\n",
       "      <td>1603076208</td>\n",
       "    </tr>\n",
       "    <tr>\n",
       "      <th>25</th>\n",
       "      <td>kathu</td>\n",
       "      <td>7.92</td>\n",
       "      <td>98.33</td>\n",
       "      <td>29.44</td>\n",
       "      <td>79</td>\n",
       "      <td>20</td>\n",
       "      <td>1.50</td>\n",
       "      <td>TH</td>\n",
       "      <td>1603076209</td>\n",
       "    </tr>\n",
       "    <tr>\n",
       "      <th>26</th>\n",
       "      <td>bredasdorp</td>\n",
       "      <td>-34.53</td>\n",
       "      <td>20.04</td>\n",
       "      <td>14.00</td>\n",
       "      <td>87</td>\n",
       "      <td>88</td>\n",
       "      <td>1.00</td>\n",
       "      <td>ZA</td>\n",
       "      <td>1603076054</td>\n",
       "    </tr>\n",
       "    <tr>\n",
       "      <th>27</th>\n",
       "      <td>leningradskiy</td>\n",
       "      <td>69.38</td>\n",
       "      <td>178.42</td>\n",
       "      <td>-3.80</td>\n",
       "      <td>88</td>\n",
       "      <td>0</td>\n",
       "      <td>3.10</td>\n",
       "      <td>RU</td>\n",
       "      <td>1603076211</td>\n",
       "    </tr>\n",
       "    <tr>\n",
       "      <th>28</th>\n",
       "      <td>rikitea</td>\n",
       "      <td>-23.12</td>\n",
       "      <td>-134.97</td>\n",
       "      <td>23.72</td>\n",
       "      <td>81</td>\n",
       "      <td>100</td>\n",
       "      <td>8.34</td>\n",
       "      <td>PF</td>\n",
       "      <td>1603076066</td>\n",
       "    </tr>\n",
       "    <tr>\n",
       "      <th>29</th>\n",
       "      <td>avarua</td>\n",
       "      <td>-21.21</td>\n",
       "      <td>-159.78</td>\n",
       "      <td>26.00</td>\n",
       "      <td>74</td>\n",
       "      <td>30</td>\n",
       "      <td>2.60</td>\n",
       "      <td>CK</td>\n",
       "      <td>1603076214</td>\n",
       "    </tr>\n",
       "    <tr>\n",
       "      <th>30</th>\n",
       "      <td>arraial do cabo</td>\n",
       "      <td>-22.97</td>\n",
       "      <td>-42.03</td>\n",
       "      <td>21.96</td>\n",
       "      <td>80</td>\n",
       "      <td>99</td>\n",
       "      <td>10.15</td>\n",
       "      <td>BR</td>\n",
       "      <td>1603076106</td>\n",
       "    </tr>\n",
       "    <tr>\n",
       "      <th>31</th>\n",
       "      <td>mar del plata</td>\n",
       "      <td>-38.00</td>\n",
       "      <td>-57.56</td>\n",
       "      <td>22.00</td>\n",
       "      <td>83</td>\n",
       "      <td>90</td>\n",
       "      <td>2.60</td>\n",
       "      <td>AR</td>\n",
       "      <td>1603076216</td>\n",
       "    </tr>\n",
       "    <tr>\n",
       "      <th>32</th>\n",
       "      <td>pevek</td>\n",
       "      <td>69.70</td>\n",
       "      <td>170.31</td>\n",
       "      <td>-2.97</td>\n",
       "      <td>94</td>\n",
       "      <td>18</td>\n",
       "      <td>7.38</td>\n",
       "      <td>RU</td>\n",
       "      <td>1603076217</td>\n",
       "    </tr>\n",
       "    <tr>\n",
       "      <th>33</th>\n",
       "      <td>alofi</td>\n",
       "      <td>-19.06</td>\n",
       "      <td>-169.92</td>\n",
       "      <td>23.65</td>\n",
       "      <td>84</td>\n",
       "      <td>100</td>\n",
       "      <td>7.40</td>\n",
       "      <td>NU</td>\n",
       "      <td>1603076026</td>\n",
       "    </tr>\n",
       "    <tr>\n",
       "      <th>34</th>\n",
       "      <td>takoradi</td>\n",
       "      <td>4.88</td>\n",
       "      <td>-1.76</td>\n",
       "      <td>24.89</td>\n",
       "      <td>88</td>\n",
       "      <td>55</td>\n",
       "      <td>3.06</td>\n",
       "      <td>GH</td>\n",
       "      <td>1603076220</td>\n",
       "    </tr>\n",
       "    <tr>\n",
       "      <th>35</th>\n",
       "      <td>longyearbyen</td>\n",
       "      <td>78.22</td>\n",
       "      <td>15.64</td>\n",
       "      <td>-5.00</td>\n",
       "      <td>79</td>\n",
       "      <td>20</td>\n",
       "      <td>4.60</td>\n",
       "      <td>SJ</td>\n",
       "      <td>1603076221</td>\n",
       "    </tr>\n",
       "    <tr>\n",
       "      <th>36</th>\n",
       "      <td>mataura</td>\n",
       "      <td>-46.19</td>\n",
       "      <td>168.86</td>\n",
       "      <td>10.56</td>\n",
       "      <td>85</td>\n",
       "      <td>100</td>\n",
       "      <td>4.47</td>\n",
       "      <td>NZ</td>\n",
       "      <td>1603076074</td>\n",
       "    </tr>\n",
       "    <tr>\n",
       "      <th>37</th>\n",
       "      <td>deputatskiy</td>\n",
       "      <td>69.30</td>\n",
       "      <td>139.90</td>\n",
       "      <td>-10.72</td>\n",
       "      <td>95</td>\n",
       "      <td>100</td>\n",
       "      <td>3.10</td>\n",
       "      <td>RU</td>\n",
       "      <td>1603076223</td>\n",
       "    </tr>\n",
       "    <tr>\n",
       "      <th>38</th>\n",
       "      <td>vao</td>\n",
       "      <td>-22.67</td>\n",
       "      <td>167.48</td>\n",
       "      <td>22.04</td>\n",
       "      <td>79</td>\n",
       "      <td>45</td>\n",
       "      <td>6.58</td>\n",
       "      <td>NC</td>\n",
       "      <td>1603076225</td>\n",
       "    </tr>\n",
       "    <tr>\n",
       "      <th>39</th>\n",
       "      <td>bluff</td>\n",
       "      <td>-46.60</td>\n",
       "      <td>168.33</td>\n",
       "      <td>10.56</td>\n",
       "      <td>85</td>\n",
       "      <td>100</td>\n",
       "      <td>4.47</td>\n",
       "      <td>NZ</td>\n",
       "      <td>1603076226</td>\n",
       "    </tr>\n",
       "    <tr>\n",
       "      <th>40</th>\n",
       "      <td>bustamante</td>\n",
       "      <td>26.53</td>\n",
       "      <td>-100.50</td>\n",
       "      <td>24.96</td>\n",
       "      <td>59</td>\n",
       "      <td>0</td>\n",
       "      <td>3.03</td>\n",
       "      <td>MX</td>\n",
       "      <td>1603076227</td>\n",
       "    </tr>\n",
       "    <tr>\n",
       "      <th>41</th>\n",
       "      <td>atuona</td>\n",
       "      <td>-9.80</td>\n",
       "      <td>-139.03</td>\n",
       "      <td>25.73</td>\n",
       "      <td>76</td>\n",
       "      <td>1</td>\n",
       "      <td>8.73</td>\n",
       "      <td>PF</td>\n",
       "      <td>1603076228</td>\n",
       "    </tr>\n",
       "    <tr>\n",
       "      <th>42</th>\n",
       "      <td>hermanus</td>\n",
       "      <td>-34.42</td>\n",
       "      <td>19.23</td>\n",
       "      <td>13.33</td>\n",
       "      <td>90</td>\n",
       "      <td>73</td>\n",
       "      <td>0.45</td>\n",
       "      <td>ZA</td>\n",
       "      <td>1603076230</td>\n",
       "    </tr>\n",
       "    <tr>\n",
       "      <th>43</th>\n",
       "      <td>tuktoyaktuk</td>\n",
       "      <td>69.45</td>\n",
       "      <td>-133.04</td>\n",
       "      <td>-10.00</td>\n",
       "      <td>92</td>\n",
       "      <td>40</td>\n",
       "      <td>1.50</td>\n",
       "      <td>CA</td>\n",
       "      <td>1603076231</td>\n",
       "    </tr>\n",
       "    <tr>\n",
       "      <th>44</th>\n",
       "      <td>dayong</td>\n",
       "      <td>25.02</td>\n",
       "      <td>118.29</td>\n",
       "      <td>25.00</td>\n",
       "      <td>61</td>\n",
       "      <td>75</td>\n",
       "      <td>6.00</td>\n",
       "      <td>CN</td>\n",
       "      <td>1603076232</td>\n",
       "    </tr>\n",
       "  </tbody>\n",
       "</table>\n",
       "</div>"
      ],
      "text/plain": [
       "                       city    lng     lat  temp_max  humidity  cloudiness  \\\n",
       "0              quatre cocos -20.21   57.76     24.44        78          40   \n",
       "1                pozoblanco  38.38   -4.85     12.00        62          11   \n",
       "2                 hithadhoo  -0.60   73.08     28.31        75          58   \n",
       "3                lavrentiya  65.58 -171.00      1.99        86          17   \n",
       "4                  khatanga  71.97  102.50    -13.10        89           0   \n",
       "5                nikolskoye  59.70   30.79      2.00        89          40   \n",
       "6            port elizabeth -33.92   25.57     13.00        93          63   \n",
       "7                     ravar  31.27   56.81      9.32        32           0   \n",
       "8                   qaanaaq  77.48  -69.36     -2.93        87          49   \n",
       "9                    marawi   8.00  124.29     27.78        80          97   \n",
       "10                busselton -33.65  115.33     26.11        37          13   \n",
       "11                    vaini -21.20 -175.20     22.00        88          40   \n",
       "12                  dunedin -45.87  170.50     11.67        85         100   \n",
       "13           ribeira grande  38.52  -28.70     17.29        72           7   \n",
       "14  san carlos de bariloche -41.15  -71.31      5.00        80          75   \n",
       "15               chokurdakh  70.63  147.92     -6.75        98          92   \n",
       "16                 victoria  22.29  114.16     25.56        70           2   \n",
       "17                   mehamn  71.04   27.85      2.68        78          50   \n",
       "18                  ushuaia -54.80  -68.30      3.00        74          40   \n",
       "19             punta arenas -53.15  -70.92      2.00        80          20   \n",
       "20                  jackson  42.42 -122.83     23.00        35           1   \n",
       "21                 san juan -31.54  -68.54     25.31        28           0   \n",
       "22                   albany  42.60  -73.97     12.22        62          88   \n",
       "23                 carballo  43.21   -8.69     19.44        67          99   \n",
       "24                tuatapere -46.13  167.68     10.56        85         100   \n",
       "25                    kathu   7.92   98.33     29.44        79          20   \n",
       "26               bredasdorp -34.53   20.04     14.00        87          88   \n",
       "27            leningradskiy  69.38  178.42     -3.80        88           0   \n",
       "28                  rikitea -23.12 -134.97     23.72        81         100   \n",
       "29                   avarua -21.21 -159.78     26.00        74          30   \n",
       "30          arraial do cabo -22.97  -42.03     21.96        80          99   \n",
       "31            mar del plata -38.00  -57.56     22.00        83          90   \n",
       "32                    pevek  69.70  170.31     -2.97        94          18   \n",
       "33                    alofi -19.06 -169.92     23.65        84         100   \n",
       "34                 takoradi   4.88   -1.76     24.89        88          55   \n",
       "35             longyearbyen  78.22   15.64     -5.00        79          20   \n",
       "36                  mataura -46.19  168.86     10.56        85         100   \n",
       "37              deputatskiy  69.30  139.90    -10.72        95         100   \n",
       "38                      vao -22.67  167.48     22.04        79          45   \n",
       "39                    bluff -46.60  168.33     10.56        85         100   \n",
       "40               bustamante  26.53 -100.50     24.96        59           0   \n",
       "41                   atuona  -9.80 -139.03     25.73        76           1   \n",
       "42                 hermanus -34.42   19.23     13.33        90          73   \n",
       "43              tuktoyaktuk  69.45 -133.04    -10.00        92          40   \n",
       "44                   dayong  25.02  118.29     25.00        61          75   \n",
       "\n",
       "    wind_speed country        date  \n",
       "0         3.60      MU  1603076177  \n",
       "1         1.00      ES  1603076460  \n",
       "2         5.77      MV  1603076461  \n",
       "3         2.15      RU  1603076181  \n",
       "4         3.75      RU  1603076182  \n",
       "5         4.00      RU  1603076184  \n",
       "6         1.13      ZA  1603076185  \n",
       "7         0.99      IR  1603076187  \n",
       "8         3.08      GL  1603076188  \n",
       "9         1.79      PH  1603076189  \n",
       "10        2.69      AU  1603076045  \n",
       "11        4.10      TO  1603076191  \n",
       "12        3.80      NZ  1603076295  \n",
       "13        9.91      PT  1603076297  \n",
       "14       12.90      AR  1603076195  \n",
       "15        2.61      RU  1603076197  \n",
       "16        0.89      HK  1603076198  \n",
       "17        3.15      NO  1603076199  \n",
       "18        3.60      AR  1603076131  \n",
       "19       10.30      CL  1603076202  \n",
       "20        1.50      US  1603076203  \n",
       "21        7.21      AR  1603076204  \n",
       "22        3.30      US  1603075913  \n",
       "23        1.00      ES  1603076206  \n",
       "24        4.47      NZ  1603076208  \n",
       "25        1.50      TH  1603076209  \n",
       "26        1.00      ZA  1603076054  \n",
       "27        3.10      RU  1603076211  \n",
       "28        8.34      PF  1603076066  \n",
       "29        2.60      CK  1603076214  \n",
       "30       10.15      BR  1603076106  \n",
       "31        2.60      AR  1603076216  \n",
       "32        7.38      RU  1603076217  \n",
       "33        7.40      NU  1603076026  \n",
       "34        3.06      GH  1603076220  \n",
       "35        4.60      SJ  1603076221  \n",
       "36        4.47      NZ  1603076074  \n",
       "37        3.10      RU  1603076223  \n",
       "38        6.58      NC  1603076225  \n",
       "39        4.47      NZ  1603076226  \n",
       "40        3.03      MX  1603076227  \n",
       "41        8.73      PF  1603076228  \n",
       "42        0.45      ZA  1603076230  \n",
       "43        1.50      CA  1603076231  \n",
       "44        6.00      CN  1603076232  "
      ]
     },
     "execution_count": 8,
     "metadata": {},
     "output_type": "execute_result"
    }
   ],
   "source": [
    "city_df = pd.DataFrame(data, columns = [\"city\", \"lng\", \"lat\", \"temp_max\", \"humidity\", \"cloudiness\", \"wind_speed\", \"country\", \"date\"])\n",
    "city_df"
   ]
  },
  {
   "cell_type": "code",
   "execution_count": 12,
   "metadata": {},
   "outputs": [
    {
     "data": {
      "text/html": [
       "<div>\n",
       "<style scoped>\n",
       "    .dataframe tbody tr th:only-of-type {\n",
       "        vertical-align: middle;\n",
       "    }\n",
       "\n",
       "    .dataframe tbody tr th {\n",
       "        vertical-align: top;\n",
       "    }\n",
       "\n",
       "    .dataframe thead th {\n",
       "        text-align: right;\n",
       "    }\n",
       "</style>\n",
       "<table border=\"1\" class=\"dataframe\">\n",
       "  <thead>\n",
       "    <tr style=\"text-align: right;\">\n",
       "      <th></th>\n",
       "      <th>lng</th>\n",
       "      <th>lat</th>\n",
       "      <th>temp_max</th>\n",
       "      <th>humidity</th>\n",
       "      <th>cloudiness</th>\n",
       "      <th>wind_speed</th>\n",
       "      <th>date</th>\n",
       "    </tr>\n",
       "  </thead>\n",
       "  <tbody>\n",
       "    <tr>\n",
       "      <th>count</th>\n",
       "      <td>45.000000</td>\n",
       "      <td>45.000000</td>\n",
       "      <td>45.000000</td>\n",
       "      <td>45.000000</td>\n",
       "      <td>45.000000</td>\n",
       "      <td>45.000000</td>\n",
       "      <td>4.500000e+01</td>\n",
       "    </tr>\n",
       "    <tr>\n",
       "      <th>mean</th>\n",
       "      <td>8.948889</td>\n",
       "      <td>13.484667</td>\n",
       "      <td>13.050000</td>\n",
       "      <td>76.644444</td>\n",
       "      <td>50.133333</td>\n",
       "      <td>4.194444</td>\n",
       "      <td>1.603076e+09</td>\n",
       "    </tr>\n",
       "    <tr>\n",
       "      <th>std</th>\n",
       "      <td>44.921360</td>\n",
       "      <td>112.611349</td>\n",
       "      <td>12.389785</td>\n",
       "      <td>16.551786</td>\n",
       "      <td>37.804281</td>\n",
       "      <td>2.963377</td>\n",
       "      <td>9.150107e+01</td>\n",
       "    </tr>\n",
       "    <tr>\n",
       "      <th>min</th>\n",
       "      <td>-54.800000</td>\n",
       "      <td>-175.200000</td>\n",
       "      <td>-13.100000</td>\n",
       "      <td>28.000000</td>\n",
       "      <td>0.000000</td>\n",
       "      <td>0.450000</td>\n",
       "      <td>1.603076e+09</td>\n",
       "    </tr>\n",
       "    <tr>\n",
       "      <th>25%</th>\n",
       "      <td>-33.650000</td>\n",
       "      <td>-70.920000</td>\n",
       "      <td>2.680000</td>\n",
       "      <td>74.000000</td>\n",
       "      <td>17.000000</td>\n",
       "      <td>2.150000</td>\n",
       "      <td>1.603076e+09</td>\n",
       "    </tr>\n",
       "    <tr>\n",
       "      <th>50%</th>\n",
       "      <td>4.880000</td>\n",
       "      <td>19.230000</td>\n",
       "      <td>13.330000</td>\n",
       "      <td>80.000000</td>\n",
       "      <td>45.000000</td>\n",
       "      <td>3.300000</td>\n",
       "      <td>1.603076e+09</td>\n",
       "    </tr>\n",
       "    <tr>\n",
       "      <th>75%</th>\n",
       "      <td>43.210000</td>\n",
       "      <td>115.330000</td>\n",
       "      <td>24.440000</td>\n",
       "      <td>87.000000</td>\n",
       "      <td>90.000000</td>\n",
       "      <td>5.770000</td>\n",
       "      <td>1.603076e+09</td>\n",
       "    </tr>\n",
       "    <tr>\n",
       "      <th>max</th>\n",
       "      <td>78.220000</td>\n",
       "      <td>178.420000</td>\n",
       "      <td>29.440000</td>\n",
       "      <td>98.000000</td>\n",
       "      <td>100.000000</td>\n",
       "      <td>12.900000</td>\n",
       "      <td>1.603076e+09</td>\n",
       "    </tr>\n",
       "  </tbody>\n",
       "</table>\n",
       "</div>"
      ],
      "text/plain": [
       "             lng         lat   temp_max   humidity  cloudiness  wind_speed  \\\n",
       "count  45.000000   45.000000  45.000000  45.000000   45.000000   45.000000   \n",
       "mean    8.948889   13.484667  13.050000  76.644444   50.133333    4.194444   \n",
       "std    44.921360  112.611349  12.389785  16.551786   37.804281    2.963377   \n",
       "min   -54.800000 -175.200000 -13.100000  28.000000    0.000000    0.450000   \n",
       "25%   -33.650000  -70.920000   2.680000  74.000000   17.000000    2.150000   \n",
       "50%     4.880000   19.230000  13.330000  80.000000   45.000000    3.300000   \n",
       "75%    43.210000  115.330000  24.440000  87.000000   90.000000    5.770000   \n",
       "max    78.220000  178.420000  29.440000  98.000000  100.000000   12.900000   \n",
       "\n",
       "               date  \n",
       "count  4.500000e+01  \n",
       "mean   1.603076e+09  \n",
       "std    9.150107e+01  \n",
       "min    1.603076e+09  \n",
       "25%    1.603076e+09  \n",
       "50%    1.603076e+09  \n",
       "75%    1.603076e+09  \n",
       "max    1.603076e+09  "
      ]
     },
     "execution_count": 12,
     "metadata": {},
     "output_type": "execute_result"
    }
   ],
   "source": [
    "city_df.describe()"
   ]
  },
  {
   "cell_type": "markdown",
   "metadata": {},
   "source": [
    "## Inspect the data and remove the cities where the humidity > 100%.\n",
    "----\n",
    "Skip this step if there are no cities that have humidity > 100%. "
   ]
  },
  {
   "cell_type": "code",
   "execution_count": 11,
   "metadata": {},
   "outputs": [
    {
     "data": {
      "text/plain": [
       "0     False\n",
       "1     False\n",
       "2     False\n",
       "3     False\n",
       "4     False\n",
       "5     False\n",
       "6     False\n",
       "7     False\n",
       "8     False\n",
       "9     False\n",
       "10    False\n",
       "11    False\n",
       "12    False\n",
       "13    False\n",
       "14    False\n",
       "15    False\n",
       "16    False\n",
       "17    False\n",
       "18    False\n",
       "19    False\n",
       "20    False\n",
       "21    False\n",
       "22    False\n",
       "23    False\n",
       "24    False\n",
       "25    False\n",
       "26    False\n",
       "27    False\n",
       "28    False\n",
       "29    False\n",
       "30    False\n",
       "31    False\n",
       "32    False\n",
       "33    False\n",
       "34    False\n",
       "35    False\n",
       "36    False\n",
       "37    False\n",
       "38    False\n",
       "39    False\n",
       "40    False\n",
       "41    False\n",
       "42    False\n",
       "43    False\n",
       "44    False\n",
       "Name: humidity, dtype: bool"
      ]
     },
     "execution_count": 11,
     "metadata": {},
     "output_type": "execute_result"
    }
   ],
   "source": [
    "city_df[\"humidity\"]>100"
   ]
  },
  {
   "cell_type": "code",
   "execution_count": 17,
   "metadata": {},
   "outputs": [
    {
     "data": {
      "text/plain": [
       "Int64Index([], dtype='int64')"
      ]
     },
     "execution_count": 17,
     "metadata": {},
     "output_type": "execute_result"
    }
   ],
   "source": [
    "#  Get the indices of cities that have humidity over 100%.\n"
   ]
  },
  {
   "cell_type": "code",
   "execution_count": 19,
   "metadata": {},
   "outputs": [
    {
     "data": {
      "text/html": [
       "<div>\n",
       "<style scoped>\n",
       "    .dataframe tbody tr th:only-of-type {\n",
       "        vertical-align: middle;\n",
       "    }\n",
       "\n",
       "    .dataframe tbody tr th {\n",
       "        vertical-align: top;\n",
       "    }\n",
       "\n",
       "    .dataframe thead th {\n",
       "        text-align: right;\n",
       "    }\n",
       "</style>\n",
       "<table border=\"1\" class=\"dataframe\">\n",
       "  <thead>\n",
       "    <tr style=\"text-align: right;\">\n",
       "      <th></th>\n",
       "      <th>City</th>\n",
       "      <th>Lat</th>\n",
       "      <th>Lng</th>\n",
       "      <th>Max Temp</th>\n",
       "      <th>Humidity</th>\n",
       "      <th>Cloudiness</th>\n",
       "      <th>Wind Speed</th>\n",
       "      <th>Country</th>\n",
       "      <th>Date</th>\n",
       "    </tr>\n",
       "  </thead>\n",
       "  <tbody>\n",
       "    <tr>\n",
       "      <td>0</td>\n",
       "      <td>butaritari</td>\n",
       "      <td>3.07</td>\n",
       "      <td>172.79</td>\n",
       "      <td>83.32</td>\n",
       "      <td>74</td>\n",
       "      <td>84</td>\n",
       "      <td>10.42</td>\n",
       "      <td>KI</td>\n",
       "      <td>1593605283</td>\n",
       "    </tr>\n",
       "    <tr>\n",
       "      <td>1</td>\n",
       "      <td>yerbogachen</td>\n",
       "      <td>61.28</td>\n",
       "      <td>108.01</td>\n",
       "      <td>79.52</td>\n",
       "      <td>58</td>\n",
       "      <td>20</td>\n",
       "      <td>7.70</td>\n",
       "      <td>RU</td>\n",
       "      <td>1593605121</td>\n",
       "    </tr>\n",
       "    <tr>\n",
       "      <td>2</td>\n",
       "      <td>cape town</td>\n",
       "      <td>-33.93</td>\n",
       "      <td>18.42</td>\n",
       "      <td>73.00</td>\n",
       "      <td>77</td>\n",
       "      <td>27</td>\n",
       "      <td>4.70</td>\n",
       "      <td>ZA</td>\n",
       "      <td>1593605039</td>\n",
       "    </tr>\n",
       "    <tr>\n",
       "      <td>3</td>\n",
       "      <td>touba</td>\n",
       "      <td>8.28</td>\n",
       "      <td>-7.68</td>\n",
       "      <td>79.97</td>\n",
       "      <td>75</td>\n",
       "      <td>82</td>\n",
       "      <td>3.58</td>\n",
       "      <td>CI</td>\n",
       "      <td>1593605284</td>\n",
       "    </tr>\n",
       "    <tr>\n",
       "      <td>4</td>\n",
       "      <td>jamestown</td>\n",
       "      <td>42.10</td>\n",
       "      <td>-79.24</td>\n",
       "      <td>64.00</td>\n",
       "      <td>88</td>\n",
       "      <td>1</td>\n",
       "      <td>6.93</td>\n",
       "      <td>US</td>\n",
       "      <td>1593605284</td>\n",
       "    </tr>\n",
       "  </tbody>\n",
       "</table>\n",
       "</div>"
      ],
      "text/plain": [
       "          City    Lat     Lng  Max Temp  Humidity  Cloudiness  Wind Speed  \\\n",
       "0   butaritari   3.07  172.79     83.32        74          84       10.42   \n",
       "1  yerbogachen  61.28  108.01     79.52        58          20        7.70   \n",
       "2    cape town -33.93   18.42     73.00        77          27        4.70   \n",
       "3        touba   8.28   -7.68     79.97        75          82        3.58   \n",
       "4    jamestown  42.10  -79.24     64.00        88           1        6.93   \n",
       "\n",
       "  Country        Date  \n",
       "0      KI  1593605283  \n",
       "1      RU  1593605121  \n",
       "2      ZA  1593605039  \n",
       "3      CI  1593605284  \n",
       "4      US  1593605284  "
      ]
     },
     "execution_count": 19,
     "metadata": {},
     "output_type": "execute_result"
    }
   ],
   "source": [
    "# Make a new DataFrame equal to the city data to drop all humidity outliers by index.\n",
    "# Passing \"inplace=False\" will make a copy of the city_data DataFrame, which we call \"clean_city_data\".\n"
   ]
  },
  {
   "cell_type": "code",
   "execution_count": 13,
   "metadata": {},
   "outputs": [],
   "source": [
    "city_df.to_csv(\"Output_Data/cities.csv\", index=False)\n"
   ]
  },
  {
   "cell_type": "markdown",
   "metadata": {},
   "source": [
    "## Plotting the Data\n",
    "* Use proper labeling of the plots using plot titles (including date of analysis) and axes labels.\n",
    "* Save the plotted figures as .pngs."
   ]
  },
  {
   "cell_type": "markdown",
   "metadata": {},
   "source": [
    "## Latitude vs. Temperature Plot"
   ]
  },
  {
   "cell_type": "code",
   "execution_count": 17,
   "metadata": {
    "scrolled": true
   },
   "outputs": [
    {
     "data": {
      "image/png": "[encoded data removed]",
      "text/plain": [
       "<Figure size 432x288 with 1 Axes>"
      ]
     },
     "metadata": {
      "needs_background": "light"
     },
     "output_type": "display_data"
    }
   ],
   "source": [
    "# Create the Scatter Plot\n",
    "plt.scatter(city_df[\"lat\"], city_df[\"temp_max\"], facecolor= \"blue\")\n",
    "plt.title(\"City Latitude vs. Max Temperature (10/18/20)\")\n",
    "plt.xlabel(\"Latitude\")\n",
    "plt.ylabel(\"Max Temperature (C)\")\n",
    "plt.grid()\n",
    "#plt.savefig(Images/CityLatitudevsMaxTemperature.png)"
   ]
  },
  {
   "cell_type": "markdown",
   "metadata": {},
   "source": [
    "## Latitude vs. Humidity Plot"
   ]
  },
  {
   "cell_type": "code",
   "execution_count": 18,
   "metadata": {},
   "outputs": [
    {
     "data": {
      "image/png": "[encoded data removed]",
      "text/plain": [
       "<Figure size 432x288 with 1 Axes>"
      ]
     },
     "metadata": {
      "needs_background": "light"
     },
     "output_type": "display_data"
    }
   ],
   "source": [
    "# Create the Scatter Plot\n",
    "plt.scatter(city_df[\"lat\"], city_df[\"humidity\"], facecolor= \"blue\")\n",
    "plt.title(\"City Latitude vs. Humidity (10/18/20)\")\n",
    "plt.xlabel(\"Latitude\")\n",
    "plt.ylabel(\"Humidity (%)\")\n",
    "plt.grid()\n",
    "#plt.savefig(Images/CityLatitudevsHumidity.png)"
   ]
  },
  {
   "cell_type": "markdown",
   "metadata": {},
   "source": [
    "## Latitude vs. Cloudiness Plot"
   ]
  },
  {
   "cell_type": "code",
   "execution_count": 19,
   "metadata": {},
   "outputs": [
    {
     "data": {
      "image/png": "[encoded data removed]",
      "text/plain": [
       "<Figure size 432x288 with 1 Axes>"
      ]
     },
     "metadata": {
      "needs_background": "light"
     },
     "output_type": "display_data"
    }
   ],
   "source": [
    "# Create the Scatter Plot\n",
    "plt.scatter(city_df[\"lat\"], city_df[\"cloudiness\"], facecolor= \"blue\")\n",
    "plt.title(\"City Latitude vs. Cloudiness (10/18/20)\")\n",
    "plt.xlabel(\"Latitude\")\n",
    "plt.ylabel(\"Cloudiness (%)\")\n",
    "plt.grid()\n",
    "#plt.savefig(Images/CityLatitudevsCloudiness.png)"
   ]
  },
  {
   "cell_type": "markdown",
   "metadata": {},
   "source": [
    "## Latitude vs. Wind Speed Plot"
   ]
  },
  {
   "cell_type": "code",
   "execution_count": 20,
   "metadata": {},
   "outputs": [
    {
     "data": {
      "image/png": "[encoded data removed]",
      "text/plain": [
       "<Figure size 432x288 with 1 Axes>"
      ]
     },
     "metadata": {
      "needs_background": "light"
     },
     "output_type": "display_data"
    }
   ],
   "source": [
    "# Create the Scatter Plot\n",
    "plt.scatter(city_df[\"lat\"], city_df[\"wind_speed\"], facecolor= \"blue\")\n",
    "plt.title(\"City Latitude vs. Wind Speed (10/18/20)\")\n",
    "plt.xlabel(\"Latitude\")\n",
    "plt.ylabel(\"Wind Speed (mph)\")\n",
    "plt.grid()\n",
    "#plt.savefig(Images/CityLatitudevsWindSpeed.png)"
   ]
  },
  {
   "cell_type": "markdown",
   "metadata": {},
   "source": [
    "## Linear Regression"
   ]
  },
  {
   "cell_type": "code",
   "execution_count": 21,
   "metadata": {},
   "outputs": [],
   "source": [
    "# Create a northern and southern hemisphere DataFrame\n",
    "northern_hem = city_df.loc[city_df[\"lat\"]>= 0]\n",
    "southern_hem = city_df.loc[city_df[\"lat\"]< 0]"
   ]
  },
  {
   "cell_type": "code",
   "execution_count": 25,
   "metadata": {},
   "outputs": [],
   "source": [
    "def linear_regression(x, y):\n",
    "    print(f\"The r-squared is : {round(st.pearsonr(x, y)[0], 2)}\")\n",
    "    (slope, intercept, rvalue, pvalue, stderr) = linregress(x, y)\n",
    "    regress_values = x * slope + intercept\n",
    "    line_eq = \"y = \" + str(round(slope,2)) + \"x + \" + str(round(intercept, 2))\n",
    "    plt.scatter(x, y)\n",
    "    plt.plot (x, regress_values, \"r-\")\n",
    "    return line_eq\n",
    "\n",
    "# Annotating\n",
    "def annotate(line_eq, a, b):\n",
    "    plt.annotate(line_eq,(a,b), fontsize=15,color=\"red\")"
   ]
  },
  {
   "cell_type": "markdown",
   "metadata": {},
   "source": [
    "####  Northern Hemisphere - Max Temp vs. Latitude Linear Regression"
   ]
  },
  {
   "cell_type": "code",
   "execution_count": 30,
   "metadata": {},
   "outputs": [
    {
     "name": "stdout",
     "output_type": "stream",
     "text": [
      "The r-squared is : -0.06\n"
     ]
    },
    {
     "data": {
      "text/plain": [
       "Text(0, 0.5, 'Max Temp (C)')"
      ]
     },
     "execution_count": 30,
     "metadata": {},
     "output_type": "execute_result"
    },
    {
     "data": {
      "image/png": "[encoded data removed]",
      "text/plain": [
       "<Figure size 432x288 with 1 Axes>"
      ]
     },
     "metadata": {
      "needs_background": "light"
     },
     "output_type": "display_data"
    }
   ],
   "source": [
    "equation = linear_regression(northern_hem[\"lat\"], northern_hem[\"temp_max\"])\n",
    "annotate(equation, 0, 0)\n",
    "\n",
    "plt.title(\"Northern Hemisphere: Max Temperature vs Latitude\")\n",
    "plt.xlabel(\"Latitude\")\n",
    "plt.ylabel(\"Max Temp (C)\")\n",
    "#plt.savefig(Images/NorthernMaxTempvsLatitude.png)"
   ]
  },
  {
   "cell_type": "markdown",
   "metadata": {},
   "source": [
    "####  Southern Hemisphere - Max Temp vs. Latitude Linear Regression"
   ]
  },
  {
   "cell_type": "code",
   "execution_count": 26,
   "metadata": {},
   "outputs": [
    {
     "name": "stdout",
     "output_type": "stream",
     "text": [
      "The r-value is: 0.6082708688906918\n"
     ]
    },
    {
     "data": {
      "image/png": "[encoded data removed]",
      "text/plain": [
       "<Figure size 432x288 with 1 Axes>"
      ]
     },
     "metadata": {
      "needs_background": "light"
     },
     "output_type": "display_data"
    }
   ],
   "source": []
  },
  {
   "cell_type": "markdown",
   "metadata": {},
   "source": [
    "####  Northern Hemisphere - Humidity (%) vs. Latitude Linear Regression"
   ]
  },
  {
   "cell_type": "code",
   "execution_count": 27,
   "metadata": {},
   "outputs": [
    {
     "name": "stdout",
     "output_type": "stream",
     "text": [
      "The r-value is: 0.000543987878808455\n"
     ]
    },
    {
     "data": {
      "image/png": "[encoded data removed]",
      "text/plain": [
       "<Figure size 432x288 with 1 Axes>"
      ]
     },
     "metadata": {
      "needs_background": "light"
     },
     "output_type": "display_data"
    }
   ],
   "source": []
  },
  {
   "cell_type": "markdown",
   "metadata": {},
   "source": [
    "####  Southern Hemisphere - Humidity (%) vs. Latitude Linear Regression"
   ]
  },
  {
   "cell_type": "code",
   "execution_count": 28,
   "metadata": {},
   "outputs": [
    {
     "name": "stdout",
     "output_type": "stream",
     "text": [
      "The r-value is: 0.014985174297345524\n"
     ]
    },
    {
     "data": {
      "image/png": "[encoded data removed]",
      "text/plain": [
       "<Figure size 432x288 with 1 Axes>"
      ]
     },
     "metadata": {
      "needs_background": "light"
     },
     "output_type": "display_data"
    }
   ],
   "source": []
  },
  {
   "cell_type": "markdown",
   "metadata": {},
   "source": [
    "####  Northern Hemisphere - Cloudiness (%) vs. Latitude Linear Regression"
   ]
  },
  {
   "cell_type": "code",
   "execution_count": 29,
   "metadata": {},
   "outputs": [
    {
     "name": "stdout",
     "output_type": "stream",
     "text": [
      "The r-value is: 0.0020898727664228514\n"
     ]
    },
    {
     "data": {
      "image/png": "[encoded data removed]",
      "text/plain": [
       "<Figure size 432x288 with 1 Axes>"
      ]
     },
     "metadata": {
      "needs_background": "light"
     },
     "output_type": "display_data"
    }
   ],
   "source": []
  },
  {
   "cell_type": "markdown",
   "metadata": {},
   "source": [
    "####  Southern Hemisphere - Cloudiness (%) vs. Latitude Linear Regression"
   ]
  },
  {
   "cell_type": "code",
   "execution_count": 30,
   "metadata": {},
   "outputs": [
    {
     "name": "stdout",
     "output_type": "stream",
     "text": [
      "The r-value is: 0.0035263772085582894\n"
     ]
    },
    {
     "data": {
      "image/png": "[encoded data removed]",
      "text/plain": [
       "<Figure size 432x288 with 1 Axes>"
      ]
     },
     "metadata": {
      "needs_background": "light"
     },
     "output_type": "display_data"
    }
   ],
   "source": []
  },
  {
   "cell_type": "markdown",
   "metadata": {},
   "source": [
    "####  Northern Hemisphere - Wind Speed (mph) vs. Latitude Linear Regression"
   ]
  },
  {
   "cell_type": "code",
   "execution_count": 31,
   "metadata": {},
   "outputs": [
    {
     "name": "stdout",
     "output_type": "stream",
     "text": [
      "The r-value is: 0.04019723576144484\n"
     ]
    },
    {
     "data": {
      "image/png": "[encoded data removed]",
      "text/plain": [
       "<Figure size 432x288 with 1 Axes>"
      ]
     },
     "metadata": {
      "needs_background": "light"
     },
     "output_type": "display_data"
    }
   ],
   "source": []
  },
  {
   "cell_type": "markdown",
   "metadata": {},
   "source": [
    "####  Southern Hemisphere - Wind Speed (mph) vs. Latitude Linear Regression"
   ]
  },
  {
   "cell_type": "code",
   "execution_count": 32,
   "metadata": {},
   "outputs": [
    {
     "name": "stdout",
     "output_type": "stream",
     "text": [
      "The r-value is: 0.017128274759839232\n"
     ]
    },
    {
     "data": {
      "image/png": "[encoded data removed]",
      "text/plain": [
       "<Figure size 432x288 with 1 Axes>"
      ]
     },
     "metadata": {
      "needs_background": "light"
     },
     "output_type": "display_data"
    }
   ],
   "source": []
  },
  {
   "cell_type": "code",
   "execution_count": null,
   "metadata": {},
   "outputs": [],
   "source": []
  }
 ],
 "metadata": {
  "anaconda-cloud": {},
  "kernel_info": {
   "name": "python3"
  },
  "kernelspec": {
   "display_name": "Python [conda env:PythonData] *",
   "language": "python",
   "name": "conda-env-PythonData-py"
  },
  "language_info": {
   "codemirror_mode": {
    "name": "ipython",
    "version": 3
   },
   "file_extension": ".py",
   "mimetype": "text/x-python",
   "name": "python",
   "nbconvert_exporter": "python",
   "pygments_lexer": "ipython3",
   "version": "3.6.12"
  },
  "latex_envs": {
   "LaTeX_envs_menu_present": true,
   "autoclose": false,
   "autocomplete": true,
   "bibliofile": "biblio.bib",
   "cite_by": "apalike",
   "current_citInitial": 1,
   "eqLabelWithNumbers": true,
   "eqNumInitial": 1,
   "hotkeys": {
    "equation": "Ctrl-E",
    "itemize": "Ctrl-I"
   },
   "labels_anchors": false,
   "latex_user_defs": false,
   "report_style_numbering": false,
   "user_envs_cfg": false
  },
  "nteract": {
   "version": "0.12.3"
  }
 },
 "nbformat": 4,
 "nbformat_minor": 2
}
